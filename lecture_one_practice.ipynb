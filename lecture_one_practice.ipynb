{
 "cells": [
  {
   "cell_type": "code",
   "id": "initial_id",
   "metadata": {
    "collapsed": true,
    "ExecuteTime": {
     "end_time": "2024-11-09T03:17:09.588698Z",
     "start_time": "2024-11-09T03:17:09.584024Z"
    }
   },
   "source": "import numpy as np",
   "outputs": [],
   "execution_count": 10
  },
  {
   "metadata": {
    "ExecuteTime": {
     "end_time": "2024-11-09T03:18:39.411763Z",
     "start_time": "2024-11-09T03:18:39.407749Z"
    }
   },
   "cell_type": "code",
   "source": [
    "v = np.array([[1,2,3], [4,5,6], [7,8,9]])\n",
    "print(v)"
   ],
   "id": "3b3f1b7bc45e8612",
   "outputs": [
    {
     "name": "stdout",
     "output_type": "stream",
     "text": [
      "[[1 2 3]\n",
      " [4 5 6]\n",
      " [7 8 9]]\n"
     ]
    }
   ],
   "execution_count": 16
  },
  {
   "metadata": {
    "ExecuteTime": {
     "end_time": "2024-11-09T03:19:18.790440Z",
     "start_time": "2024-11-09T03:19:18.786376Z"
    }
   },
   "cell_type": "code",
   "source": "print(v.shape)",
   "id": "7f6e5a32f37ded25",
   "outputs": [
    {
     "name": "stdout",
     "output_type": "stream",
     "text": [
      "(3, 3)\n"
     ]
    }
   ],
   "execution_count": 19
  },
  {
   "metadata": {
    "ExecuteTime": {
     "end_time": "2024-11-09T03:21:56.534626Z",
     "start_time": "2024-11-09T03:21:56.528862Z"
    }
   },
   "cell_type": "code",
   "source": [
    "x = np.array([1, 2, 3])\n",
    "y = np.array([4, 5, 6])\n",
    "z = x + y\n",
    "print(z)"
   ],
   "id": "9e55e0e0f0a2ee6",
   "outputs": [
    {
     "name": "stdout",
     "output_type": "stream",
     "text": [
      "[5 7 9]\n"
     ]
    }
   ],
   "execution_count": 21
  },
  {
   "metadata": {
    "ExecuteTime": {
     "end_time": "2024-11-09T03:37:37.563275Z",
     "start_time": "2024-11-09T03:37:37.559156Z"
    }
   },
   "cell_type": "code",
   "source": "print(z+2)",
   "id": "86bc657580431aa9",
   "outputs": [
    {
     "name": "stdout",
     "output_type": "stream",
     "text": [
      "[ 7  9 11]\n"
     ]
    }
   ],
   "execution_count": 23
  },
  {
   "metadata": {
    "ExecuteTime": {
     "end_time": "2024-11-09T03:38:22.315848Z",
     "start_time": "2024-11-09T03:38:22.307542Z"
    }
   },
   "cell_type": "code",
   "source": [
    "x = np.linspace(0, 1, 5)\n",
    "print(x)"
   ],
   "id": "1c02aa1d0c323724",
   "outputs": [
    {
     "name": "stdout",
     "output_type": "stream",
     "text": [
      "[0.   0.25 0.5  0.75 1.  ]\n"
     ]
    }
   ],
   "execution_count": 24
  },
  {
   "metadata": {
    "ExecuteTime": {
     "end_time": "2024-11-09T03:38:39.408835Z",
     "start_time": "2024-11-09T03:38:39.398508Z"
    }
   },
   "cell_type": "code",
   "source": "print(x ** 2)",
   "id": "3143db5d818683dd",
   "outputs": [
    {
     "name": "stdout",
     "output_type": "stream",
     "text": [
      "[0.     0.0625 0.25   0.5625 1.    ]\n"
     ]
    }
   ],
   "execution_count": 25
  },
  {
   "metadata": {
    "ExecuteTime": {
     "end_time": "2024-11-09T03:41:01.969182Z",
     "start_time": "2024-11-09T03:41:01.965878Z"
    }
   },
   "cell_type": "code",
   "source": [
    "w = np.sin(x)\n",
    "print(w)"
   ],
   "id": "b0695b376718bca1",
   "outputs": [
    {
     "name": "stdout",
     "output_type": "stream",
     "text": [
      "[0.         0.24740396 0.47942554 0.68163876 0.84147098]\n"
     ]
    }
   ],
   "execution_count": 27
  },
  {
   "metadata": {
    "ExecuteTime": {
     "end_time": "2024-11-09T03:43:52.914909Z",
     "start_time": "2024-11-09T03:43:52.911290Z"
    }
   },
   "cell_type": "code",
   "source": [
    "x = np.array([4,3,5,2,1])\n",
    "print(np.max(x))\n",
    "print(np.sort(x))\n",
    "w = np.array([3, 4, 1, 2, 2, 4])\n",
    "print(np.unique(w))"
   ],
   "id": "df25517f15be9386",
   "outputs": [
    {
     "name": "stdout",
     "output_type": "stream",
     "text": [
      "5\n",
      "[1 2 3 4 5]\n",
      "[1 2 3 4]\n"
     ]
    }
   ],
   "execution_count": 34
  },
  {
   "metadata": {
    "ExecuteTime": {
     "end_time": "2024-11-09T04:02:04.997472Z",
     "start_time": "2024-11-09T04:02:04.992286Z"
    }
   },
   "cell_type": "code",
   "source": [
    "X = np.arange(1,37).reshape(6,6)\n",
    "print(X)"
   ],
   "id": "c9ee84e8b55a99b8",
   "outputs": [
    {
     "name": "stdout",
     "output_type": "stream",
     "text": [
      "[[ 1  2  3  4  5  6]\n",
      " [ 7  8  9 10 11 12]\n",
      " [13 14 15 16 17 18]\n",
      " [19 20 21 22 23 24]\n",
      " [25 26 27 28 29 30]\n",
      " [31 32 33 34 35 36]]\n"
     ]
    }
   ],
   "execution_count": 36
  },
  {
   "metadata": {
    "ExecuteTime": {
     "end_time": "2024-11-09T04:13:13.523660Z",
     "start_time": "2024-11-09T04:13:13.520446Z"
    }
   },
   "cell_type": "code",
   "source": [
    "V = np.array([10, 4])\n",
    "W = np.array([4, 8])\n",
    "Z = V-W\n",
    "print(Z)"
   ],
   "id": "96b04aae20f5d66d",
   "outputs": [
    {
     "name": "stdout",
     "output_type": "stream",
     "text": [
      "[ 6 -4]\n"
     ]
    }
   ],
   "execution_count": 42
  },
  {
   "metadata": {
    "ExecuteTime": {
     "end_time": "2024-11-10T01:11:52.432291Z",
     "start_time": "2024-11-10T01:11:52.420298Z"
    }
   },
   "cell_type": "code",
   "source": [
    "import pandas as pd\n",
    "data = pd.DataFrame (\n",
    "        {'id': [ 1,2,3,4,5,6,7,8] ,\n",
    "        'Label': ['green','green','green','green',\n",
    "                  'red','red','red','red'],\n",
    "        'Height': [5, 5.5, 5.33, 5.75,\n",
    "                   6.00, 5.92, 5.58, 5.92],\n",
    "        'Weight': [100, 150, 130, 150 ,\n",
    "                   180, 190, 170, 165],\n",
    "         \n",
    "        'Foot': [6, 8, 7, 9, 13, 11, 12, 10]} ,\n",
    "         columns = ['id','Height','Weight',\n",
    "                      'Foot','Label'] )\n",
    "print(data)"
   ],
   "id": "38be84fcbfd200bd",
   "outputs": [
    {
     "name": "stdout",
     "output_type": "stream",
     "text": [
      "   id  Height  Weight  Foot  Label\n",
      "0   1    5.00     100     6  green\n",
      "1   2    5.50     150     8  green\n",
      "2   3    5.33     130     7  green\n",
      "3   4    5.75     150     9  green\n",
      "4   5    6.00     180    13    red\n",
      "5   6    5.92     190    11    red\n",
      "6   7    5.58     170    12    red\n",
      "7   8    5.92     165    10    red\n"
     ]
    }
   ],
   "execution_count": 45
  },
  {
   "metadata": {
    "ExecuteTime": {
     "end_time": "2024-11-10T01:25:12.875153Z",
     "start_time": "2024-11-10T01:25:12.856201Z"
    }
   },
   "cell_type": "code",
   "source": "data.describe()",
   "id": "80d1db296d97701d",
   "outputs": [
    {
     "data": {
      "text/plain": [
       "            id    Height      Weight      Foot\n",
       "count  8.00000  8.000000    8.000000   8.00000\n",
       "mean   4.50000  5.625000  154.375000   9.50000\n",
       "std    2.44949  0.343428   28.962722   2.44949\n",
       "min    1.00000  5.000000  100.000000   6.00000\n",
       "25%    2.75000  5.457500  145.000000   7.75000\n",
       "50%    4.50000  5.665000  157.500000   9.50000\n",
       "75%    6.25000  5.920000  172.500000  11.25000\n",
       "max    8.00000  6.000000  190.000000  13.00000"
      ],
      "text/html": [
       "<div>\n",
       "<style scoped>\n",
       "    .dataframe tbody tr th:only-of-type {\n",
       "        vertical-align: middle;\n",
       "    }\n",
       "\n",
       "    .dataframe tbody tr th {\n",
       "        vertical-align: top;\n",
       "    }\n",
       "\n",
       "    .dataframe thead th {\n",
       "        text-align: right;\n",
       "    }\n",
       "</style>\n",
       "<table border=\"1\" class=\"dataframe\">\n",
       "  <thead>\n",
       "    <tr style=\"text-align: right;\">\n",
       "      <th></th>\n",
       "      <th>id</th>\n",
       "      <th>Height</th>\n",
       "      <th>Weight</th>\n",
       "      <th>Foot</th>\n",
       "    </tr>\n",
       "  </thead>\n",
       "  <tbody>\n",
       "    <tr>\n",
       "      <th>count</th>\n",
       "      <td>8.00000</td>\n",
       "      <td>8.000000</td>\n",
       "      <td>8.000000</td>\n",
       "      <td>8.00000</td>\n",
       "    </tr>\n",
       "    <tr>\n",
       "      <th>mean</th>\n",
       "      <td>4.50000</td>\n",
       "      <td>5.625000</td>\n",
       "      <td>154.375000</td>\n",
       "      <td>9.50000</td>\n",
       "    </tr>\n",
       "    <tr>\n",
       "      <th>std</th>\n",
       "      <td>2.44949</td>\n",
       "      <td>0.343428</td>\n",
       "      <td>28.962722</td>\n",
       "      <td>2.44949</td>\n",
       "    </tr>\n",
       "    <tr>\n",
       "      <th>min</th>\n",
       "      <td>1.00000</td>\n",
       "      <td>5.000000</td>\n",
       "      <td>100.000000</td>\n",
       "      <td>6.00000</td>\n",
       "    </tr>\n",
       "    <tr>\n",
       "      <th>25%</th>\n",
       "      <td>2.75000</td>\n",
       "      <td>5.457500</td>\n",
       "      <td>145.000000</td>\n",
       "      <td>7.75000</td>\n",
       "    </tr>\n",
       "    <tr>\n",
       "      <th>50%</th>\n",
       "      <td>4.50000</td>\n",
       "      <td>5.665000</td>\n",
       "      <td>157.500000</td>\n",
       "      <td>9.50000</td>\n",
       "    </tr>\n",
       "    <tr>\n",
       "      <th>75%</th>\n",
       "      <td>6.25000</td>\n",
       "      <td>5.920000</td>\n",
       "      <td>172.500000</td>\n",
       "      <td>11.25000</td>\n",
       "    </tr>\n",
       "    <tr>\n",
       "      <th>max</th>\n",
       "      <td>8.00000</td>\n",
       "      <td>6.000000</td>\n",
       "      <td>190.000000</td>\n",
       "      <td>13.00000</td>\n",
       "    </tr>\n",
       "  </tbody>\n",
       "</table>\n",
       "</div>"
      ]
     },
     "execution_count": 46,
     "metadata": {},
     "output_type": "execute_result"
    }
   ],
   "execution_count": 46
  },
  {
   "metadata": {
    "ExecuteTime": {
     "end_time": "2024-11-10T01:26:26.430602Z",
     "start_time": "2024-11-10T01:26:26.425276Z"
    }
   },
   "cell_type": "code",
   "source": [
    "height = np.array([5,5.5,5.33,5.75,6,5.92,5.58,5.92])\n",
    "weight = np.array([6,8,7,9,13,11,12,10])\n",
    "correlation = np.corrcoef(height,weight)[0][1] #Pearson correlation\n",
    "print(correlation)"
   ],
   "id": "b05646d872289948",
   "outputs": [
    {
     "name": "stdout",
     "output_type": "stream",
     "text": [
      "0.8219319721553828\n"
     ]
    }
   ],
   "execution_count": 51
  },
  {
   "metadata": {},
   "cell_type": "code",
   "outputs": [],
   "execution_count": null,
   "source": "",
   "id": "f1c34e66eef99c3"
  }
 ],
 "metadata": {
  "kernelspec": {
   "display_name": "Python 3",
   "language": "python",
   "name": "python3"
  },
  "language_info": {
   "codemirror_mode": {
    "name": "ipython",
    "version": 2
   },
   "file_extension": ".py",
   "mimetype": "text/x-python",
   "name": "python",
   "nbconvert_exporter": "python",
   "pygments_lexer": "ipython2",
   "version": "2.7.6"
  }
 },
 "nbformat": 4,
 "nbformat_minor": 5
}
