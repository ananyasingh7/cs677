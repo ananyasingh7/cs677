{
 "cells": [
  {
   "cell_type": "code",
   "id": "initial_id",
   "metadata": {
    "collapsed": true,
    "ExecuteTime": {
     "end_time": "2024-12-09T23:14:51.784971Z",
     "start_time": "2024-12-09T23:14:51.777446Z"
    }
   },
   "source": [
    "'''\n",
    "Name: Ananya Singh\n",
    "Class: CS677\n",
    "Date: 12/08/2024\n",
    "Homework Assignment #6\n",
    "Description of Problem: Given a seeds dataset, we will implement k-means clustering and use it to construct a multi-label classifier to determine the variety of wheat\n",
    "'''"
   ],
   "outputs": [
    {
     "data": {
      "text/plain": [
       "'\\nName: Ananya Singh\\nClass: CS677\\nDate: 12/08/2024\\nHomework Assignment #6\\nDescription of Problem: Given a seeds dataset, we will implement k-means clustering and use it to construct a multi-label classifier to determine the variety of wheat\\n'"
      ]
     },
     "execution_count": 1,
     "metadata": {},
     "output_type": "execute_result"
    }
   ],
   "execution_count": 1
  },
  {
   "metadata": {
    "ExecuteTime": {
     "end_time": "2024-12-09T23:14:52.222161Z",
     "start_time": "2024-12-09T23:14:52.218415Z"
    }
   },
   "cell_type": "code",
   "source": [
    "'''\n",
    "Note: Regarding Question 3.3 - 3.5, you only need to use the two randomly selected features selected in Question 3.2 for the remainder of the assignment (Questions 3.3 - 3.5). Given that you're to do this selection randomly in Question 3.2, I suggest that you make sure that when we re-run the code the same two features are selected using whatever function/code you decide to use to pick the two variables (use packages like random to accomplish this). That way, your analysis will match up when we re-run your code.\n",
    "'''"
   ],
   "id": "9742ea76fc28dc9e",
   "outputs": [
    {
     "data": {
      "text/plain": [
       "\"\\nNote: Regarding Question 3.3 - 3.5, you only need to use the two randomly selected features selected in Question 3.2 for the remainder of the assignment (Questions 3.3 - 3.5). Given that you're to do this selection randomly in Question 3.2, I suggest that you make sure that when we re-run the code the same two features are selected using whatever function/code you decide to use to pick the two variables (use packages like random to accomplish this). That way, your analysis will match up when we re-run your code.\\n\""
      ]
     },
     "execution_count": 2,
     "metadata": {},
     "output_type": "execute_result"
    }
   ],
   "execution_count": 2
  },
  {
   "metadata": {
    "ExecuteTime": {
     "end_time": "2024-12-09T23:14:52.685486Z",
     "start_time": "2024-12-09T23:14:52.682820Z"
    }
   },
   "cell_type": "code",
   "source": [
    "'''\n",
    "My Buid ends with 8 therefore my remainder is 2. \n",
    "R= 2: class L= 1 (negative) and L= 3 (positive)\n",
    "'''"
   ],
   "id": "5e46c2607eb8274c",
   "outputs": [
    {
     "data": {
      "text/plain": [
       "'\\nMy Buid ends with 8 therefore my remainder is 2. \\nR= 2: class L= 1 (negative) and L= 3 (positive)\\n'"
      ]
     },
     "execution_count": 3,
     "metadata": {},
     "output_type": "execute_result"
    }
   ],
   "execution_count": 3
  },
  {
   "metadata": {
    "ExecuteTime": {
     "end_time": "2024-12-09T23:14:53.794069Z",
     "start_time": "2024-12-09T23:14:53.503763Z"
    }
   },
   "cell_type": "code",
   "source": [
    "import pandas as pd\n",
    "columns = ['area', 'perimeter', 'compactness', 'length', 'width', 'asymmetry', 'groove', 'class']\n",
    "data = pd.read_csv('seeds_dataset.txt', sep='\\s+', names=columns)\n",
    "data.head()"
   ],
   "id": "a6fa183ff18f01d7",
   "outputs": [
    {
     "data": {
      "text/plain": [
       "    area  perimeter  compactness  length  width  asymmetry  groove  class\n",
       "0  15.26      14.84       0.8710   5.763  3.312      2.221   5.220      1\n",
       "1  14.88      14.57       0.8811   5.554  3.333      1.018   4.956      1\n",
       "2  14.29      14.09       0.9050   5.291  3.337      2.699   4.825      1\n",
       "3  13.84      13.94       0.8955   5.324  3.379      2.259   4.805      1\n",
       "4  16.14      14.99       0.9034   5.658  3.562      1.355   5.175      1"
      ],
      "text/html": [
       "<div>\n",
       "<style scoped>\n",
       "    .dataframe tbody tr th:only-of-type {\n",
       "        vertical-align: middle;\n",
       "    }\n",
       "\n",
       "    .dataframe tbody tr th {\n",
       "        vertical-align: top;\n",
       "    }\n",
       "\n",
       "    .dataframe thead th {\n",
       "        text-align: right;\n",
       "    }\n",
       "</style>\n",
       "<table border=\"1\" class=\"dataframe\">\n",
       "  <thead>\n",
       "    <tr style=\"text-align: right;\">\n",
       "      <th></th>\n",
       "      <th>area</th>\n",
       "      <th>perimeter</th>\n",
       "      <th>compactness</th>\n",
       "      <th>length</th>\n",
       "      <th>width</th>\n",
       "      <th>asymmetry</th>\n",
       "      <th>groove</th>\n",
       "      <th>class</th>\n",
       "    </tr>\n",
       "  </thead>\n",
       "  <tbody>\n",
       "    <tr>\n",
       "      <th>0</th>\n",
       "      <td>15.26</td>\n",
       "      <td>14.84</td>\n",
       "      <td>0.8710</td>\n",
       "      <td>5.763</td>\n",
       "      <td>3.312</td>\n",
       "      <td>2.221</td>\n",
       "      <td>5.220</td>\n",
       "      <td>1</td>\n",
       "    </tr>\n",
       "    <tr>\n",
       "      <th>1</th>\n",
       "      <td>14.88</td>\n",
       "      <td>14.57</td>\n",
       "      <td>0.8811</td>\n",
       "      <td>5.554</td>\n",
       "      <td>3.333</td>\n",
       "      <td>1.018</td>\n",
       "      <td>4.956</td>\n",
       "      <td>1</td>\n",
       "    </tr>\n",
       "    <tr>\n",
       "      <th>2</th>\n",
       "      <td>14.29</td>\n",
       "      <td>14.09</td>\n",
       "      <td>0.9050</td>\n",
       "      <td>5.291</td>\n",
       "      <td>3.337</td>\n",
       "      <td>2.699</td>\n",
       "      <td>4.825</td>\n",
       "      <td>1</td>\n",
       "    </tr>\n",
       "    <tr>\n",
       "      <th>3</th>\n",
       "      <td>13.84</td>\n",
       "      <td>13.94</td>\n",
       "      <td>0.8955</td>\n",
       "      <td>5.324</td>\n",
       "      <td>3.379</td>\n",
       "      <td>2.259</td>\n",
       "      <td>4.805</td>\n",
       "      <td>1</td>\n",
       "    </tr>\n",
       "    <tr>\n",
       "      <th>4</th>\n",
       "      <td>16.14</td>\n",
       "      <td>14.99</td>\n",
       "      <td>0.9034</td>\n",
       "      <td>5.658</td>\n",
       "      <td>3.562</td>\n",
       "      <td>1.355</td>\n",
       "      <td>5.175</td>\n",
       "      <td>1</td>\n",
       "    </tr>\n",
       "  </tbody>\n",
       "</table>\n",
       "</div>"
      ]
     },
     "execution_count": 4,
     "metadata": {},
     "output_type": "execute_result"
    }
   ],
   "execution_count": 4
  },
  {
   "metadata": {
    "ExecuteTime": {
     "end_time": "2024-12-09T23:15:02.105028Z",
     "start_time": "2024-12-09T23:15:02.091212Z"
    }
   },
   "cell_type": "code",
   "source": "data.info()",
   "id": "717241de38f52709",
   "outputs": [
    {
     "name": "stdout",
     "output_type": "stream",
     "text": [
      "<class 'pandas.core.frame.DataFrame'>\n",
      "RangeIndex: 210 entries, 0 to 209\n",
      "Data columns (total 8 columns):\n",
      " #   Column       Non-Null Count  Dtype  \n",
      "---  ------       --------------  -----  \n",
      " 0   area         210 non-null    float64\n",
      " 1   perimeter    210 non-null    float64\n",
      " 2   compactness  210 non-null    float64\n",
      " 3   length       210 non-null    float64\n",
      " 4   width        210 non-null    float64\n",
      " 5   asymmetry    210 non-null    float64\n",
      " 6   groove       210 non-null    float64\n",
      " 7   class        210 non-null    int64  \n",
      "dtypes: float64(7), int64(1)\n",
      "memory usage: 13.2 KB\n"
     ]
    }
   ],
   "execution_count": 5
  },
  {
   "metadata": {
    "ExecuteTime": {
     "end_time": "2024-12-09T23:15:03.454243Z",
     "start_time": "2024-12-09T23:15:03.446025Z"
    }
   },
   "cell_type": "code",
   "source": [
    "# filter for classes 1 and 3\n",
    "filtered_data = data[data['class'].isin([1, 3])]\n",
    "filtered_data.tail()"
   ],
   "id": "a8a7ed0770c0d4a6",
   "outputs": [
    {
     "data": {
      "text/plain": [
       "      area  perimeter  compactness  length  width  asymmetry  groove  class\n",
       "205  12.19      13.20       0.8783   5.137  2.981      3.631   4.870      3\n",
       "206  11.23      12.88       0.8511   5.140  2.795      4.325   5.003      3\n",
       "207  13.20      13.66       0.8883   5.236  3.232      8.315   5.056      3\n",
       "208  11.84      13.21       0.8521   5.175  2.836      3.598   5.044      3\n",
       "209  12.30      13.34       0.8684   5.243  2.974      5.637   5.063      3"
      ],
      "text/html": [
       "<div>\n",
       "<style scoped>\n",
       "    .dataframe tbody tr th:only-of-type {\n",
       "        vertical-align: middle;\n",
       "    }\n",
       "\n",
       "    .dataframe tbody tr th {\n",
       "        vertical-align: top;\n",
       "    }\n",
       "\n",
       "    .dataframe thead th {\n",
       "        text-align: right;\n",
       "    }\n",
       "</style>\n",
       "<table border=\"1\" class=\"dataframe\">\n",
       "  <thead>\n",
       "    <tr style=\"text-align: right;\">\n",
       "      <th></th>\n",
       "      <th>area</th>\n",
       "      <th>perimeter</th>\n",
       "      <th>compactness</th>\n",
       "      <th>length</th>\n",
       "      <th>width</th>\n",
       "      <th>asymmetry</th>\n",
       "      <th>groove</th>\n",
       "      <th>class</th>\n",
       "    </tr>\n",
       "  </thead>\n",
       "  <tbody>\n",
       "    <tr>\n",
       "      <th>205</th>\n",
       "      <td>12.19</td>\n",
       "      <td>13.20</td>\n",
       "      <td>0.8783</td>\n",
       "      <td>5.137</td>\n",
       "      <td>2.981</td>\n",
       "      <td>3.631</td>\n",
       "      <td>4.870</td>\n",
       "      <td>3</td>\n",
       "    </tr>\n",
       "    <tr>\n",
       "      <th>206</th>\n",
       "      <td>11.23</td>\n",
       "      <td>12.88</td>\n",
       "      <td>0.8511</td>\n",
       "      <td>5.140</td>\n",
       "      <td>2.795</td>\n",
       "      <td>4.325</td>\n",
       "      <td>5.003</td>\n",
       "      <td>3</td>\n",
       "    </tr>\n",
       "    <tr>\n",
       "      <th>207</th>\n",
       "      <td>13.20</td>\n",
       "      <td>13.66</td>\n",
       "      <td>0.8883</td>\n",
       "      <td>5.236</td>\n",
       "      <td>3.232</td>\n",
       "      <td>8.315</td>\n",
       "      <td>5.056</td>\n",
       "      <td>3</td>\n",
       "    </tr>\n",
       "    <tr>\n",
       "      <th>208</th>\n",
       "      <td>11.84</td>\n",
       "      <td>13.21</td>\n",
       "      <td>0.8521</td>\n",
       "      <td>5.175</td>\n",
       "      <td>2.836</td>\n",
       "      <td>3.598</td>\n",
       "      <td>5.044</td>\n",
       "      <td>3</td>\n",
       "    </tr>\n",
       "    <tr>\n",
       "      <th>209</th>\n",
       "      <td>12.30</td>\n",
       "      <td>13.34</td>\n",
       "      <td>0.8684</td>\n",
       "      <td>5.243</td>\n",
       "      <td>2.974</td>\n",
       "      <td>5.637</td>\n",
       "      <td>5.063</td>\n",
       "      <td>3</td>\n",
       "    </tr>\n",
       "  </tbody>\n",
       "</table>\n",
       "</div>"
      ]
     },
     "execution_count": 6,
     "metadata": {},
     "output_type": "execute_result"
    }
   ],
   "execution_count": 6
  },
  {
   "metadata": {
    "ExecuteTime": {
     "end_time": "2024-12-09T23:15:06.328852Z",
     "start_time": "2024-12-09T23:15:06.320130Z"
    }
   },
   "cell_type": "code",
   "source": [
    "filtered_data['class'] = filtered_data['class'].map({1: 0, 3: 1})\n",
    "filtered_data.tail()"
   ],
   "id": "f99c3dade7284131",
   "outputs": [
    {
     "name": "stderr",
     "output_type": "stream",
     "text": [
      "/var/folders/04/pnwc2yqj67d2n1jpm5zhwh8c0000gn/T/ipykernel_68927/2391516128.py:1: SettingWithCopyWarning: \n",
      "A value is trying to be set on a copy of a slice from a DataFrame.\n",
      "Try using .loc[row_indexer,col_indexer] = value instead\n",
      "\n",
      "See the caveats in the documentation: https://pandas.pydata.org/pandas-docs/stable/user_guide/indexing.html#returning-a-view-versus-a-copy\n",
      "  filtered_data['class'] = filtered_data['class'].map({1: 0, 3: 1})\n"
     ]
    },
    {
     "data": {
      "text/plain": [
       "      area  perimeter  compactness  length  width  asymmetry  groove  class\n",
       "205  12.19      13.20       0.8783   5.137  2.981      3.631   4.870      1\n",
       "206  11.23      12.88       0.8511   5.140  2.795      4.325   5.003      1\n",
       "207  13.20      13.66       0.8883   5.236  3.232      8.315   5.056      1\n",
       "208  11.84      13.21       0.8521   5.175  2.836      3.598   5.044      1\n",
       "209  12.30      13.34       0.8684   5.243  2.974      5.637   5.063      1"
      ],
      "text/html": [
       "<div>\n",
       "<style scoped>\n",
       "    .dataframe tbody tr th:only-of-type {\n",
       "        vertical-align: middle;\n",
       "    }\n",
       "\n",
       "    .dataframe tbody tr th {\n",
       "        vertical-align: top;\n",
       "    }\n",
       "\n",
       "    .dataframe thead th {\n",
       "        text-align: right;\n",
       "    }\n",
       "</style>\n",
       "<table border=\"1\" class=\"dataframe\">\n",
       "  <thead>\n",
       "    <tr style=\"text-align: right;\">\n",
       "      <th></th>\n",
       "      <th>area</th>\n",
       "      <th>perimeter</th>\n",
       "      <th>compactness</th>\n",
       "      <th>length</th>\n",
       "      <th>width</th>\n",
       "      <th>asymmetry</th>\n",
       "      <th>groove</th>\n",
       "      <th>class</th>\n",
       "    </tr>\n",
       "  </thead>\n",
       "  <tbody>\n",
       "    <tr>\n",
       "      <th>205</th>\n",
       "      <td>12.19</td>\n",
       "      <td>13.20</td>\n",
       "      <td>0.8783</td>\n",
       "      <td>5.137</td>\n",
       "      <td>2.981</td>\n",
       "      <td>3.631</td>\n",
       "      <td>4.870</td>\n",
       "      <td>1</td>\n",
       "    </tr>\n",
       "    <tr>\n",
       "      <th>206</th>\n",
       "      <td>11.23</td>\n",
       "      <td>12.88</td>\n",
       "      <td>0.8511</td>\n",
       "      <td>5.140</td>\n",
       "      <td>2.795</td>\n",
       "      <td>4.325</td>\n",
       "      <td>5.003</td>\n",
       "      <td>1</td>\n",
       "    </tr>\n",
       "    <tr>\n",
       "      <th>207</th>\n",
       "      <td>13.20</td>\n",
       "      <td>13.66</td>\n",
       "      <td>0.8883</td>\n",
       "      <td>5.236</td>\n",
       "      <td>3.232</td>\n",
       "      <td>8.315</td>\n",
       "      <td>5.056</td>\n",
       "      <td>1</td>\n",
       "    </tr>\n",
       "    <tr>\n",
       "      <th>208</th>\n",
       "      <td>11.84</td>\n",
       "      <td>13.21</td>\n",
       "      <td>0.8521</td>\n",
       "      <td>5.175</td>\n",
       "      <td>2.836</td>\n",
       "      <td>3.598</td>\n",
       "      <td>5.044</td>\n",
       "      <td>1</td>\n",
       "    </tr>\n",
       "    <tr>\n",
       "      <th>209</th>\n",
       "      <td>12.30</td>\n",
       "      <td>13.34</td>\n",
       "      <td>0.8684</td>\n",
       "      <td>5.243</td>\n",
       "      <td>2.974</td>\n",
       "      <td>5.637</td>\n",
       "      <td>5.063</td>\n",
       "      <td>1</td>\n",
       "    </tr>\n",
       "  </tbody>\n",
       "</table>\n",
       "</div>"
      ]
     },
     "execution_count": 7,
     "metadata": {},
     "output_type": "execute_result"
    }
   ],
   "execution_count": 7
  },
  {
   "metadata": {
    "ExecuteTime": {
     "end_time": "2024-12-09T23:15:07.469699Z",
     "start_time": "2024-12-09T23:15:07.463488Z"
    }
   },
   "cell_type": "code",
   "source": "filtered_data.head()",
   "id": "99053abbb265274a",
   "outputs": [
    {
     "data": {
      "text/plain": [
       "    area  perimeter  compactness  length  width  asymmetry  groove  class\n",
       "0  15.26      14.84       0.8710   5.763  3.312      2.221   5.220      0\n",
       "1  14.88      14.57       0.8811   5.554  3.333      1.018   4.956      0\n",
       "2  14.29      14.09       0.9050   5.291  3.337      2.699   4.825      0\n",
       "3  13.84      13.94       0.8955   5.324  3.379      2.259   4.805      0\n",
       "4  16.14      14.99       0.9034   5.658  3.562      1.355   5.175      0"
      ],
      "text/html": [
       "<div>\n",
       "<style scoped>\n",
       "    .dataframe tbody tr th:only-of-type {\n",
       "        vertical-align: middle;\n",
       "    }\n",
       "\n",
       "    .dataframe tbody tr th {\n",
       "        vertical-align: top;\n",
       "    }\n",
       "\n",
       "    .dataframe thead th {\n",
       "        text-align: right;\n",
       "    }\n",
       "</style>\n",
       "<table border=\"1\" class=\"dataframe\">\n",
       "  <thead>\n",
       "    <tr style=\"text-align: right;\">\n",
       "      <th></th>\n",
       "      <th>area</th>\n",
       "      <th>perimeter</th>\n",
       "      <th>compactness</th>\n",
       "      <th>length</th>\n",
       "      <th>width</th>\n",
       "      <th>asymmetry</th>\n",
       "      <th>groove</th>\n",
       "      <th>class</th>\n",
       "    </tr>\n",
       "  </thead>\n",
       "  <tbody>\n",
       "    <tr>\n",
       "      <th>0</th>\n",
       "      <td>15.26</td>\n",
       "      <td>14.84</td>\n",
       "      <td>0.8710</td>\n",
       "      <td>5.763</td>\n",
       "      <td>3.312</td>\n",
       "      <td>2.221</td>\n",
       "      <td>5.220</td>\n",
       "      <td>0</td>\n",
       "    </tr>\n",
       "    <tr>\n",
       "      <th>1</th>\n",
       "      <td>14.88</td>\n",
       "      <td>14.57</td>\n",
       "      <td>0.8811</td>\n",
       "      <td>5.554</td>\n",
       "      <td>3.333</td>\n",
       "      <td>1.018</td>\n",
       "      <td>4.956</td>\n",
       "      <td>0</td>\n",
       "    </tr>\n",
       "    <tr>\n",
       "      <th>2</th>\n",
       "      <td>14.29</td>\n",
       "      <td>14.09</td>\n",
       "      <td>0.9050</td>\n",
       "      <td>5.291</td>\n",
       "      <td>3.337</td>\n",
       "      <td>2.699</td>\n",
       "      <td>4.825</td>\n",
       "      <td>0</td>\n",
       "    </tr>\n",
       "    <tr>\n",
       "      <th>3</th>\n",
       "      <td>13.84</td>\n",
       "      <td>13.94</td>\n",
       "      <td>0.8955</td>\n",
       "      <td>5.324</td>\n",
       "      <td>3.379</td>\n",
       "      <td>2.259</td>\n",
       "      <td>4.805</td>\n",
       "      <td>0</td>\n",
       "    </tr>\n",
       "    <tr>\n",
       "      <th>4</th>\n",
       "      <td>16.14</td>\n",
       "      <td>14.99</td>\n",
       "      <td>0.9034</td>\n",
       "      <td>5.658</td>\n",
       "      <td>3.562</td>\n",
       "      <td>1.355</td>\n",
       "      <td>5.175</td>\n",
       "      <td>0</td>\n",
       "    </tr>\n",
       "  </tbody>\n",
       "</table>\n",
       "</div>"
      ]
     },
     "execution_count": 8,
     "metadata": {},
     "output_type": "execute_result"
    }
   ],
   "execution_count": 8
  },
  {
   "metadata": {
    "ExecuteTime": {
     "end_time": "2024-12-09T23:15:35.365522Z",
     "start_time": "2024-12-09T23:15:35.361335Z"
    }
   },
   "cell_type": "code",
   "source": [
    "print(f\"# 0 (originally class 1): {len(filtered_data[filtered_data['class'] == 0])}\")\n",
    "print(f\"# 1 (originally class 3): {len(filtered_data[filtered_data['class'] == 1])}\")\n",
    "print(f\"Total #: {len(filtered_data)}\")"
   ],
   "id": "feafa75e3f760572",
   "outputs": [
    {
     "name": "stdout",
     "output_type": "stream",
     "text": [
      "# 0 (originally class 1): 70\n",
      "# 1 (originally class 3): 70\n",
      "Total #: 140\n"
     ]
    }
   ],
   "execution_count": 10
  },
  {
   "metadata": {
    "ExecuteTime": {
     "end_time": "2024-12-09T23:15:38.750422Z",
     "start_time": "2024-12-09T23:15:38.018231Z"
    }
   },
   "cell_type": "code",
   "source": [
    "from sklearn.model_selection import train_test_split\n",
    "\n",
    "X = filtered_data.drop('class', axis=1)\n",
    "y = filtered_data['class']\n",
    "\n",
    "X_train, X_test, y_train, y_test = train_test_split(X, y, test_size=0.5, random_state=42)"
   ],
   "id": "469d1d56cfacfe3f",
   "outputs": [],
   "execution_count": 11
  },
  {
   "metadata": {
    "ExecuteTime": {
     "end_time": "2024-12-09T23:15:38.862488Z",
     "start_time": "2024-12-09T23:15:38.858127Z"
    }
   },
   "cell_type": "code",
   "source": [
    "from sklearn.preprocessing import StandardScaler\n",
    "\n",
    "scaler = StandardScaler()\n",
    "X_train_scaled = scaler.fit_transform(X_train)\n",
    "X_test_scaled = scaler.transform(X_test)"
   ],
   "id": "8ec0c3d6d7b65f10",
   "outputs": [],
   "execution_count": 12
  },
  {
   "metadata": {
    "ExecuteTime": {
     "end_time": "2024-12-09T23:15:39.255484Z",
     "start_time": "2024-12-09T23:15:39.196159Z"
    }
   },
   "cell_type": "code",
   "source": [
    "from sklearn.metrics import accuracy_score, confusion_matrix\n",
    "from sklearn.svm import SVC\n",
    "\n",
    "linear_svm = SVC(kernel='linear', random_state=42)\n",
    "linear_svm.fit(X_train_scaled, y_train)\n",
    "linear_pred = linear_svm.predict(X_test_scaled)\n",
    "\n",
    "print(\"Linear kernel SVM:\")\n",
    "print(f\"Accuracy: {accuracy_score(y_test, linear_pred):.4f}\")\n",
    "print(\"Confusion Matrix:\")\n",
    "print(confusion_matrix(y_test, linear_pred))"
   ],
   "id": "a002d95f6e671a02",
   "outputs": [
    {
     "name": "stdout",
     "output_type": "stream",
     "text": [
      "Linear kernel SVM:\n",
      "Accuracy: 0.9143\n",
      "Confusion Matrix:\n",
      "[[35  4]\n",
      " [ 2 29]]\n"
     ]
    }
   ],
   "execution_count": 13
  },
  {
   "metadata": {
    "ExecuteTime": {
     "end_time": "2024-12-09T23:15:43.037593Z",
     "start_time": "2024-12-09T23:15:43.031949Z"
    }
   },
   "cell_type": "code",
   "source": [
    "gaussian_svm = SVC(kernel='rbf', random_state=42)\n",
    "gaussian_svm.fit(X_train_scaled, y_train)\n",
    "gaussian_pred = gaussian_svm.predict(X_test_scaled)\n",
    "\n",
    "print(\"Gaussian kernel SVM:\")\n",
    "print(f\"Accuracy: {accuracy_score(y_test, gaussian_pred):.4f}\")\n",
    "print(\"Confusion Matrix:\")\n",
    "print(confusion_matrix(y_test, gaussian_pred))"
   ],
   "id": "f9361958041c86c",
   "outputs": [
    {
     "name": "stdout",
     "output_type": "stream",
     "text": [
      "Gaussian kernel SVM:\n",
      "Accuracy: 0.9286\n",
      "Confusion Matrix:\n",
      "[[35  4]\n",
      " [ 1 30]]\n"
     ]
    }
   ],
   "execution_count": 14
  },
  {
   "metadata": {
    "ExecuteTime": {
     "end_time": "2024-12-09T23:16:24.375275Z",
     "start_time": "2024-12-09T23:16:24.362485Z"
    }
   },
   "cell_type": "code",
   "source": [
    "poly_svm = SVC(kernel='poly', degree=3, random_state=42)\n",
    "poly_svm.fit(X_train_scaled, y_train)\n",
    "poly_pred = poly_svm.predict(X_test_scaled)\n",
    "\n",
    "print(\"polynomial kernel SVM of degree 3:\")\n",
    "print(f\"Accuracy: {accuracy_score(y_test, poly_pred):.4f}\")\n",
    "print(\"Confusion Matrix:\")\n",
    "print(confusion_matrix(y_test, poly_pred))"
   ],
   "id": "9f724308a988f1da",
   "outputs": [
    {
     "name": "stdout",
     "output_type": "stream",
     "text": [
      "polynomial kernel SVM of degree 3:\n",
      "Accuracy: 0.8571\n",
      "Confusion Matrix:\n",
      "[[30  9]\n",
      " [ 1 30]]\n"
     ]
    }
   ],
   "execution_count": 30
  },
  {
   "metadata": {
    "ExecuteTime": {
     "end_time": "2024-12-09T23:16:24.840162Z",
     "start_time": "2024-12-09T23:16:24.837716Z"
    }
   },
   "cell_type": "code",
   "source": "",
   "id": "91f04b09f3200524",
   "outputs": [],
   "execution_count": null
  },
  {
   "metadata": {
    "ExecuteTime": {
     "end_time": "2024-12-09T23:16:25.175996Z",
     "start_time": "2024-12-09T23:16:25.170315Z"
    }
   },
   "cell_type": "code",
   "source": [
    "from sklearn.linear_model import LogisticRegression\n",
    "\n",
    "logistic_regression = LogisticRegression(random_state=42, max_iter=1000)\n",
    "logistic_regression.fit(X_train_scaled, y_train)\n",
    "logistic_regression_pred = logistic_regression.predict(X_test_scaled)"
   ],
   "id": "709486bbbbf03844",
   "outputs": [],
   "execution_count": 31
  },
  {
   "metadata": {
    "ExecuteTime": {
     "end_time": "2024-12-09T23:16:25.855966Z",
     "start_time": "2024-12-09T23:16:25.851147Z"
    }
   },
   "cell_type": "code",
   "source": [
    "print(\"Logistic Regression:\")\n",
    "print(f\"Accuracy: {accuracy_score(y_test, logistic_regression_pred):.4f}\")\n",
    "print(\"Confusion Matrix:\")\n",
    "print(confusion_matrix(y_test, logistic_regression_pred))"
   ],
   "id": "c35c81566111a571",
   "outputs": [
    {
     "name": "stdout",
     "output_type": "stream",
     "text": [
      "Logistic Regression:\n",
      "Accuracy: 0.9143\n",
      "Confusion Matrix:\n",
      "[[35  4]\n",
      " [ 2 29]]\n"
     ]
    }
   ],
   "execution_count": 32
  },
  {
   "metadata": {
    "ExecuteTime": {
     "end_time": "2024-12-09T23:16:26.386441Z",
     "start_time": "2024-12-09T23:16:26.383354Z"
    }
   },
   "cell_type": "code",
   "source": [
    "'''\n",
    "Used this from prior assignments solutions that were provided to us\n",
    "'''\n",
    "import numpy as np\n",
    "def compute_metrics(y_test,y_pred):\n",
    "  '''\n",
    "  Inputs: y_test, y_pred vectors\n",
    "\n",
    "  Output: DataFrame of metrics\n",
    "  '''\n",
    "\n",
    "  # Find tn, fp, fn, tp using confusion_matrix\n",
    "  cm = confusion_matrix(y_test,y_pred)\n",
    "  tn, fp, fn, tp = cm.ravel()\n",
    "  tpr = tp/(tp+fn)\n",
    "  tnr = tn/(tn+fp)\n",
    "  accuracy = np.trace(cm)/np.sum(cm) # the trace of a matrix is the sum of the diagonal elements\n",
    "\n",
    "  return pd.DataFrame({'TP':[tp],'FP':[fp],'TN':[tn],'FN':[fn],'Accuracy':[accuracy],'TPR':[tpr],'TNR':[tnr]})"
   ],
   "id": "1398b76656368ac",
   "outputs": [],
   "execution_count": 33
  },
  {
   "metadata": {
    "ExecuteTime": {
     "end_time": "2024-12-09T23:16:27.157316Z",
     "start_time": "2024-12-09T23:16:27.143755Z"
    }
   },
   "cell_type": "code",
   "source": [
    "linear_metrics = compute_metrics(y_test, linear_pred)\n",
    "linear_metrics.index = ['Linear SVM']\n",
    "\n",
    "gaussian_metrics = compute_metrics(y_test, gaussian_pred)\n",
    "gaussian_metrics.index = ['Gaussian SVM']\n",
    "\n",
    "poly_metrics = compute_metrics(y_test, poly_pred)\n",
    "poly_metrics.index = ['Polynomial SVM']\n",
    "\n",
    "logistic_metrics = compute_metrics(y_test, logistic_regression_pred)\n",
    "logistic_metrics.index = ['Logistic Regression']\n",
    "\n",
    "all_metrics = pd.concat([linear_metrics, gaussian_metrics, poly_metrics, logistic_metrics])\n",
    "\n",
    "all_metrics"
   ],
   "id": "e2285867a25af516",
   "outputs": [
    {
     "data": {
      "text/plain": [
       "                     TP  FP  TN  FN  Accuracy       TPR       TNR\n",
       "Linear SVM           29   4  35   2  0.914286  0.935484  0.897436\n",
       "Gaussian SVM         30   4  35   1  0.928571  0.967742  0.897436\n",
       "Polynomial SVM       30   9  30   1  0.857143  0.967742  0.769231\n",
       "Logistic Regression  29   4  35   2  0.914286  0.935484  0.897436"
      ],
      "text/html": [
       "<div>\n",
       "<style scoped>\n",
       "    .dataframe tbody tr th:only-of-type {\n",
       "        vertical-align: middle;\n",
       "    }\n",
       "\n",
       "    .dataframe tbody tr th {\n",
       "        vertical-align: top;\n",
       "    }\n",
       "\n",
       "    .dataframe thead th {\n",
       "        text-align: right;\n",
       "    }\n",
       "</style>\n",
       "<table border=\"1\" class=\"dataframe\">\n",
       "  <thead>\n",
       "    <tr style=\"text-align: right;\">\n",
       "      <th></th>\n",
       "      <th>TP</th>\n",
       "      <th>FP</th>\n",
       "      <th>TN</th>\n",
       "      <th>FN</th>\n",
       "      <th>Accuracy</th>\n",
       "      <th>TPR</th>\n",
       "      <th>TNR</th>\n",
       "    </tr>\n",
       "  </thead>\n",
       "  <tbody>\n",
       "    <tr>\n",
       "      <th>Linear SVM</th>\n",
       "      <td>29</td>\n",
       "      <td>4</td>\n",
       "      <td>35</td>\n",
       "      <td>2</td>\n",
       "      <td>0.914286</td>\n",
       "      <td>0.935484</td>\n",
       "      <td>0.897436</td>\n",
       "    </tr>\n",
       "    <tr>\n",
       "      <th>Gaussian SVM</th>\n",
       "      <td>30</td>\n",
       "      <td>4</td>\n",
       "      <td>35</td>\n",
       "      <td>1</td>\n",
       "      <td>0.928571</td>\n",
       "      <td>0.967742</td>\n",
       "      <td>0.897436</td>\n",
       "    </tr>\n",
       "    <tr>\n",
       "      <th>Polynomial SVM</th>\n",
       "      <td>30</td>\n",
       "      <td>9</td>\n",
       "      <td>30</td>\n",
       "      <td>1</td>\n",
       "      <td>0.857143</td>\n",
       "      <td>0.967742</td>\n",
       "      <td>0.769231</td>\n",
       "    </tr>\n",
       "    <tr>\n",
       "      <th>Logistic Regression</th>\n",
       "      <td>29</td>\n",
       "      <td>4</td>\n",
       "      <td>35</td>\n",
       "      <td>2</td>\n",
       "      <td>0.914286</td>\n",
       "      <td>0.935484</td>\n",
       "      <td>0.897436</td>\n",
       "    </tr>\n",
       "  </tbody>\n",
       "</table>\n",
       "</div>"
      ]
     },
     "execution_count": 34,
     "metadata": {},
     "output_type": "execute_result"
    }
   ],
   "execution_count": 34
  },
  {
   "metadata": {
    "ExecuteTime": {
     "end_time": "2024-12-09T23:16:28.516538Z",
     "start_time": "2024-12-09T23:16:28.515178Z"
    }
   },
   "cell_type": "code",
   "source": "",
   "id": "9b957c2987cdea89",
   "outputs": [],
   "execution_count": null
  },
  {
   "metadata": {
    "ExecuteTime": {
     "end_time": "2024-12-09T23:16:28.897411Z",
     "start_time": "2024-12-09T23:16:28.891533Z"
    }
   },
   "cell_type": "code",
   "source": [
    "# Take the original dataset with all 3 class labels\n",
    "columns = ['area', 'perimeter', 'compactness', 'length', 'width', 'asymmetry', 'groove', 'class']\n",
    "data = pd.read_csv('seeds_dataset.txt', sep='\\s+', names=columns)"
   ],
   "id": "908f7298f5d9c869",
   "outputs": [],
   "execution_count": 35
  },
  {
   "metadata": {
    "ExecuteTime": {
     "end_time": "2024-12-09T23:16:29.477103Z",
     "start_time": "2024-12-09T23:16:29.473927Z"
    }
   },
   "cell_type": "code",
   "source": [
    "X = data.drop('class', axis=1)\n",
    "scaler = StandardScaler()\n",
    "X_scaled = scaler.fit_transform(X)"
   ],
   "id": "28f813d0f7e29da3",
   "outputs": [],
   "execution_count": 36
  },
  {
   "metadata": {
    "ExecuteTime": {
     "end_time": "2024-12-09T23:16:30.123003Z",
     "start_time": "2024-12-09T23:16:30.014238Z"
    }
   },
   "cell_type": "code",
   "source": [
    "from sklearn.cluster import KMeans\n",
    "import matplotlib.pyplot as plt\n",
    "\n",
    "distortions = []\n",
    "for k in range(1, 9):\n",
    "    kmeans = KMeans(n_clusters=k, random_state=42)\n",
    "    kmeans.fit(X_scaled)\n",
    "    distortions.append(kmeans.inertia_)\n",
    "  \n",
    "plt.figure(figsize=(10, 6))\n",
    "plt.plot(range(1, 9), distortions, 'bx-')\n",
    "plt.xlabel('k')\n",
    "plt.ylabel('Distortion')\n",
    "plt.title('Optimal k')\n",
    "plt.grid(True)\n",
    "plt.show()"
   ],
   "id": "501493c614a69248",
   "outputs": [
    {
     "data": {
      "text/plain": [
       "<Figure size 1000x600 with 1 Axes>"
      ],
      "image/png": "[encoded data removed]"
     },
     "metadata": {},
     "output_type": "display_data"
    }
   ],
   "execution_count": 37
  },
  {
   "metadata": {
    "ExecuteTime": {
     "end_time": "2024-12-09T23:16:31.277001Z",
     "start_time": "2024-12-09T23:16:31.274565Z"
    }
   },
   "cell_type": "code",
   "source": [
    "import random\n",
    "np.random.seed(42)\n",
    "random.seed(42)"
   ],
   "id": "76aeab00860bb2a4",
   "outputs": [],
   "execution_count": 38
  },
  {
   "metadata": {
    "ExecuteTime": {
     "end_time": "2024-12-09T23:16:33.893200Z",
     "start_time": "2024-12-09T23:16:33.889932Z"
    }
   },
   "cell_type": "code",
   "source": [
    "selected_features = random.sample(columns[:-1], 2)\n",
    "print(selected_features)"
   ],
   "id": "483d9df22df15441",
   "outputs": [
    {
     "name": "stdout",
     "output_type": "stream",
     "text": [
      "['area', 'asymmetry']\n"
     ]
    }
   ],
   "execution_count": 40
  },
  {
   "metadata": {
    "ExecuteTime": {
     "end_time": "2024-12-09T23:16:34.498481Z",
     "start_time": "2024-12-09T23:16:34.492121Z"
    }
   },
   "cell_type": "code",
   "source": [
    "X = data[selected_features]\n",
    "scaler = StandardScaler()\n",
    "X_scaled = scaler.fit_transform(X)\n",
    "\n",
    "k = 3\n",
    "kmeans = KMeans(n_clusters=k, random_state=42)\n",
    "cluster_labels = kmeans.fit_predict(X_scaled)\n",
    "centroids_scaled = kmeans.cluster_centers_\n",
    "centroids = scaler.inverse_transform(centroids_scaled)"
   ],
   "id": "ecbbf2d0befd8efa",
   "outputs": [],
   "execution_count": 41
  },
  {
   "metadata": {
    "ExecuteTime": {
     "end_time": "2024-12-09T23:16:35.184521Z",
     "start_time": "2024-12-09T23:16:35.179266Z"
    }
   },
   "cell_type": "code",
   "source": "plt.figure(figsize=(10, 8))",
   "id": "2a5c125984c1ad6f",
   "outputs": [
    {
     "data": {
      "text/plain": [
       "<Figure size 1000x800 with 0 Axes>"
      ]
     },
     "execution_count": 42,
     "metadata": {},
     "output_type": "execute_result"
    },
    {
     "data": {
      "text/plain": [
       "<Figure size 1000x800 with 0 Axes>"
      ]
     },
     "metadata": {},
     "output_type": "display_data"
    }
   ],
   "execution_count": 42
  },
  {
   "metadata": {
    "ExecuteTime": {
     "end_time": "2024-12-09T23:16:36.494982Z",
     "start_time": "2024-12-09T23:16:35.927890Z"
    }
   },
   "cell_type": "code",
   "source": [
    "# references: https://matplotlib.org/stable/api/_as_gen/matplotlib.pyplot.subplots.html\n",
    "# https://matplotlib.org/3.1.1/api/_as_gen/matplotlib.pyplot.scatter.html                \n",
    "fig, ax = plt.subplots(figsize=(12, 10))\n",
    "scatter = ax.scatter(X['area'], \n",
    "                     X['asymmetry'],\n",
    "                    c=cluster_labels,\n",
    "                    cmap='Set1',\n",
    "                    s=100,\n",
    "                    alpha=0.7,\n",
    "                    label='Data Points')\n",
    "\n",
    "# plot centroids\n",
    "ax.scatter(centroids[:, 0], \n",
    "           centroids[:, 1],\n",
    "           color='black',       \n",
    "           marker='*',  \n",
    "           s=300,   \n",
    "           label='Centroids',\n",
    "           edgecolor='white', \n",
    "           linewidth=1)\n",
    "\n",
    "for idx, row in data.iterrows():\n",
    "    ax.text(row['area'], \n",
    "            row['asymmetry'], \n",
    "            str(row['class']),\n",
    "            fontsize=8,\n",
    "            bbox={'facecolor': 'white', 'alpha': 0.7, 'edgecolor': 'none', 'pad': 1})\n",
    "\n",
    "ax.set_xlabel('Area')\n",
    "ax.set_ylabel('Asymmetry')\n",
    "ax.set_title('Area vs Asymmetry')\n",
    "ax.grid(True, linestyle='--', alpha=0.3)\n",
    "\n",
    "plt.colorbar(scatter, label='Cluster Assignment')\n",
    "ax.legend()\n",
    "plt.tight_layout()\n",
    "plt.show()"
   ],
   "id": "a3191357e4b1415b",
   "outputs": [
    {
     "data": {
      "text/plain": [
       "<Figure size 1200x1000 with 2 Axes>"
      ],
      "image/png": "[encoded data removed]"
     },
     "metadata": {},
     "output_type": "display_data"
    }
   ],
   "execution_count": 43
  },
  {
   "metadata": {
    "ExecuteTime": {
     "end_time": "2024-12-09T23:16:40.248037Z",
     "start_time": "2024-12-09T23:16:40.244553Z"
    }
   },
   "cell_type": "code",
   "source": [
    "for cluster in range(k):\n",
    "    cluster_data = data[cluster_labels == cluster]\n",
    "    classes = cluster_data['class'].tolist()\n",
    "    count_one = classes.count(1)\n",
    "    count_two = classes.count(2)\n",
    "    count_three = classes.count(3)\n",
    "    \n",
    "    if count_one >= count_two and count_one >= count_three:\n",
    "        majority_class = 1\n",
    "    elif count_two >= count_one and count_two >= count_three:\n",
    "        majority_class = 2\n",
    "    else:\n",
    "        majority_class = 3\n",
    "\n",
    "    print(f\"Cluster: {cluster} and Assigned Label: {majority_class}\")\n",
    "    print(\"Centroid:\")\n",
    "    for idx, feature in enumerate(selected_features): \n",
    "        print(f\"   {feature}: {centroids[cluster][idx]:.4f}\")\n",
    "    print()"
   ],
   "id": "7c6f6ec6401acf5f",
   "outputs": [
    {
     "name": "stdout",
     "output_type": "stream",
     "text": [
      "Cluster: 0 and Assigned Label: 2\n",
      "Centroid:\n",
      "   area: 18.5302\n",
      "   asymmetry: 3.6317\n",
      "\n",
      "Cluster: 1 and Assigned Label: 3\n",
      "Centroid:\n",
      "   area: 12.3133\n",
      "   asymmetry: 5.1703\n",
      "\n",
      "Cluster: 2 and Assigned Label: 1\n",
      "Centroid:\n",
      "   area: 13.8961\n",
      "   asymmetry: 2.4797\n",
      "\n"
     ]
    }
   ],
   "execution_count": 44
  },
  {
   "metadata": {
    "ExecuteTime": {
     "end_time": "2024-12-09T23:16:40.999739Z",
     "start_time": "2024-12-09T23:16:40.998246Z"
    }
   },
   "cell_type": "code",
   "source": "",
   "id": "1c27fe49e7798013",
   "outputs": [],
   "execution_count": null
  },
  {
   "metadata": {
    "ExecuteTime": {
     "end_time": "2024-12-09T23:16:41.336828Z",
     "start_time": "2024-12-09T23:16:41.331904Z"
    }
   },
   "cell_type": "code",
   "source": [
    "# rescale\n",
    "features_subset = data[['area', 'asymmetry']]\n",
    "scaler = StandardScaler()\n",
    "X_scaled = scaler.fit_transform(features_subset)"
   ],
   "id": "10ccf62591e747a3",
   "outputs": [],
   "execution_count": 45
  },
  {
   "metadata": {
    "ExecuteTime": {
     "end_time": "2024-12-09T23:16:41.883977Z",
     "start_time": "2024-12-09T23:16:41.873547Z"
    }
   },
   "cell_type": "code",
   "source": [
    "kmeans = KMeans(n_clusters=k, n_init=10, random_state=42) # run it multiple times to get the BEST result\n",
    "cluster_labels = kmeans.fit_predict(X_scaled)\n",
    "centroids = scaler.inverse_transform(kmeans.cluster_centers_)"
   ],
   "id": "41e2c3cad1183707",
   "outputs": [],
   "execution_count": 46
  },
  {
   "metadata": {
    "ExecuteTime": {
     "end_time": "2024-12-09T23:16:42.276378Z",
     "start_time": "2024-12-09T23:16:42.272045Z"
    }
   },
   "cell_type": "code",
   "source": [
    "largest_clusters = {1: (0, 0), 2: (0, 0), 3: (0, 0)}\n",
    "\n",
    "for cluster in range(k):\n",
    "    cluster_data = data[cluster_labels == cluster]\n",
    "    classes = cluster_data['class'].tolist()\n",
    "    count_one = classes.count(1)\n",
    "    count_two = classes.count(2)\n",
    "    count_three = classes.count(3)\n",
    "    \n",
    "    if count_one >= count_two and count_one >= count_three:\n",
    "        majority_class = 1\n",
    "        if count_one > largest_clusters[1][1]:\n",
    "            largest_clusters[1] = (cluster, count_one)\n",
    "    elif count_two >= count_one and count_two >= count_three:\n",
    "        majority_class = 2\n",
    "        if count_two > largest_clusters[2][1]:\n",
    "            largest_clusters[2] = (cluster, count_two)\n",
    "    else:\n",
    "        majority_class = 3\n",
    "        if count_three > largest_clusters[3][1]:\n",
    "            largest_clusters[3] = (cluster, count_three)\n",
    "\n",
    "    print(f\"Cluster: {cluster} and Assigned Label: {majority_class}\")\n",
    "    print(\"Centroid:\")\n",
    "    for idx, feature in enumerate(selected_features):\n",
    "        print(f\"   {feature}: {centroids[cluster][idx]:.4f}\")\n",
    "    print()"
   ],
   "id": "9a2829027ef88549",
   "outputs": [
    {
     "name": "stdout",
     "output_type": "stream",
     "text": [
      "Cluster: 0 and Assigned Label: 3\n",
      "Centroid:\n",
      "   area: 12.3068\n",
      "   asymmetry: 4.9864\n",
      "\n",
      "Cluster: 1 and Assigned Label: 1\n",
      "Centroid:\n",
      "   area: 14.1128\n",
      "   asymmetry: 2.3291\n",
      "\n",
      "Cluster: 2 and Assigned Label: 2\n",
      "Centroid:\n",
      "   area: 18.5302\n",
      "   asymmetry: 3.6317\n",
      "\n"
     ]
    }
   ],
   "execution_count": 47
  },
  {
   "metadata": {
    "ExecuteTime": {
     "end_time": "2024-12-09T23:16:42.796045Z",
     "start_time": "2024-12-09T23:16:42.791732Z"
    }
   },
   "cell_type": "code",
   "source": [
    "# get centroids for largest clusters\n",
    "representative_centroids = {1: centroids[largest_clusters[1][0]], 2: centroids[largest_clusters[2][0]], 3: centroids[largest_clusters[3][0]]}"
   ],
   "id": "b1a5acde3bf45064",
   "outputs": [],
   "execution_count": 48
  },
  {
   "metadata": {
    "ExecuteTime": {
     "end_time": "2024-12-09T23:16:43.132026Z",
     "start_time": "2024-12-09T23:16:43.122119Z"
    }
   },
   "cell_type": "code",
   "source": [
    "X_test = data[selected_features].values\n",
    "predictions = []\n",
    "\n",
    "for point in X_test:\n",
    "    distances = {}\n",
    "    \n",
    "    # distances to clusters\n",
    "    mu_A = representative_centroids[1]\n",
    "    dist_to_A = np.linalg.norm(point - mu_A)\n",
    "    distances[1] = dist_to_A\n",
    "    \n",
    "    mu_B = representative_centroids[2]\n",
    "    dist_to_B = np.linalg.norm(point - mu_B)\n",
    "    distances[2] = dist_to_B\n",
    "\n",
    "    mu_C = representative_centroids[3]\n",
    "    dist_to_C = np.linalg.norm(point - mu_C)\n",
    "    distances[3] = dist_to_C\n",
    "\n",
    "    min_distance = float('inf')\n",
    "    nearest_cluster = None\n",
    "    for cluster_label, distance in distances.items():\n",
    "        if distance < min_distance:\n",
    "            min_distance = distance\n",
    "            nearest_cluster = cluster_label\n",
    "    \n",
    "    predictions.append(nearest_cluster)\n",
    "\n",
    "predictions = np.array(predictions)"
   ],
   "id": "4f8c749c6c27eb21",
   "outputs": [],
   "execution_count": 49
  },
  {
   "metadata": {},
   "cell_type": "markdown",
   "source": "",
   "id": "e09874af28b8c57c"
  },
  {
   "metadata": {
    "ExecuteTime": {
     "end_time": "2024-12-09T23:16:43.580232Z",
     "start_time": "2024-12-09T23:16:43.575388Z"
    }
   },
   "cell_type": "code",
   "source": "print(f\"accuracy for all 3 classes: {accuracy_score(data['class'], predictions):.4f}\")",
   "id": "3cfc172f207a8827",
   "outputs": [
    {
     "name": "stdout",
     "output_type": "stream",
     "text": [
      "accuracy for all 3 classes: 0.8905\n"
     ]
    }
   ],
   "execution_count": 50
  },
  {
   "metadata": {
    "ExecuteTime": {
     "end_time": "2024-12-09T23:16:44.035689Z",
     "start_time": "2024-12-09T23:16:44.033849Z"
    }
   },
   "cell_type": "code",
   "source": "",
   "id": "780c0be12b6ba58b",
   "outputs": [],
   "execution_count": null
  },
  {
   "metadata": {
    "ExecuteTime": {
     "end_time": "2024-12-09T23:16:44.330241Z",
     "start_time": "2024-12-09T23:16:44.325571Z"
    }
   },
   "cell_type": "code",
   "source": [
    "# class 3 -> 1, class 1 -> 0\n",
    "print(f\"Accuracy: {accuracy_score((data.loc[data['class'].isin([1, 3]), 'class'] == 3).astype(int), (predictions[data['class'].isin([1, 3])] == 3).astype(int)):.4f}\")"
   ],
   "id": "51595122367d3437",
   "outputs": [
    {
     "name": "stdout",
     "output_type": "stream",
     "text": [
      "Accuracy: 0.9000\n"
     ]
    }
   ],
   "execution_count": 51
  },
  {
   "metadata": {
    "ExecuteTime": {
     "end_time": "2024-12-09T23:16:44.714571Z",
     "start_time": "2024-12-09T23:16:44.706648Z"
    }
   },
   "cell_type": "code",
   "source": [
    "print(\"Class 1 vs 3:\")\n",
    "compute_metrics((data.loc[data['class'].isin([1, 3]), 'class'] == 3).astype(int), (predictions[data['class'].isin([1, 3])] == 3).astype(int))"
   ],
   "id": "2cb32e7fe99b999",
   "outputs": [
    {
     "name": "stdout",
     "output_type": "stream",
     "text": [
      "Class 1 vs 3:\n"
     ]
    },
    {
     "data": {
      "text/plain": [
       "   TP  FP  TN  FN  Accuracy  TPR  TNR\n",
       "0  63   7  63   7       0.9  0.9  0.9"
      ],
      "text/html": [
       "<div>\n",
       "<style scoped>\n",
       "    .dataframe tbody tr th:only-of-type {\n",
       "        vertical-align: middle;\n",
       "    }\n",
       "\n",
       "    .dataframe tbody tr th {\n",
       "        vertical-align: top;\n",
       "    }\n",
       "\n",
       "    .dataframe thead th {\n",
       "        text-align: right;\n",
       "    }\n",
       "</style>\n",
       "<table border=\"1\" class=\"dataframe\">\n",
       "  <thead>\n",
       "    <tr style=\"text-align: right;\">\n",
       "      <th></th>\n",
       "      <th>TP</th>\n",
       "      <th>FP</th>\n",
       "      <th>TN</th>\n",
       "      <th>FN</th>\n",
       "      <th>Accuracy</th>\n",
       "      <th>TPR</th>\n",
       "      <th>TNR</th>\n",
       "    </tr>\n",
       "  </thead>\n",
       "  <tbody>\n",
       "    <tr>\n",
       "      <th>0</th>\n",
       "      <td>63</td>\n",
       "      <td>7</td>\n",
       "      <td>63</td>\n",
       "      <td>7</td>\n",
       "      <td>0.9</td>\n",
       "      <td>0.9</td>\n",
       "      <td>0.9</td>\n",
       "    </tr>\n",
       "  </tbody>\n",
       "</table>\n",
       "</div>"
      ]
     },
     "execution_count": 52,
     "metadata": {},
     "output_type": "execute_result"
    }
   ],
   "execution_count": 52
  },
  {
   "metadata": {
    "ExecuteTime": {
     "end_time": "2024-12-09T23:16:45.319248Z",
     "start_time": "2024-12-09T23:16:45.315597Z"
    }
   },
   "cell_type": "code",
   "source": [
    "print(\"Confusion Matrix:\")\n",
    "print(confusion_matrix((data.loc[data['class'].isin([1, 3]), 'class'] == 3).astype(int), (predictions[data['class'].isin([1, 3])] == 3).astype(int)))"
   ],
   "id": "55d81b74a2edd1e1",
   "outputs": [
    {
     "name": "stdout",
     "output_type": "stream",
     "text": [
      "Confusion Matrix:\n",
      "[[63  7]\n",
      " [ 7 63]]\n"
     ]
    }
   ],
   "execution_count": 53
  },
  {
   "metadata": {
    "ExecuteTime": {
     "end_time": "2024-12-09T23:16:46.527380Z",
     "start_time": "2024-12-09T23:16:46.517926Z"
    }
   },
   "cell_type": "code",
   "source": [
    "new_k_means_classifier_metrics = compute_metrics((data.loc[data['class'].isin([1, 3]), 'class'] == 3).astype(int), (predictions[data['class'].isin([1, 3])] == 3).astype(int))\n",
    "new_k_means_classifier_metrics.index = ['New Classifier']\n",
    "\n",
    "all_metrics = pd.concat([all_metrics, new_k_means_classifier_metrics])\n",
    "all_metrics"
   ],
   "id": "b522363d25f22b13",
   "outputs": [
    {
     "data": {
      "text/plain": [
       "                     TP  FP  TN  FN  Accuracy       TPR       TNR\n",
       "Linear SVM           29   4  35   2  0.914286  0.935484  0.897436\n",
       "Gaussian SVM         30   4  35   1  0.928571  0.967742  0.897436\n",
       "Polynomial SVM       30   9  30   1  0.857143  0.967742  0.769231\n",
       "Logistic Regression  29   4  35   2  0.914286  0.935484  0.897436\n",
       "New Classifier       63   7  63   7  0.900000  0.900000  0.900000"
      ],
      "text/html": [
       "<div>\n",
       "<style scoped>\n",
       "    .dataframe tbody tr th:only-of-type {\n",
       "        vertical-align: middle;\n",
       "    }\n",
       "\n",
       "    .dataframe tbody tr th {\n",
       "        vertical-align: top;\n",
       "    }\n",
       "\n",
       "    .dataframe thead th {\n",
       "        text-align: right;\n",
       "    }\n",
       "</style>\n",
       "<table border=\"1\" class=\"dataframe\">\n",
       "  <thead>\n",
       "    <tr style=\"text-align: right;\">\n",
       "      <th></th>\n",
       "      <th>TP</th>\n",
       "      <th>FP</th>\n",
       "      <th>TN</th>\n",
       "      <th>FN</th>\n",
       "      <th>Accuracy</th>\n",
       "      <th>TPR</th>\n",
       "      <th>TNR</th>\n",
       "    </tr>\n",
       "  </thead>\n",
       "  <tbody>\n",
       "    <tr>\n",
       "      <th>Linear SVM</th>\n",
       "      <td>29</td>\n",
       "      <td>4</td>\n",
       "      <td>35</td>\n",
       "      <td>2</td>\n",
       "      <td>0.914286</td>\n",
       "      <td>0.935484</td>\n",
       "      <td>0.897436</td>\n",
       "    </tr>\n",
       "    <tr>\n",
       "      <th>Gaussian SVM</th>\n",
       "      <td>30</td>\n",
       "      <td>4</td>\n",
       "      <td>35</td>\n",
       "      <td>1</td>\n",
       "      <td>0.928571</td>\n",
       "      <td>0.967742</td>\n",
       "      <td>0.897436</td>\n",
       "    </tr>\n",
       "    <tr>\n",
       "      <th>Polynomial SVM</th>\n",
       "      <td>30</td>\n",
       "      <td>9</td>\n",
       "      <td>30</td>\n",
       "      <td>1</td>\n",
       "      <td>0.857143</td>\n",
       "      <td>0.967742</td>\n",
       "      <td>0.769231</td>\n",
       "    </tr>\n",
       "    <tr>\n",
       "      <th>Logistic Regression</th>\n",
       "      <td>29</td>\n",
       "      <td>4</td>\n",
       "      <td>35</td>\n",
       "      <td>2</td>\n",
       "      <td>0.914286</td>\n",
       "      <td>0.935484</td>\n",
       "      <td>0.897436</td>\n",
       "    </tr>\n",
       "    <tr>\n",
       "      <th>New Classifier</th>\n",
       "      <td>63</td>\n",
       "      <td>7</td>\n",
       "      <td>63</td>\n",
       "      <td>7</td>\n",
       "      <td>0.900000</td>\n",
       "      <td>0.900000</td>\n",
       "      <td>0.900000</td>\n",
       "    </tr>\n",
       "  </tbody>\n",
       "</table>\n",
       "</div>"
      ]
     },
     "execution_count": 54,
     "metadata": {},
     "output_type": "execute_result"
    }
   ],
   "execution_count": 54
  },
  {
   "metadata": {
    "ExecuteTime": {
     "end_time": "2024-12-09T20:23:53.132969Z",
     "start_time": "2024-12-09T20:23:53.128529Z"
    }
   },
   "cell_type": "code",
   "source": "",
   "id": "19d42b2f77f77a83",
   "outputs": [],
   "execution_count": null
  },
  {
   "metadata": {
    "ExecuteTime": {
     "end_time": "2024-12-09T20:23:53.382698Z",
     "start_time": "2024-12-09T20:23:53.381248Z"
    }
   },
   "cell_type": "code",
   "source": "",
   "id": "2b025447104e9b6e",
   "outputs": [],
   "execution_count": null
  },
  {
   "metadata": {
    "ExecuteTime": {
     "end_time": "2024-12-09T20:23:53.572294Z",
     "start_time": "2024-12-09T20:23:53.570867Z"
    }
   },
   "cell_type": "code",
   "source": "",
   "id": "5bb16a9508c23349",
   "outputs": [],
   "execution_count": null
  },
  {
   "metadata": {
    "ExecuteTime": {
     "end_time": "2024-12-09T20:26:27.049751Z",
     "start_time": "2024-12-09T20:26:27.046749Z"
    }
   },
   "cell_type": "code",
   "source": "",
   "id": "2ecdd4597598cadc",
   "outputs": [],
   "execution_count": null
  },
  {
   "metadata": {},
   "cell_type": "code",
   "outputs": [],
   "execution_count": null,
   "source": "",
   "id": "cd14fa39fe209921"
  }
 ],
 "metadata": {
  "kernelspec": {
   "display_name": "Python 3",
   "language": "python",
   "name": "python3"
  },
  "language_info": {
   "codemirror_mode": {
    "name": "ipython",
    "version": 2
   },
   "file_extension": ".py",
   "mimetype": "text/x-python",
   "name": "python",
   "nbconvert_exporter": "python",
   "pygments_lexer": "ipython2",
   "version": "2.7.6"
  }
 },
 "nbformat": 4,
 "nbformat_minor": 5
}
