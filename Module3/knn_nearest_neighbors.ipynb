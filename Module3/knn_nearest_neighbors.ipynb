{
 "cells": [
  {
   "cell_type": "code",
   "id": "initial_id",
   "metadata": {
    "collapsed": true,
    "ExecuteTime": {
     "end_time": "2024-12-13T04:48:24.399109Z",
     "start_time": "2024-12-13T04:48:24.384436Z"
    }
   },
   "source": [
    "import pandas as pd\n",
    "\n",
    "data = pd.read_csv('Simplified_Tumor_Dataset.csv')\n",
    "data.head()"
   ],
   "outputs": [
    {
     "data": {
      "text/plain": [
       "   Tumor_Size  Smoothness  Concavity  Symmetry Label\n",
       "0         2.5         2.1        1.0       2.8     B\n",
       "1         4.0         3.0        2.0       3.5     M\n",
       "2         3.1         2.5        1.2       3.2     B\n",
       "3         5.2         3.2        2.1       3.8     M\n",
       "4         3.8         2.9        1.9       3.4     B"
      ],
      "text/html": [
       "<div>\n",
       "<style scoped>\n",
       "    .dataframe tbody tr th:only-of-type {\n",
       "        vertical-align: middle;\n",
       "    }\n",
       "\n",
       "    .dataframe tbody tr th {\n",
       "        vertical-align: top;\n",
       "    }\n",
       "\n",
       "    .dataframe thead th {\n",
       "        text-align: right;\n",
       "    }\n",
       "</style>\n",
       "<table border=\"1\" class=\"dataframe\">\n",
       "  <thead>\n",
       "    <tr style=\"text-align: right;\">\n",
       "      <th></th>\n",
       "      <th>Tumor_Size</th>\n",
       "      <th>Smoothness</th>\n",
       "      <th>Concavity</th>\n",
       "      <th>Symmetry</th>\n",
       "      <th>Label</th>\n",
       "    </tr>\n",
       "  </thead>\n",
       "  <tbody>\n",
       "    <tr>\n",
       "      <th>0</th>\n",
       "      <td>2.5</td>\n",
       "      <td>2.1</td>\n",
       "      <td>1.0</td>\n",
       "      <td>2.8</td>\n",
       "      <td>B</td>\n",
       "    </tr>\n",
       "    <tr>\n",
       "      <th>1</th>\n",
       "      <td>4.0</td>\n",
       "      <td>3.0</td>\n",
       "      <td>2.0</td>\n",
       "      <td>3.5</td>\n",
       "      <td>M</td>\n",
       "    </tr>\n",
       "    <tr>\n",
       "      <th>2</th>\n",
       "      <td>3.1</td>\n",
       "      <td>2.5</td>\n",
       "      <td>1.2</td>\n",
       "      <td>3.2</td>\n",
       "      <td>B</td>\n",
       "    </tr>\n",
       "    <tr>\n",
       "      <th>3</th>\n",
       "      <td>5.2</td>\n",
       "      <td>3.2</td>\n",
       "      <td>2.1</td>\n",
       "      <td>3.8</td>\n",
       "      <td>M</td>\n",
       "    </tr>\n",
       "    <tr>\n",
       "      <th>4</th>\n",
       "      <td>3.8</td>\n",
       "      <td>2.9</td>\n",
       "      <td>1.9</td>\n",
       "      <td>3.4</td>\n",
       "      <td>B</td>\n",
       "    </tr>\n",
       "  </tbody>\n",
       "</table>\n",
       "</div>"
      ]
     },
     "execution_count": 3,
     "metadata": {},
     "output_type": "execute_result"
    }
   ],
   "execution_count": 3
  },
  {
   "metadata": {
    "ExecuteTime": {
     "end_time": "2024-12-13T04:55:58.965793Z",
     "start_time": "2024-12-13T04:55:58.962170Z"
    }
   },
   "cell_type": "code",
   "source": "# Based on the provided features, we need to predict whether a tumor is Benign or Malignant based on features",
   "id": "e4aff4776c0dca97",
   "outputs": [],
   "execution_count": 4
  },
  {
   "metadata": {
    "ExecuteTime": {
     "end_time": "2024-12-13T04:57:38.632163Z",
     "start_time": "2024-12-13T04:57:38.628072Z"
    }
   },
   "cell_type": "code",
   "source": [
    "X = data [['Tumor_Size', 'Smoothness', 'Concavity', 'Symmetry']].values\n",
    "Y = data[['Label']].values"
   ],
   "id": "8924b28515d04fa6",
   "outputs": [],
   "execution_count": 9
  },
  {
   "metadata": {
    "ExecuteTime": {
     "end_time": "2024-12-13T05:08:30.821575Z",
     "start_time": "2024-12-13T05:08:30.818140Z"
    }
   },
   "cell_type": "code",
   "source": [
    "from sklearn.model_selection import train_test_split\n",
    "X_train, X_test, Y_train, Y_test = train_test_split(X, Y, test_size=0.5, random_state=0)\n",
    "X_train"
   ],
   "id": "dfb5ae00e422e8be",
   "outputs": [
    {
     "data": {
      "text/plain": [
       "array([[5.2, 3.2, 2.1, 3.8],\n",
       "       [2.5, 2.1, 1. , 2.8],\n",
       "       [6. , 3.5, 2.3, 4. ],\n",
       "       [3.8, 2.9, 1.9, 3.4]])"
      ]
     },
     "execution_count": 19,
     "metadata": {},
     "output_type": "execute_result"
    }
   ],
   "execution_count": 19
  },
  {
   "metadata": {
    "ExecuteTime": {
     "end_time": "2024-12-13T05:08:21.295950Z",
     "start_time": "2024-12-13T05:08:21.290816Z"
    }
   },
   "cell_type": "code",
   "source": [
    "from sklearn.preprocessing import StandardScaler\n",
    "scaler = StandardScaler()\n",
    "X_train_scaled = scaler.fit_transform(X_train)\n",
    "X_test_scaled = scaler.transform(X_test)\n",
    "X_train_scaled"
   ],
   "id": "6aff988f75daedb3",
   "outputs": [
    {
     "data": {
      "text/plain": [
       "array([[ 0.61631125,  0.52740963,  0.55347007,  0.65465367],\n",
       "       [-1.40070738, -1.58222889, -1.6604102 , -1.52752523],\n",
       "       [ 1.2139464 ,  1.10276559,  0.95599375,  1.09108945],\n",
       "       [-0.42955026, -0.04794633,  0.15094638, -0.21821789]])"
      ]
     },
     "execution_count": 18,
     "metadata": {},
     "output_type": "execute_result"
    }
   ],
   "execution_count": 18
  },
  {
   "metadata": {
    "ExecuteTime": {
     "end_time": "2024-12-13T05:22:05.978430Z",
     "start_time": "2024-12-13T05:22:05.878587Z"
    }
   },
   "cell_type": "code",
   "source": [
    "from sklearn.neighbors import KNeighborsClassifier\n",
    "knn = KNeighborsClassifier(n_neighbors=3)\n",
    "\n",
    "# Train the classifier\n",
    "knn.fit(X_train_scaled, Y_train)\n",
    "\n",
    "# Predict on the test set\n",
    "Y_pred = knn.predict(X_test_scaled)"
   ],
   "id": "3cee8dc8ba583b18",
   "outputs": [
    {
     "name": "stderr",
     "output_type": "stream",
     "text": [
      "/Library/Python/3.9/site-packages/sklearn/neighbors/_classification.py:238: DataConversionWarning: A column-vector y was passed when a 1d array was expected. Please change the shape of y to (n_samples,), for example using ravel().\n",
      "  return self._fit(X, y)\n"
     ]
    }
   ],
   "execution_count": 21
  },
  {
   "metadata": {
    "ExecuteTime": {
     "end_time": "2024-12-13T05:22:17.000194Z",
     "start_time": "2024-12-13T05:22:16.994075Z"
    }
   },
   "cell_type": "code",
   "source": [
    "from sklearn.metrics import confusion_matrix\n",
    "\n",
    "conf_matrix = confusion_matrix(Y_test, Y_pred)\n",
    "print(\"Confusion Matrix:\")\n",
    "print(conf_matrix)"
   ],
   "id": "c62f0cef8633c831",
   "outputs": [
    {
     "name": "stdout",
     "output_type": "stream",
     "text": [
      "Confusion Matrix:\n",
      "[[2 0]\n",
      " [0 2]]\n"
     ]
    }
   ],
   "execution_count": 22
  },
  {
   "metadata": {
    "ExecuteTime": {
     "end_time": "2024-12-13T05:25:46.359379Z",
     "start_time": "2024-12-13T05:25:46.349646Z"
    }
   },
   "cell_type": "code",
   "source": [
    "from sklearn.metrics import classification_report\n",
    "\n",
    "class_report = classification_report(Y_test, Y_pred)\n",
    "print(\"\\nClassification Report:\")\n",
    "print(class_report)\n"
   ],
   "id": "788b390e22f048b",
   "outputs": [
    {
     "name": "stdout",
     "output_type": "stream",
     "text": [
      "\n",
      "Classification Report:\n",
      "              precision    recall  f1-score   support\n",
      "\n",
      "           B       1.00      1.00      1.00         2\n",
      "           M       1.00      1.00      1.00         2\n",
      "\n",
      "    accuracy                           1.00         4\n",
      "   macro avg       1.00      1.00      1.00         4\n",
      "weighted avg       1.00      1.00      1.00         4\n",
      "\n"
     ]
    }
   ],
   "execution_count": 24
  },
  {
   "metadata": {
    "ExecuteTime": {
     "end_time": "2024-12-13T05:26:04.622114Z",
     "start_time": "2024-12-13T05:26:04.617721Z"
    }
   },
   "cell_type": "code",
   "source": [
    "from sklearn.metrics import accuracy_score\n",
    "\n",
    "accuracy = accuracy_score(Y_test, Y_pred)\n",
    "print(f\"\\nAccuracy: {accuracy:.2f}\")"
   ],
   "id": "402336654496a16b",
   "outputs": [
    {
     "name": "stdout",
     "output_type": "stream",
     "text": [
      "\n",
      "Accuracy: 1.00\n"
     ]
    }
   ],
   "execution_count": 25
  },
  {
   "metadata": {
    "ExecuteTime": {
     "end_time": "2024-12-13T05:26:34.562824Z",
     "start_time": "2024-12-13T05:26:34.553713Z"
    }
   },
   "cell_type": "code",
   "source": [
    "tn, fp, fn, tp = conf_matrix.ravel()  # Extract components of confusion matrix\n",
    "tnr = tn / (tn + fp) if (tn + fp) != 0 else 0\n",
    "print(f\"\\nTrue Negative Rate (TNR): {tnr:.2f}\")"
   ],
   "id": "e78980cabddcb70a",
   "outputs": [
    {
     "name": "stdout",
     "output_type": "stream",
     "text": [
      "\n",
      "True Negative Rate (TNR): 1.00\n"
     ]
    }
   ],
   "execution_count": 26
  },
  {
   "metadata": {},
   "cell_type": "code",
   "outputs": [],
   "execution_count": null,
   "source": "",
   "id": "26f2aa1585cb5009"
  }
 ],
 "metadata": {
  "kernelspec": {
   "display_name": "Python 3",
   "language": "python",
   "name": "python3"
  },
  "language_info": {
   "codemirror_mode": {
    "name": "ipython",
    "version": 2
   },
   "file_extension": ".py",
   "mimetype": "text/x-python",
   "name": "python",
   "nbconvert_exporter": "python",
   "pygments_lexer": "ipython2",
   "version": "2.7.6"
  }
 },
 "nbformat": 4,
 "nbformat_minor": 5
}
