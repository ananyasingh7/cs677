{
 "cells": [
  {
   "cell_type": "code",
   "id": "initial_id",
   "metadata": {
    "collapsed": true,
    "ExecuteTime": {
     "end_time": "2024-12-08T03:52:53.335783Z",
     "start_time": "2024-12-08T03:52:53.332526Z"
    }
   },
   "source": "print(\"hello\")",
   "outputs": [
    {
     "name": "stdout",
     "output_type": "stream",
     "text": [
      "hello\n"
     ]
    }
   ],
   "execution_count": 1
  },
  {
   "metadata": {
    "ExecuteTime": {
     "end_time": "2024-12-08T03:58:24.012300Z",
     "start_time": "2024-12-08T03:58:23.042200Z"
    }
   },
   "cell_type": "code",
   "source": "!pip3 install yfinance",
   "id": "f6af4e4e401424f7",
   "outputs": [
    {
     "name": "stdout",
     "output_type": "stream",
     "text": [
      "Defaulting to user installation because normal site-packages is not writeable\r\n",
      "Requirement already satisfied: yfinance in /Users/ananyasingh/Library/Python/3.9/lib/python/site-packages (0.2.40)\r\n",
      "Requirement already satisfied: multitasking>=0.0.7 in /Library/Python/3.9/site-packages (from yfinance) (0.0.11)\r\n",
      "Requirement already satisfied: pytz>=2022.5 in /Library/Python/3.9/site-packages (from yfinance) (2024.2)\r\n",
      "Requirement already satisfied: html5lib>=1.1 in /Library/Python/3.9/site-packages (from yfinance) (1.1)\r\n",
      "Requirement already satisfied: frozendict>=2.3.4 in /Library/Python/3.9/site-packages (from yfinance) (2.4.6)\r\n",
      "Requirement already satisfied: pandas>=1.3.0 in /Library/Python/3.9/site-packages (from yfinance) (2.2.3)\r\n",
      "Requirement already satisfied: peewee>=3.16.2 in /Library/Python/3.9/site-packages (from yfinance) (3.17.7)\r\n",
      "Requirement already satisfied: beautifulsoup4>=4.11.1 in /Library/Python/3.9/site-packages (from yfinance) (4.12.3)\r\n",
      "Requirement already satisfied: requests>=2.31 in /Users/ananyasingh/Library/Python/3.9/lib/python/site-packages (from yfinance) (2.32.3)\r\n",
      "Requirement already satisfied: numpy>=1.16.5 in /Library/Python/3.9/site-packages (from yfinance) (2.0.2)\r\n",
      "Requirement already satisfied: platformdirs>=2.0.0 in /Library/Python/3.9/site-packages (from yfinance) (4.3.6)\r\n",
      "Requirement already satisfied: lxml>=4.9.1 in /Library/Python/3.9/site-packages (from yfinance) (5.3.0)\r\n",
      "Requirement already satisfied: soupsieve>1.2 in /Library/Python/3.9/site-packages (from beautifulsoup4>=4.11.1->yfinance) (2.6)\r\n",
      "Requirement already satisfied: six>=1.9 in /Library/Developer/CommandLineTools/Library/Frameworks/Python3.framework/Versions/3.9/lib/python3.9/site-packages (from html5lib>=1.1->yfinance) (1.15.0)\r\n",
      "Requirement already satisfied: webencodings in /Library/Python/3.9/site-packages (from html5lib>=1.1->yfinance) (0.5.1)\r\n",
      "Requirement already satisfied: python-dateutil>=2.8.2 in /Library/Python/3.9/site-packages (from pandas>=1.3.0->yfinance) (2.9.0.post0)\r\n",
      "Requirement already satisfied: tzdata>=2022.7 in /Library/Python/3.9/site-packages (from pandas>=1.3.0->yfinance) (2024.2)\r\n",
      "Requirement already satisfied: certifi>=2017.4.17 in /Users/ananyasingh/Library/Python/3.9/lib/python/site-packages (from requests>=2.31->yfinance) (2024.8.30)\r\n",
      "Requirement already satisfied: idna<4,>=2.5 in /Users/ananyasingh/Library/Python/3.9/lib/python/site-packages (from requests>=2.31->yfinance) (3.9)\r\n",
      "Requirement already satisfied: charset-normalizer<4,>=2 in /Users/ananyasingh/Library/Python/3.9/lib/python/site-packages (from requests>=2.31->yfinance) (3.3.2)\r\n",
      "Requirement already satisfied: urllib3<3,>=1.21.1 in /Users/ananyasingh/Library/Python/3.9/lib/python/site-packages (from requests>=2.31->yfinance) (2.2.3)\r\n",
      "\u001B[33mWARNING: You are using pip version 21.2.4; however, version 24.3.1 is available.\r\n",
      "You should consider upgrading via the '/Library/Developer/CommandLineTools/usr/bin/python3 -m pip install --upgrade pip' command.\u001B[0m\r\n"
     ]
    }
   ],
   "execution_count": 2
  },
  {
   "metadata": {
    "ExecuteTime": {
     "end_time": "2024-12-08T03:59:08.889710Z",
     "start_time": "2024-12-08T03:59:07.953405Z"
    }
   },
   "cell_type": "code",
   "source": [
    "import os\n",
    "import pandas as pd\n",
    "import yfinance as yf\n",
    "\n",
    "def get_stock(ticker, start_date, end_date, s_window, l_window):\n",
    "    try:\n",
    "        df = yf.download(ticker, start=start_date, end=end_date)\n",
    "        df['Return'] = df['Adj Close'].pct_change()\n",
    "        df['Return'].fillna(0, inplace=True)\n",
    "        df['Date'] = df.index\n",
    "        df['Date'] = pd.to_datetime(df['Date'])\n",
    "        df['Month'] = df['Date'].dt.month\n",
    "        df['Year'] = df['Date'].dt.year\n",
    "        df['Day'] = df['Date'].dt.day\n",
    "        for col in ['Open', 'High', 'Low', 'Close', 'Adj Close']:\n",
    "            df[col] = df[col].round(2)\n",
    "        # df['Weekday'] = df['Date'].dt.weekday_name\n",
    "        df['Weekday'] = df['Date'].dt.day_name()\n",
    "        df['Week_Number'] = df['Date'].dt.strftime('%U')\n",
    "        df['Year_Week'] = df['Date'].dt.strftime('%Y-%U')\n",
    "        df['Short_MA'] = df['Adj Close'].rolling(\n",
    "            window=s_window, min_periods=1).mean()\n",
    "        df['Long_MA'] = df['Adj Close'].rolling(\n",
    "            window=l_window, min_periods=1).mean()\n",
    "        col_list = ['Date', 'Year', 'Month', 'Day', 'Weekday',\n",
    "                    'Week_Number', 'Year_Week', 'Open',\n",
    "                    'High', 'Low', 'Close', 'Volume', 'Adj Close',\n",
    "                    'Return', 'Short_MA', 'Long_MA']\n",
    "        num_lines = len(df)\n",
    "        df = df[col_list]\n",
    "        print('read ', num_lines, ' lines of data for ticker: ', ticker)\n",
    "        return df\n",
    "    except Exception as error:\n",
    "        print(error)\n",
    "        return None\n",
    "\n",
    "\n",
    "here = os.path.abspath('')\n",
    "input_dir = os.path.abspath(os.path.join(here, os.pardir))\n",
    "tickers = ['SPY']\n",
    "for ticker in tickers:\n",
    "    try:\n",
    "        output_file = os.path.join(input_dir, ticker + '.csv')\n",
    "        df = get_stock(ticker, start_date='2016-01-01', end_date='2020-12-31',\n",
    "                       s_window=14, l_window=50)\n",
    "        df.to_csv(output_file, index=False)\n",
    "        print('wrote ' + str(len(df)) + ' lines to file: ' + output_file)\n",
    "    except Exception as e:\n",
    "        print(e)\n",
    "        print('failed to get Yahoo stock data for ticker: ', ticker)"
   ],
   "id": "c6ce0c840747f918",
   "outputs": [
    {
     "name": "stderr",
     "output_type": "stream",
     "text": [
      "/Users/ananyasingh/Library/Python/3.9/lib/python/site-packages/urllib3/__init__.py:35: NotOpenSSLWarning: urllib3 v2 only supports OpenSSL 1.1.1+, currently the 'ssl' module is compiled with 'LibreSSL 2.8.3'. See: https://github.com/urllib3/urllib3/issues/3020\n",
      "  warnings.warn(\n",
      "[*********************100%%**********************]  1 of 1 completed"
     ]
    },
    {
     "name": "stdout",
     "output_type": "stream",
     "text": [
      "read  1258  lines of data for ticker:  SPY\n",
      "wrote 1258 lines to file: /Users/ananyasingh/cs677/SPY.csv\n"
     ]
    },
    {
     "name": "stderr",
     "output_type": "stream",
     "text": [
      "\n",
      "/var/folders/04/pnwc2yqj67d2n1jpm5zhwh8c0000gn/T/ipykernel_20763/1554690036.py:9: FutureWarning: A value is trying to be set on a copy of a DataFrame or Series through chained assignment using an inplace method.\n",
      "The behavior will change in pandas 3.0. This inplace method will never work because the intermediate object on which we are setting values always behaves as a copy.\n",
      "\n",
      "For example, when doing 'df[col].method(value, inplace=True)', try using 'df.method({col: value}, inplace=True)' or df[col] = df[col].method(value) instead, to perform the operation inplace on the original object.\n",
      "\n",
      "\n",
      "  df['Return'].fillna(0, inplace=True)\n"
     ]
    }
   ],
   "execution_count": 3
  },
  {
   "metadata": {
    "ExecuteTime": {
     "end_time": "2024-12-08T03:59:55.377736Z",
     "start_time": "2024-12-08T03:59:55.372471Z"
    }
   },
   "cell_type": "code",
   "source": [
    "ticker='SPY'\n",
    "ticker_file = os.path.join(ticker + '.csv')\n",
    "\n",
    "try:\n",
    "    with open(ticker_file) as f:\n",
    "        lines = f.read().splitlines()\n",
    "    print('opened file for ticker: ', ticker)\n",
    "\n",
    "except Exception as e:\n",
    "    print(e)\n",
    "    print('failed to read stock data for ticker: ', ticker)"
   ],
   "id": "909c3098305f190d",
   "outputs": [
    {
     "name": "stdout",
     "output_type": "stream",
     "text": [
      "opened file for ticker:  SPY\n"
     ]
    }
   ],
   "execution_count": 6
  },
  {
   "metadata": {
    "ExecuteTime": {
     "end_time": "2024-12-08T04:55:28.703941Z",
     "start_time": "2024-12-08T04:55:28.690573Z"
    }
   },
   "cell_type": "code",
   "source": "lines[:5]",
   "id": "a6143089442190e7",
   "outputs": [
    {
     "data": {
      "text/plain": [
       "['Date,Year,Month,Day,Weekday,Week_Number,Year_Week,Open,High,Low,Close,Volume,Adj Close,Return,Short_MA,Long_MA',\n",
       " '2016-01-04,2016,1,4,Monday,01,2016-01,200.49,201.03,198.59,201.02,222353500,172.95,0.0,172.95,172.95',\n",
       " '2016-01-05,2016,1,5,Tuesday,01,2016-01,201.4,201.9,200.05,201.36,110845800,173.25,0.0016911857277299713,173.1,173.1',\n",
       " '2016-01-06,2016,1,6,Wednesday,01,2016-01,198.34,200.06,197.6,198.82,152112600,171.06,-0.012614080547340034,172.42,172.42',\n",
       " '2016-01-07,2016,1,7,Thursday,01,2016-01,195.33,197.44,193.59,194.05,213436100,166.96,-0.023991575117910724,171.055,171.055']"
      ]
     },
     "execution_count": 25,
     "metadata": {},
     "output_type": "execute_result"
    }
   ],
   "execution_count": 25
  },
  {
   "metadata": {
    "ExecuteTime": {
     "end_time": "2024-12-08T04:05:31.976860Z",
     "start_time": "2024-12-08T04:05:31.972089Z"
    }
   },
   "cell_type": "code",
   "source": [
    "years = [ int(lines[i].split(',')[1])  for i in range(1, len(lines))]\n",
    "weekdays = [ lines[i].split(',')[4] for i in range(1, len(lines))]\n",
    "ret = [float(lines[i].split(',')[13]) for i in range(1,len(lines))]"
   ],
   "id": "b27cdf8fa56babe5",
   "outputs": [],
   "execution_count": 10
  },
  {
   "metadata": {
    "ExecuteTime": {
     "end_time": "2024-12-08T04:21:20.299797Z",
     "start_time": "2024-12-08T04:21:20.295248Z"
    }
   },
   "cell_type": "code",
   "source": [
    "plus_indices = {i for i in range(len(ret)) if ret[i] >= 0}\n",
    "r_plus = [ret[i] for i in plus_indices]\n",
    "\n",
    "minus_indices = {i for i in range(len(ret)) if ret[i] < 0}\n",
    "r_minus = [ret[i] for i in plus_indices]\n",
    "    \n",
    "all_indices = {i for i in range(len(ret))}\n"
   ],
   "id": "6f5f1f52f585d5d",
   "outputs": [],
   "execution_count": 18
  },
  {
   "metadata": {
    "ExecuteTime": {
     "end_time": "2024-12-08T04:21:20.637806Z",
     "start_time": "2024-12-08T04:21:20.634332Z"
    }
   },
   "cell_type": "code",
   "source": [
    "def returns(weekday,year,pm):\n",
    "  '''\n",
    "  Weekday in {'Monday','Tuesday','Wednesday','Thursday','Friday'}\n",
    "  Year in {2016,2017,2018,2019,2020}\n",
    "  pm any of the three sets plus_indices, minus_indices, or all_indices\n",
    "\n",
    "  Returns the set of specified returns\n",
    "  '''\n",
    "  ind_year = {i for i in range(len(years)) if years[i] == year}\n",
    "  ind_weekday = {i for i in range(len(weekdays)) if weekdays[i] == weekday}\n",
    "  desired_indices = pm.intersection(ind_year).intersection(ind_weekday)\n",
    "\n",
    "  return [ret[i] for i in desired_indices]\n",
    "    "
   ],
   "id": "57026688f55bbd42",
   "outputs": [],
   "execution_count": 19
  },
  {
   "metadata": {
    "ExecuteTime": {
     "end_time": "2024-12-08T04:21:21.111188Z",
     "start_time": "2024-12-08T04:21:21.100169Z"
    }
   },
   "cell_type": "code",
   "source": [
    "import numpy as np\n",
    "year_dict = {0:2016, 1:2017, 2:2018, 3:2019, 4:2020}\n",
    "weekday_dict = {0:'Monday', 1:'Tuesday', 2:'Wednesday', 3:'Thursday', 4:'Friday'}\n",
    "\n",
    "all_tables = []\n",
    "\n",
    "for j in range(5):\n",
    "    y = year_dict[j]\n",
    "    year_summary = []\n",
    "    \n",
    "    for i in range(5):\n",
    "        w = weekday_dict[i]\n",
    "        all = returns(w, y, all_indices)\n",
    "        neg = returns(w, y, minus_indices)\n",
    "        pos = returns(w, y, plus_indices)\n",
    "        \n",
    "        year_summary.append([np.mean(all), np.std(all), len(neg), np.mean(neg), np.std(neg), len(pos), np.mean(pos), np.std(pos)])\n",
    "    \n",
    "    all_tables.append(year_summary)"
   ],
   "id": "9f5c766f940904ed",
   "outputs": [],
   "execution_count": 20
  },
  {
   "metadata": {
    "ExecuteTime": {
     "end_time": "2024-12-08T04:22:21.908604Z",
     "start_time": "2024-12-08T04:22:21.341159Z"
    }
   },
   "cell_type": "code",
   "source": [
    "import pandas as pd\n",
    "\n",
    "col_list = ['mean(R)','std(R)','|R_minus|','mean(R_minus)','std(R_minus)','|R_plus|','mean(R_plus)','std(R_plus)']\n",
    "row_list = weekday_dict.values()\n",
    "\n",
    "l = []\n",
    "for i in range(5):\n",
    "    df = pd.DataFrame(all_tables[i],columns=col_list, index=row_list)\n",
    "    df = df.style.set_caption(str(year_dict[i])+' Summary by Day of Week')\n",
    "    l.append(df)\n",
    "\n",
    "l[0]"
   ],
   "id": "25c4f85d70419792",
   "outputs": [
    {
     "data": {
      "text/plain": [
       "<pandas.io.formats.style.Styler at 0x120084700>"
      ],
      "text/html": [
       "<style type=\"text/css\">\n",
       "</style>\n",
       "<table id=\"T_c0009\">\n",
       "  <caption>2016 Summary by Day of Week</caption>\n",
       "  <thead>\n",
       "    <tr>\n",
       "      <th class=\"blank level0\" >&nbsp;</th>\n",
       "      <th id=\"T_c0009_level0_col0\" class=\"col_heading level0 col0\" >mean(R)</th>\n",
       "      <th id=\"T_c0009_level0_col1\" class=\"col_heading level0 col1\" >std(R)</th>\n",
       "      <th id=\"T_c0009_level0_col2\" class=\"col_heading level0 col2\" >|R_minus|</th>\n",
       "      <th id=\"T_c0009_level0_col3\" class=\"col_heading level0 col3\" >mean(R_minus)</th>\n",
       "      <th id=\"T_c0009_level0_col4\" class=\"col_heading level0 col4\" >std(R_minus)</th>\n",
       "      <th id=\"T_c0009_level0_col5\" class=\"col_heading level0 col5\" >|R_plus|</th>\n",
       "      <th id=\"T_c0009_level0_col6\" class=\"col_heading level0 col6\" >mean(R_plus)</th>\n",
       "      <th id=\"T_c0009_level0_col7\" class=\"col_heading level0 col7\" >std(R_plus)</th>\n",
       "    </tr>\n",
       "  </thead>\n",
       "  <tbody>\n",
       "    <tr>\n",
       "      <th id=\"T_c0009_level0_row0\" class=\"row_heading level0 row0\" >Monday</th>\n",
       "      <td id=\"T_c0009_row0_col0\" class=\"data row0 col0\" >0.000777</td>\n",
       "      <td id=\"T_c0009_row0_col1\" class=\"data row0 col1\" >0.007134</td>\n",
       "      <td id=\"T_c0009_row0_col2\" class=\"data row0 col2\" >20</td>\n",
       "      <td id=\"T_c0009_row0_col3\" class=\"data row0 col3\" >-0.004818</td>\n",
       "      <td id=\"T_c0009_row0_col4\" class=\"data row0 col4\" >0.005123</td>\n",
       "      <td id=\"T_c0009_row0_col5\" class=\"data row0 col5\" >26</td>\n",
       "      <td id=\"T_c0009_row0_col6\" class=\"data row0 col6\" >0.005081</td>\n",
       "      <td id=\"T_c0009_row0_col7\" class=\"data row0 col7\" >0.005220</td>\n",
       "    </tr>\n",
       "    <tr>\n",
       "      <th id=\"T_c0009_level0_row1\" class=\"row_heading level0 row1\" >Tuesday</th>\n",
       "      <td id=\"T_c0009_row1_col0\" class=\"data row1 col0\" >0.001052</td>\n",
       "      <td id=\"T_c0009_row1_col1\" class=\"data row1 col1\" >0.008370</td>\n",
       "      <td id=\"T_c0009_row1_col2\" class=\"data row1 col2\" >20</td>\n",
       "      <td id=\"T_c0009_row1_col3\" class=\"data row1 col3\" >-0.006988</td>\n",
       "      <td id=\"T_c0009_row1_col4\" class=\"data row1 col4\" >0.004894</td>\n",
       "      <td id=\"T_c0009_row1_col5\" class=\"data row1 col5\" >32</td>\n",
       "      <td id=\"T_c0009_row1_col6\" class=\"data row1 col6\" >0.006077</td>\n",
       "      <td id=\"T_c0009_row1_col7\" class=\"data row1 col7\" >0.005764</td>\n",
       "    </tr>\n",
       "    <tr>\n",
       "      <th id=\"T_c0009_level0_row2\" class=\"row_heading level0 row2\" >Wednesday</th>\n",
       "      <td id=\"T_c0009_row2_col0\" class=\"data row2 col0\" >0.000642</td>\n",
       "      <td id=\"T_c0009_row2_col1\" class=\"data row2 col1\" >0.007560</td>\n",
       "      <td id=\"T_c0009_row2_col2\" class=\"data row2 col2\" >24</td>\n",
       "      <td id=\"T_c0009_row2_col3\" class=\"data row2 col3\" >-0.005432</td>\n",
       "      <td id=\"T_c0009_row2_col4\" class=\"data row2 col4\" >0.005622</td>\n",
       "      <td id=\"T_c0009_row2_col5\" class=\"data row2 col5\" >28</td>\n",
       "      <td id=\"T_c0009_row2_col6\" class=\"data row2 col6\" >0.005849</td>\n",
       "      <td id=\"T_c0009_row2_col7\" class=\"data row2 col7\" >0.004509</td>\n",
       "    </tr>\n",
       "    <tr>\n",
       "      <th id=\"T_c0009_level0_row3\" class=\"row_heading level0 row3\" >Thursday</th>\n",
       "      <td id=\"T_c0009_row3_col0\" class=\"data row3 col0\" >0.000419</td>\n",
       "      <td id=\"T_c0009_row3_col1\" class=\"data row3 col1\" >0.006790</td>\n",
       "      <td id=\"T_c0009_row3_col2\" class=\"data row3 col2\" >23</td>\n",
       "      <td id=\"T_c0009_row3_col3\" class=\"data row3 col3\" >-0.004776</td>\n",
       "      <td id=\"T_c0009_row3_col4\" class=\"data row3 col4\" >0.005407</td>\n",
       "      <td id=\"T_c0009_row3_col5\" class=\"data row3 col5\" >28</td>\n",
       "      <td id=\"T_c0009_row3_col6\" class=\"data row3 col6\" >0.004686</td>\n",
       "      <td id=\"T_c0009_row3_col7\" class=\"data row3 col7\" >0.004426</td>\n",
       "    </tr>\n",
       "    <tr>\n",
       "      <th id=\"T_c0009_level0_row4\" class=\"row_heading level0 row4\" >Friday</th>\n",
       "      <td id=\"T_c0009_row4_col0\" class=\"data row4 col0\" >-0.000185</td>\n",
       "      <td id=\"T_c0009_row4_col1\" class=\"data row4 col1\" >0.010318</td>\n",
       "      <td id=\"T_c0009_row4_col2\" class=\"data row4 col2\" >26</td>\n",
       "      <td id=\"T_c0009_row4_col3\" class=\"data row4 col3\" >-0.006848</td>\n",
       "      <td id=\"T_c0009_row4_col4\" class=\"data row4 col4\" >0.008580</td>\n",
       "      <td id=\"T_c0009_row4_col5\" class=\"data row4 col5\" >25</td>\n",
       "      <td id=\"T_c0009_row4_col6\" class=\"data row4 col6\" >0.006746</td>\n",
       "      <td id=\"T_c0009_row4_col7\" class=\"data row4 col7\" >0.006814</td>\n",
       "    </tr>\n",
       "  </tbody>\n",
       "</table>\n"
      ]
     },
     "execution_count": 21,
     "metadata": {},
     "output_type": "execute_result"
    }
   ],
   "execution_count": 21
  },
  {
   "metadata": {
    "ExecuteTime": {
     "end_time": "2024-12-08T04:23:32.450207Z",
     "start_time": "2024-12-08T04:23:32.434414Z"
    }
   },
   "cell_type": "code",
   "source": "l[1]",
   "id": "28177d4063f7a352",
   "outputs": [
    {
     "data": {
      "text/plain": [
       "<pandas.io.formats.style.Styler at 0x110dfcb80>"
      ],
      "text/html": [
       "<style type=\"text/css\">\n",
       "</style>\n",
       "<table id=\"T_0f052\">\n",
       "  <caption>2017 Summary by Day of Week</caption>\n",
       "  <thead>\n",
       "    <tr>\n",
       "      <th class=\"blank level0\" >&nbsp;</th>\n",
       "      <th id=\"T_0f052_level0_col0\" class=\"col_heading level0 col0\" >mean(R)</th>\n",
       "      <th id=\"T_0f052_level0_col1\" class=\"col_heading level0 col1\" >std(R)</th>\n",
       "      <th id=\"T_0f052_level0_col2\" class=\"col_heading level0 col2\" >|R_minus|</th>\n",
       "      <th id=\"T_0f052_level0_col3\" class=\"col_heading level0 col3\" >mean(R_minus)</th>\n",
       "      <th id=\"T_0f052_level0_col4\" class=\"col_heading level0 col4\" >std(R_minus)</th>\n",
       "      <th id=\"T_0f052_level0_col5\" class=\"col_heading level0 col5\" >|R_plus|</th>\n",
       "      <th id=\"T_0f052_level0_col6\" class=\"col_heading level0 col6\" >mean(R_plus)</th>\n",
       "      <th id=\"T_0f052_level0_col7\" class=\"col_heading level0 col7\" >std(R_plus)</th>\n",
       "    </tr>\n",
       "  </thead>\n",
       "  <tbody>\n",
       "    <tr>\n",
       "      <th id=\"T_0f052_level0_row0\" class=\"row_heading level0 row0\" >Monday</th>\n",
       "      <td id=\"T_0f052_row0_col0\" class=\"data row0 col0\" >0.001340</td>\n",
       "      <td id=\"T_0f052_row0_col1\" class=\"data row0 col1\" >0.003886</td>\n",
       "      <td id=\"T_0f052_row0_col2\" class=\"data row0 col2\" >20</td>\n",
       "      <td id=\"T_0f052_row0_col3\" class=\"data row0 col3\" >-0.001790</td>\n",
       "      <td id=\"T_0f052_row0_col4\" class=\"data row0 col4\" >0.001550</td>\n",
       "      <td id=\"T_0f052_row0_col5\" class=\"data row0 col5\" >26</td>\n",
       "      <td id=\"T_0f052_row0_col6\" class=\"data row0 col6\" >0.003748</td>\n",
       "      <td id=\"T_0f052_row0_col7\" class=\"data row0 col7\" >0.003397</td>\n",
       "    </tr>\n",
       "    <tr>\n",
       "      <th id=\"T_0f052_level0_row1\" class=\"row_heading level0 row1\" >Tuesday</th>\n",
       "      <td id=\"T_0f052_row1_col0\" class=\"data row1 col0\" >0.000417</td>\n",
       "      <td id=\"T_0f052_row1_col1\" class=\"data row1 col1\" >0.004415</td>\n",
       "      <td id=\"T_0f052_row1_col2\" class=\"data row1 col2\" >23</td>\n",
       "      <td id=\"T_0f052_row1_col3\" class=\"data row1 col3\" >-0.003174</td>\n",
       "      <td id=\"T_0f052_row1_col4\" class=\"data row1 col4\" >0.002971</td>\n",
       "      <td id=\"T_0f052_row1_col5\" class=\"data row1 col5\" >28</td>\n",
       "      <td id=\"T_0f052_row1_col6\" class=\"data row1 col6\" >0.003367</td>\n",
       "      <td id=\"T_0f052_row1_col7\" class=\"data row1 col7\" >0.002992</td>\n",
       "    </tr>\n",
       "    <tr>\n",
       "      <th id=\"T_0f052_level0_row2\" class=\"row_heading level0 row2\" >Wednesday</th>\n",
       "      <td id=\"T_0f052_row2_col0\" class=\"data row2 col0\" >0.001082</td>\n",
       "      <td id=\"T_0f052_row2_col1\" class=\"data row2 col1\" >0.004456</td>\n",
       "      <td id=\"T_0f052_row2_col2\" class=\"data row2 col2\" >19</td>\n",
       "      <td id=\"T_0f052_row2_col3\" class=\"data row2 col3\" >-0.002579</td>\n",
       "      <td id=\"T_0f052_row2_col4\" class=\"data row2 col4\" >0.003918</td>\n",
       "      <td id=\"T_0f052_row2_col5\" class=\"data row2 col5\" >33</td>\n",
       "      <td id=\"T_0f052_row2_col6\" class=\"data row2 col6\" >0.003190</td>\n",
       "      <td id=\"T_0f052_row2_col7\" class=\"data row2 col7\" >0.003208</td>\n",
       "    </tr>\n",
       "    <tr>\n",
       "      <th id=\"T_0f052_level0_row3\" class=\"row_heading level0 row3\" >Thursday</th>\n",
       "      <td id=\"T_0f052_row3_col0\" class=\"data row3 col0\" >-0.000208</td>\n",
       "      <td id=\"T_0f052_row3_col1\" class=\"data row3 col1\" >0.004930</td>\n",
       "      <td id=\"T_0f052_row3_col2\" class=\"data row3 col2\" >25</td>\n",
       "      <td id=\"T_0f052_row3_col3\" class=\"data row3 col3\" >-0.003773</td>\n",
       "      <td id=\"T_0f052_row3_col4\" class=\"data row3 col4\" >0.004070</td>\n",
       "      <td id=\"T_0f052_row3_col5\" class=\"data row3 col5\" >26</td>\n",
       "      <td id=\"T_0f052_row3_col6\" class=\"data row3 col6\" >0.003219</td>\n",
       "      <td id=\"T_0f052_row3_col7\" class=\"data row3 col7\" >0.002789</td>\n",
       "    </tr>\n",
       "    <tr>\n",
       "      <th id=\"T_0f052_level0_row4\" class=\"row_heading level0 row4\" >Friday</th>\n",
       "      <td id=\"T_0f052_row4_col0\" class=\"data row4 col0\" >0.001376</td>\n",
       "      <td id=\"T_0f052_row4_col1\" class=\"data row4 col1\" >0.002995</td>\n",
       "      <td id=\"T_0f052_row4_col2\" class=\"data row4 col2\" >20</td>\n",
       "      <td id=\"T_0f052_row4_col3\" class=\"data row4 col3\" >-0.001573</td>\n",
       "      <td id=\"T_0f052_row4_col4\" class=\"data row4 col4\" >0.000941</td>\n",
       "      <td id=\"T_0f052_row4_col5\" class=\"data row4 col5\" >31</td>\n",
       "      <td id=\"T_0f052_row4_col6\" class=\"data row4 col6\" >0.003279</td>\n",
       "      <td id=\"T_0f052_row4_col7\" class=\"data row4 col7\" >0.002225</td>\n",
       "    </tr>\n",
       "  </tbody>\n",
       "</table>\n"
      ]
     },
     "execution_count": 22,
     "metadata": {},
     "output_type": "execute_result"
    }
   ],
   "execution_count": 22
  },
  {
   "metadata": {
    "ExecuteTime": {
     "end_time": "2024-12-08T04:41:02.587467Z",
     "start_time": "2024-12-08T04:41:02.570484Z"
    }
   },
   "cell_type": "code",
   "source": [
    "import pandas as pd\n",
    "# Make aggregate table for all years\n",
    "all_years = []\n",
    "for i in range(5):\n",
    "    w = weekday_dict[i]\n",
    "    all = []\n",
    "    neg = []\n",
    "    pos = []\n",
    "    \n",
    "    for j in range(5):\n",
    "        y = year_dict[j]\n",
    "        all.extend(returns(w, y, all_indices))\n",
    "        neg.extend(returns(w, y, minus_indices))\n",
    "        pos.extend(returns(w, y, plus_indices))\n",
    "    \n",
    "    all_years.append([np.mean(all), np.std(all), len(neg), np.mean(neg), np.std(neg), len(pos), np.mean(pos), np.std(pos)])\n",
    "    \n",
    "df = pd.DataFrame(all_years,columns=col_list, index=row_list)\n",
    "df = df.style.set_caption('All Years Summary by Day of Week')\n",
    "df"
   ],
   "id": "bdf62d1f136adae3",
   "outputs": [
    {
     "data": {
      "text/plain": [
       "<pandas.io.formats.style.Styler at 0x117e908e0>"
      ],
      "text/html": [
       "<style type=\"text/css\">\n",
       "</style>\n",
       "<table id=\"T_9ab6f\">\n",
       "  <caption>All Years Summary by Day of Week</caption>\n",
       "  <thead>\n",
       "    <tr>\n",
       "      <th class=\"blank level0\" >&nbsp;</th>\n",
       "      <th id=\"T_9ab6f_level0_col0\" class=\"col_heading level0 col0\" >mean(R)</th>\n",
       "      <th id=\"T_9ab6f_level0_col1\" class=\"col_heading level0 col1\" >std(R)</th>\n",
       "      <th id=\"T_9ab6f_level0_col2\" class=\"col_heading level0 col2\" >|R_minus|</th>\n",
       "      <th id=\"T_9ab6f_level0_col3\" class=\"col_heading level0 col3\" >mean(R_minus)</th>\n",
       "      <th id=\"T_9ab6f_level0_col4\" class=\"col_heading level0 col4\" >std(R_minus)</th>\n",
       "      <th id=\"T_9ab6f_level0_col5\" class=\"col_heading level0 col5\" >|R_plus|</th>\n",
       "      <th id=\"T_9ab6f_level0_col6\" class=\"col_heading level0 col6\" >mean(R_plus)</th>\n",
       "      <th id=\"T_9ab6f_level0_col7\" class=\"col_heading level0 col7\" >std(R_plus)</th>\n",
       "    </tr>\n",
       "  </thead>\n",
       "  <tbody>\n",
       "    <tr>\n",
       "      <th id=\"T_9ab6f_level0_row0\" class=\"row_heading level0 row0\" >Monday</th>\n",
       "      <td id=\"T_9ab6f_row0_col0\" class=\"data row0 col0\" >0.000509</td>\n",
       "      <td id=\"T_9ab6f_row0_col1\" class=\"data row0 col1\" >0.013913</td>\n",
       "      <td id=\"T_9ab6f_row0_col2\" class=\"data row0 col2\" >99</td>\n",
       "      <td id=\"T_9ab6f_row0_col3\" class=\"data row0 col3\" >-0.008613</td>\n",
       "      <td id=\"T_9ab6f_row0_col4\" class=\"data row0 col4\" >0.014802</td>\n",
       "      <td id=\"T_9ab6f_row0_col5\" class=\"data row0 col5\" >137</td>\n",
       "      <td id=\"T_9ab6f_row0_col6\" class=\"data row0 col6\" >0.007100</td>\n",
       "      <td id=\"T_9ab6f_row0_col7\" class=\"data row0 col7\" >0.008460</td>\n",
       "    </tr>\n",
       "    <tr>\n",
       "      <th id=\"T_9ab6f_level0_row1\" class=\"row_heading level0 row1\" >Tuesday</th>\n",
       "      <td id=\"T_9ab6f_row1_col0\" class=\"data row1 col0\" >0.001215</td>\n",
       "      <td id=\"T_9ab6f_row1_col1\" class=\"data row1 col1\" >0.011465</td>\n",
       "      <td id=\"T_9ab6f_row1_col2\" class=\"data row1 col2\" >112</td>\n",
       "      <td id=\"T_9ab6f_row1_col3\" class=\"data row1 col3\" >-0.006709</td>\n",
       "      <td id=\"T_9ab6f_row1_col4\" class=\"data row1 col4\" >0.006935</td>\n",
       "      <td id=\"T_9ab6f_row1_col5\" class=\"data row1 col5\" >146</td>\n",
       "      <td id=\"T_9ab6f_row1_col6\" class=\"data row1 col6\" >0.007294</td>\n",
       "      <td id=\"T_9ab6f_row1_col7\" class=\"data row1 col7\" >0.010500</td>\n",
       "    </tr>\n",
       "    <tr>\n",
       "      <th id=\"T_9ab6f_level0_row2\" class=\"row_heading level0 row2\" >Wednesday</th>\n",
       "      <td id=\"T_9ab6f_row2_col0\" class=\"data row2 col0\" >0.000906</td>\n",
       "      <td id=\"T_9ab6f_row2_col1\" class=\"data row2 col1\" >0.011115</td>\n",
       "      <td id=\"T_9ab6f_row2_col2\" class=\"data row2 col2\" >106</td>\n",
       "      <td id=\"T_9ab6f_row2_col3\" class=\"data row2 col3\" >-0.007369</td>\n",
       "      <td id=\"T_9ab6f_row2_col4\" class=\"data row2 col4\" >0.010126</td>\n",
       "      <td id=\"T_9ab6f_row2_col5\" class=\"data row2 col5\" >151</td>\n",
       "      <td id=\"T_9ab6f_row2_col6\" class=\"data row2 col6\" >0.006715</td>\n",
       "      <td id=\"T_9ab6f_row2_col7\" class=\"data row2 col7\" >0.007515</td>\n",
       "    </tr>\n",
       "    <tr>\n",
       "      <th id=\"T_9ab6f_level0_row3\" class=\"row_heading level0 row3\" >Thursday</th>\n",
       "      <td id=\"T_9ab6f_row3_col0\" class=\"data row3 col0\" >-0.000021</td>\n",
       "      <td id=\"T_9ab6f_row3_col1\" class=\"data row3 col1\" >0.011676</td>\n",
       "      <td id=\"T_9ab6f_row3_col2\" class=\"data row3 col2\" >117</td>\n",
       "      <td id=\"T_9ab6f_row3_col3\" class=\"data row3 col3\" >-0.007136</td>\n",
       "      <td id=\"T_9ab6f_row3_col4\" class=\"data row3 col4\" >0.012440</td>\n",
       "      <td id=\"T_9ab6f_row3_col5\" class=\"data row3 col5\" >137</td>\n",
       "      <td id=\"T_9ab6f_row3_col6\" class=\"data row3 col6\" >0.006055</td>\n",
       "      <td id=\"T_9ab6f_row3_col7\" class=\"data row3 col7\" >0.006362</td>\n",
       "    </tr>\n",
       "    <tr>\n",
       "      <th id=\"T_9ab6f_level0_row4\" class=\"row_heading level0 row4\" >Friday</th>\n",
       "      <td id=\"T_9ab6f_row4_col0\" class=\"data row4 col0\" >0.000556</td>\n",
       "      <td id=\"T_9ab6f_row4_col1\" class=\"data row4 col1\" >0.011111</td>\n",
       "      <td id=\"T_9ab6f_row4_col2\" class=\"data row4 col2\" >111</td>\n",
       "      <td id=\"T_9ab6f_row4_col3\" class=\"data row4 col3\" >-0.007257</td>\n",
       "      <td id=\"T_9ab6f_row4_col4\" class=\"data row4 col4\" >0.008449</td>\n",
       "      <td id=\"T_9ab6f_row4_col5\" class=\"data row4 col5\" >142</td>\n",
       "      <td id=\"T_9ab6f_row4_col6\" class=\"data row4 col6\" >0.006663</td>\n",
       "      <td id=\"T_9ab6f_row4_col7\" class=\"data row4 col7\" >0.008895</td>\n",
       "    </tr>\n",
       "  </tbody>\n",
       "</table>\n"
      ]
     },
     "execution_count": 24,
     "metadata": {},
     "output_type": "execute_result"
    }
   ],
   "execution_count": 24
  },
  {
   "metadata": {},
   "cell_type": "code",
   "outputs": [],
   "execution_count": null,
   "source": "",
   "id": "c120d293c4ef5f85"
  }
 ],
 "metadata": {
  "kernelspec": {
   "display_name": "Python 3",
   "language": "python",
   "name": "python3"
  },
  "language_info": {
   "codemirror_mode": {
    "name": "ipython",
    "version": 2
   },
   "file_extension": ".py",
   "mimetype": "text/x-python",
   "name": "python",
   "nbconvert_exporter": "python",
   "pygments_lexer": "ipython2",
   "version": "2.7.6"
  }
 },
 "nbformat": 4,
 "nbformat_minor": 5
}
