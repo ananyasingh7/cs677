{
 "cells": [
  {
   "cell_type": "code",
   "id": "initial_id",
   "metadata": {
    "collapsed": true,
    "ExecuteTime": {
     "end_time": "2024-12-07T20:00:56.572282Z",
     "start_time": "2024-12-07T20:00:56.495925Z"
    }
   },
   "source": "import numpy as np",
   "outputs": [],
   "execution_count": 2
  },
  {
   "metadata": {
    "ExecuteTime": {
     "end_time": "2024-12-07T20:01:14.902275Z",
     "start_time": "2024-12-07T20:01:14.897641Z"
    }
   },
   "cell_type": "code",
   "source": [
    "x = np.array([1, 2, 3, 4, 5, 6, 7, 8, 9, 10])\n",
    "mean = np.mean(x)\n",
    "mean"
   ],
   "id": "dd09e11d2fc4fb49",
   "outputs": [
    {
     "data": {
      "text/plain": [
       "np.float64(5.5)"
      ]
     },
     "execution_count": 3,
     "metadata": {},
     "output_type": "execute_result"
    }
   ],
   "execution_count": 3
  },
  {
   "metadata": {
    "ExecuteTime": {
     "end_time": "2024-12-08T01:36:33.294625Z",
     "start_time": "2024-12-08T01:36:33.281030Z"
    }
   },
   "cell_type": "code",
   "source": "np.std(x)",
   "id": "a524f23bfdb1d9f6",
   "outputs": [
    {
     "data": {
      "text/plain": [
       "np.float64(2.8722813232690143)"
      ]
     },
     "execution_count": 4,
     "metadata": {},
     "output_type": "execute_result"
    }
   ],
   "execution_count": 4
  },
  {
   "metadata": {
    "ExecuteTime": {
     "end_time": "2024-12-08T01:41:32.305660Z",
     "start_time": "2024-12-08T01:41:32.294076Z"
    }
   },
   "cell_type": "code",
   "source": [
    "from timeit import timeit\n",
    "from random import random\n",
    "n = 1000\n",
    "\n",
    "x_list = [ random() for i in range(n) ]\n",
    "y_list = [ random() for i in range(n) ]\n",
    "timeit()\n",
    "z_list = [ x_list[i] + y_list[i] for i in range(n) ]"
   ],
   "id": "2b5e3ca571414d3",
   "outputs": [],
   "execution_count": 8
  },
  {
   "metadata": {
    "ExecuteTime": {
     "end_time": "2024-12-08T01:42:28.658080Z",
     "start_time": "2024-12-08T01:42:28.653252Z"
    }
   },
   "cell_type": "code",
   "source": "np.arange(0 ,5, 1)",
   "id": "992f395de1dff037",
   "outputs": [
    {
     "data": {
      "text/plain": [
       "array([0, 1, 2, 3, 4])"
      ]
     },
     "execution_count": 9,
     "metadata": {},
     "output_type": "execute_result"
    }
   ],
   "execution_count": 9
  },
  {
   "metadata": {
    "ExecuteTime": {
     "end_time": "2024-12-08T01:43:23.008696Z",
     "start_time": "2024-12-08T01:43:23.001901Z"
    }
   },
   "cell_type": "code",
   "source": "np.zeros(5, dtype=float)",
   "id": "3f7e7b6d106c62aa",
   "outputs": [
    {
     "data": {
      "text/plain": [
       "array([0., 0., 0., 0., 0.])"
      ]
     },
     "execution_count": 11,
     "metadata": {},
     "output_type": "execute_result"
    }
   ],
   "execution_count": 11
  },
  {
   "metadata": {
    "ExecuteTime": {
     "end_time": "2024-12-08T01:43:31.951571Z",
     "start_time": "2024-12-08T01:43:31.947548Z"
    }
   },
   "cell_type": "code",
   "source": "np.eye(2)",
   "id": "43d0d29575b8d63f",
   "outputs": [
    {
     "data": {
      "text/plain": [
       "array([[1., 0.],\n",
       "       [0., 1.]])"
      ]
     },
     "execution_count": 12,
     "metadata": {},
     "output_type": "execute_result"
    }
   ],
   "execution_count": 12
  },
  {
   "metadata": {
    "ExecuteTime": {
     "end_time": "2024-12-08T01:43:52.460942Z",
     "start_time": "2024-12-08T01:43:52.456818Z"
    }
   },
   "cell_type": "code",
   "source": "np.diag([5, 10])",
   "id": "42aa8e05bedb5bd0",
   "outputs": [
    {
     "data": {
      "text/plain": [
       "array([[ 5,  0],\n",
       "       [ 0, 10]])"
      ]
     },
     "execution_count": 13,
     "metadata": {},
     "output_type": "execute_result"
    }
   ],
   "execution_count": 13
  },
  {
   "metadata": {
    "ExecuteTime": {
     "end_time": "2024-12-08T01:49:59.271587Z",
     "start_time": "2024-12-08T01:49:59.261515Z"
    }
   },
   "cell_type": "code",
   "source": [
    "x = np.array([1,2,3])\n",
    "y = np.array([4,5,6])\n",
    "z = x + y\n",
    "z"
   ],
   "id": "497072f32fec363a",
   "outputs": [
    {
     "data": {
      "text/plain": [
       "array([5, 7, 9])"
      ]
     },
     "execution_count": 14,
     "metadata": {},
     "output_type": "execute_result"
    }
   ],
   "execution_count": 14
  },
  {
   "metadata": {
    "ExecuteTime": {
     "end_time": "2024-12-08T01:50:11.448100Z",
     "start_time": "2024-12-08T01:50:11.443685Z"
    }
   },
   "cell_type": "code",
   "source": [
    "w = 2 + y\n",
    "w"
   ],
   "id": "bad04d37b45aacb6",
   "outputs": [
    {
     "data": {
      "text/plain": [
       "array([6, 7, 8])"
      ]
     },
     "execution_count": 15,
     "metadata": {},
     "output_type": "execute_result"
    }
   ],
   "execution_count": 15
  },
  {
   "metadata": {
    "ExecuteTime": {
     "end_time": "2024-12-08T01:52:11.304457Z",
     "start_time": "2024-12-08T01:52:11.294240Z"
    }
   },
   "cell_type": "code",
   "source": "np.linspace(0, 1, 5)",
   "id": "3dd622f89dc3eea5",
   "outputs": [
    {
     "data": {
      "text/plain": [
       "array([0.  , 0.25, 0.5 , 0.75, 1.  ])"
      ]
     },
     "execution_count": 16,
     "metadata": {},
     "output_type": "execute_result"
    }
   ],
   "execution_count": 16
  },
  {
   "metadata": {
    "ExecuteTime": {
     "end_time": "2024-12-08T01:54:28.554563Z",
     "start_time": "2024-12-08T01:54:28.545330Z"
    }
   },
   "cell_type": "code",
   "source": "2 * np.linspace(0, 1, 5)",
   "id": "736fd538d93a7e4b",
   "outputs": [
    {
     "data": {
      "text/plain": [
       "array([0. , 0.5, 1. , 1.5, 2. ])"
      ]
     },
     "execution_count": 17,
     "metadata": {},
     "output_type": "execute_result"
    }
   ],
   "execution_count": 17
  },
  {
   "metadata": {
    "ExecuteTime": {
     "end_time": "2024-12-08T01:54:49.205257Z",
     "start_time": "2024-12-08T01:54:49.200955Z"
    }
   },
   "cell_type": "code",
   "source": "np.sin(np.linspace(0, 1, 5))",
   "id": "2f9867047ff73bbb",
   "outputs": [
    {
     "data": {
      "text/plain": [
       "array([0.        , 0.24740396, 0.47942554, 0.68163876, 0.84147098])"
      ]
     },
     "execution_count": 19,
     "metadata": {},
     "output_type": "execute_result"
    }
   ],
   "execution_count": 19
  },
  {
   "metadata": {
    "ExecuteTime": {
     "end_time": "2024-12-08T01:55:12.046865Z",
     "start_time": "2024-12-08T01:55:12.042680Z"
    }
   },
   "cell_type": "code",
   "source": "np.arange(1, 37).reshape(6, 6)",
   "id": "3f068e9dbb343e5f",
   "outputs": [
    {
     "data": {
      "text/plain": [
       "array([[ 1,  2,  3,  4,  5,  6],\n",
       "       [ 7,  8,  9, 10, 11, 12],\n",
       "       [13, 14, 15, 16, 17, 18],\n",
       "       [19, 20, 21, 22, 23, 24],\n",
       "       [25, 26, 27, 28, 29, 30],\n",
       "       [31, 32, 33, 34, 35, 36]])"
      ]
     },
     "execution_count": 21,
     "metadata": {},
     "output_type": "execute_result"
    }
   ],
   "execution_count": 21
  },
  {
   "metadata": {
    "ExecuteTime": {
     "end_time": "2024-12-08T01:55:34.741334Z",
     "start_time": "2024-12-08T01:55:34.738771Z"
    }
   },
   "cell_type": "code",
   "source": "np.arange(1, 37).reshape(6, 6).transpose()",
   "id": "dfb16ce192a3e9fe",
   "outputs": [
    {
     "data": {
      "text/plain": [
       "array([[ 1,  7, 13, 19, 25, 31],\n",
       "       [ 2,  8, 14, 20, 26, 32],\n",
       "       [ 3,  9, 15, 21, 27, 33],\n",
       "       [ 4, 10, 16, 22, 28, 34],\n",
       "       [ 5, 11, 17, 23, 29, 35],\n",
       "       [ 6, 12, 18, 24, 30, 36]])"
      ]
     },
     "execution_count": 22,
     "metadata": {},
     "output_type": "execute_result"
    }
   ],
   "execution_count": 22
  },
  {
   "metadata": {
    "ExecuteTime": {
     "end_time": "2024-12-08T01:59:40.206177Z",
     "start_time": "2024-12-08T01:59:40.198471Z"
    }
   },
   "cell_type": "code",
   "source": [
    "V = np.array([10,4])\n",
    "W = np.array([4,8])\n",
    "Z = V - W\n",
    "Z"
   ],
   "id": "910787c62324816",
   "outputs": [
    {
     "data": {
      "text/plain": [
       "array([ 6, -4])"
      ]
     },
     "execution_count": 23,
     "metadata": {},
     "output_type": "execute_result"
    }
   ],
   "execution_count": 23
  },
  {
   "metadata": {
    "ExecuteTime": {
     "end_time": "2024-12-08T02:00:04.251489Z",
     "start_time": "2024-12-08T02:00:04.246490Z"
    }
   },
   "cell_type": "code",
   "source": "np.linalg.norm(Z)",
   "id": "c132e4c65f90c14",
   "outputs": [
    {
     "data": {
      "text/plain": [
       "np.float64(7.211102550927978)"
      ]
     },
     "execution_count": 24,
     "metadata": {},
     "output_type": "execute_result"
    }
   ],
   "execution_count": 24
  },
  {
   "metadata": {
    "ExecuteTime": {
     "end_time": "2024-12-08T02:00:15.401482Z",
     "start_time": "2024-12-08T02:00:15.398467Z"
    }
   },
   "cell_type": "code",
   "source": "np.linalg.norm(Z, ord=1)",
   "id": "c895632e314bcb20",
   "outputs": [
    {
     "data": {
      "text/plain": [
       "np.float64(10.0)"
      ]
     },
     "execution_count": 26,
     "metadata": {},
     "output_type": "execute_result"
    }
   ],
   "execution_count": 26
  },
  {
   "metadata": {
    "ExecuteTime": {
     "end_time": "2024-12-08T02:04:12.041175Z",
     "start_time": "2024-12-08T02:04:12.034069Z"
    }
   },
   "cell_type": "code",
   "source": [
    "x = np.array([2, 5, 1, 3])\n",
    "np.mean(x)"
   ],
   "id": "7d95f9574811554d",
   "outputs": [
    {
     "data": {
      "text/plain": [
       "np.float64(2.75)"
      ]
     },
     "execution_count": 27,
     "metadata": {},
     "output_type": "execute_result"
    }
   ],
   "execution_count": 27
  },
  {
   "metadata": {
    "ExecuteTime": {
     "end_time": "2024-12-08T02:14:44.773950Z",
     "start_time": "2024-12-08T02:14:44.767231Z"
    }
   },
   "cell_type": "code",
   "source": "np.var(x)",
   "id": "90ec54abfb917364",
   "outputs": [
    {
     "data": {
      "text/plain": [
       "np.float64(2.1875)"
      ]
     },
     "execution_count": 28,
     "metadata": {},
     "output_type": "execute_result"
    }
   ],
   "execution_count": 28
  },
  {
   "metadata": {
    "ExecuteTime": {
     "end_time": "2024-12-08T02:14:50.855732Z",
     "start_time": "2024-12-08T02:14:50.853322Z"
    }
   },
   "cell_type": "code",
   "source": "np.std(x)",
   "id": "f9401514bb0900b8",
   "outputs": [
    {
     "data": {
      "text/plain": [
       "np.float64(1.479019945774904)"
      ]
     },
     "execution_count": 29,
     "metadata": {},
     "output_type": "execute_result"
    }
   ],
   "execution_count": 29
  },
  {
   "metadata": {
    "ExecuteTime": {
     "end_time": "2024-12-08T02:16:18.458541Z",
     "start_time": "2024-12-08T02:16:18.454191Z"
    }
   },
   "cell_type": "code",
   "source": [
    "import pandas as pd\n",
    "data = pd.DataFrame (\n",
    "        {'id': [ 1,2,3,4,5,6,7,8] ,\n",
    "        'Label': ['green','green','green','green',\n",
    "                  'red','red','red','red'],\n",
    "        'Height': [5, 5.5, 5.33, 5.75,\n",
    "                   6.00, 5.92, 5.58, 5.92],\n",
    "        'Weight': [100, 150, 130, 150 ,\n",
    "                   180, 190, 170, 165],\n",
    "        'Foot': [6, 8, 7, 9, 13, 11, 12, 10]} ,\n",
    "         columns = ['id','Height','Weight',\n",
    "                      'Foot','Label'] )\n",
    "                      \n",
    "print(data)"
   ],
   "id": "e48d97ce5d76514a",
   "outputs": [
    {
     "name": "stdout",
     "output_type": "stream",
     "text": [
      "   id  Height  Weight  Foot  Label\n",
      "0   1    5.00     100     6  green\n",
      "1   2    5.50     150     8  green\n",
      "2   3    5.33     130     7  green\n",
      "3   4    5.75     150     9  green\n",
      "4   5    6.00     180    13    red\n",
      "5   6    5.92     190    11    red\n",
      "6   7    5.58     170    12    red\n",
      "7   8    5.92     165    10    red\n"
     ]
    }
   ],
   "execution_count": 31
  },
  {
   "metadata": {
    "ExecuteTime": {
     "end_time": "2024-12-08T02:16:33.115546Z",
     "start_time": "2024-12-08T02:16:33.103107Z"
    }
   },
   "cell_type": "code",
   "source": "data.describe()",
   "id": "ad2c13b544e2c933",
   "outputs": [
    {
     "data": {
      "text/plain": [
       "            id    Height      Weight      Foot\n",
       "count  8.00000  8.000000    8.000000   8.00000\n",
       "mean   4.50000  5.625000  154.375000   9.50000\n",
       "std    2.44949  0.343428   28.962722   2.44949\n",
       "min    1.00000  5.000000  100.000000   6.00000\n",
       "25%    2.75000  5.457500  145.000000   7.75000\n",
       "50%    4.50000  5.665000  157.500000   9.50000\n",
       "75%    6.25000  5.920000  172.500000  11.25000\n",
       "max    8.00000  6.000000  190.000000  13.00000"
      ],
      "text/html": [
       "<div>\n",
       "<style scoped>\n",
       "    .dataframe tbody tr th:only-of-type {\n",
       "        vertical-align: middle;\n",
       "    }\n",
       "\n",
       "    .dataframe tbody tr th {\n",
       "        vertical-align: top;\n",
       "    }\n",
       "\n",
       "    .dataframe thead th {\n",
       "        text-align: right;\n",
       "    }\n",
       "</style>\n",
       "<table border=\"1\" class=\"dataframe\">\n",
       "  <thead>\n",
       "    <tr style=\"text-align: right;\">\n",
       "      <th></th>\n",
       "      <th>id</th>\n",
       "      <th>Height</th>\n",
       "      <th>Weight</th>\n",
       "      <th>Foot</th>\n",
       "    </tr>\n",
       "  </thead>\n",
       "  <tbody>\n",
       "    <tr>\n",
       "      <th>count</th>\n",
       "      <td>8.00000</td>\n",
       "      <td>8.000000</td>\n",
       "      <td>8.000000</td>\n",
       "      <td>8.00000</td>\n",
       "    </tr>\n",
       "    <tr>\n",
       "      <th>mean</th>\n",
       "      <td>4.50000</td>\n",
       "      <td>5.625000</td>\n",
       "      <td>154.375000</td>\n",
       "      <td>9.50000</td>\n",
       "    </tr>\n",
       "    <tr>\n",
       "      <th>std</th>\n",
       "      <td>2.44949</td>\n",
       "      <td>0.343428</td>\n",
       "      <td>28.962722</td>\n",
       "      <td>2.44949</td>\n",
       "    </tr>\n",
       "    <tr>\n",
       "      <th>min</th>\n",
       "      <td>1.00000</td>\n",
       "      <td>5.000000</td>\n",
       "      <td>100.000000</td>\n",
       "      <td>6.00000</td>\n",
       "    </tr>\n",
       "    <tr>\n",
       "      <th>25%</th>\n",
       "      <td>2.75000</td>\n",
       "      <td>5.457500</td>\n",
       "      <td>145.000000</td>\n",
       "      <td>7.75000</td>\n",
       "    </tr>\n",
       "    <tr>\n",
       "      <th>50%</th>\n",
       "      <td>4.50000</td>\n",
       "      <td>5.665000</td>\n",
       "      <td>157.500000</td>\n",
       "      <td>9.50000</td>\n",
       "    </tr>\n",
       "    <tr>\n",
       "      <th>75%</th>\n",
       "      <td>6.25000</td>\n",
       "      <td>5.920000</td>\n",
       "      <td>172.500000</td>\n",
       "      <td>11.25000</td>\n",
       "    </tr>\n",
       "    <tr>\n",
       "      <th>max</th>\n",
       "      <td>8.00000</td>\n",
       "      <td>6.000000</td>\n",
       "      <td>190.000000</td>\n",
       "      <td>13.00000</td>\n",
       "    </tr>\n",
       "  </tbody>\n",
       "</table>\n",
       "</div>"
      ]
     },
     "execution_count": 32,
     "metadata": {},
     "output_type": "execute_result"
    }
   ],
   "execution_count": 32
  },
  {
   "metadata": {
    "ExecuteTime": {
     "end_time": "2024-12-08T02:25:43.839948Z",
     "start_time": "2024-12-08T02:25:43.834862Z"
    }
   },
   "cell_type": "code",
   "source": [
    "height = np.array([5,5.5,5.33,5.75,6,5.92,5.58,5.92])\n",
    "weight = np.array([6,8,7,9,13,11,12,10])\n",
    "correlation = np.corrcoef(height, weight) \n",
    "correlation"
   ],
   "id": "71599daf670ab859",
   "outputs": [
    {
     "data": {
      "text/plain": [
       "array([[1.        , 0.82193197],\n",
       "       [0.82193197, 1.        ]])"
      ]
     },
     "execution_count": 34,
     "metadata": {},
     "output_type": "execute_result"
    }
   ],
   "execution_count": 34
  },
  {
   "metadata": {
    "ExecuteTime": {
     "end_time": "2024-12-08T02:26:47.780129Z",
     "start_time": "2024-12-08T02:26:47.776114Z"
    }
   },
   "cell_type": "code",
   "source": [
    "height = np.array([5,5.5,5.33,5.75])\n",
    "weight = np.array([6,8,7,9])\n",
    "correlation = np.corrcoef(height, weight)\n",
    "correlation"
   ],
   "id": "2e4689942d850e69",
   "outputs": [
    {
     "data": {
      "text/plain": [
       "array([[1.        , 0.99243692],\n",
       "       [0.99243692, 1.        ]])"
      ]
     },
     "execution_count": 36,
     "metadata": {},
     "output_type": "execute_result"
    }
   ],
   "execution_count": 36
  },
  {
   "metadata": {
    "ExecuteTime": {
     "end_time": "2024-12-08T03:52:06.458753Z",
     "start_time": "2024-12-08T03:52:06.448587Z"
    }
   },
   "cell_type": "code",
   "source": [
    "height = np.array([6,5.92,5.58,5.92])\n",
    "foot = np.array([13,11,12,10])\n",
    "np.corrcoef(height,foot)[0][1]"
   ],
   "id": "ccfcdcce0aac4a90",
   "outputs": [
    {
     "data": {
      "text/plain": [
       "np.float64(-0.06897371912250952)"
      ]
     },
     "execution_count": 39,
     "metadata": {},
     "output_type": "execute_result"
    }
   ],
   "execution_count": 39
  },
  {
   "metadata": {
    "ExecuteTime": {
     "end_time": "2024-12-08T03:47:55.508806Z",
     "start_time": "2024-12-08T03:47:55.506629Z"
    }
   },
   "cell_type": "code",
   "source": "",
   "id": "7410abf90492c4d3",
   "outputs": [],
   "execution_count": null
  },
  {
   "metadata": {
    "ExecuteTime": {
     "end_time": "2024-12-08T03:47:55.667262Z",
     "start_time": "2024-12-08T03:47:55.665661Z"
    }
   },
   "cell_type": "code",
   "source": "",
   "id": "69c66bad4461f4c8",
   "outputs": [],
   "execution_count": null
  },
  {
   "metadata": {
    "ExecuteTime": {
     "end_time": "2024-12-08T03:47:55.819894Z",
     "start_time": "2024-12-08T03:47:55.818313Z"
    }
   },
   "cell_type": "code",
   "source": "",
   "id": "3ecf81f6617dbc26",
   "outputs": [],
   "execution_count": null
  },
  {
   "metadata": {},
   "cell_type": "markdown",
   "source": "HW 1 Review",
   "id": "8073dc4bfa51aec1"
  },
  {
   "metadata": {},
   "cell_type": "code",
   "outputs": [],
   "execution_count": null,
   "source": "",
   "id": "3a83f085d9468d9"
  }
 ],
 "metadata": {
  "kernelspec": {
   "display_name": "Python 3",
   "language": "python",
   "name": "python3"
  },
  "language_info": {
   "codemirror_mode": {
    "name": "ipython",
    "version": 2
   },
   "file_extension": ".py",
   "mimetype": "text/x-python",
   "name": "python",
   "nbconvert_exporter": "python",
   "pygments_lexer": "ipython2",
   "version": "2.7.6"
  }
 },
 "nbformat": 4,
 "nbformat_minor": 5
}
