{
 "cells": [
  {
   "cell_type": "code",
   "id": "initial_id",
   "metadata": {
    "collapsed": true,
    "ExecuteTime": {
     "end_time": "2024-12-12T04:09:53.038493Z",
     "start_time": "2024-12-12T04:09:51.779946Z"
    }
   },
   "source": [
    "import pandas as pd\n",
    "from sklearn.model_selection import train_test_split\n",
    "\n",
    "data = pd.DataFrame(\n",
    "        {'id': [1,2,3,4,5,6,7,8],\n",
    "        'Label': ['green','green','green','green',\n",
    "                  'red','red','red','red'],\n",
    "        'Height': [5, 5.5, 5.33, 5.75,\n",
    "                   6.00, 5.92, 5.58, 5.92],\n",
    "        'Weight': [100, 150, 130, 150 ,\n",
    "                   180, 190, 170, 165],\n",
    "        'Foot': [6, 8, 7, 9, 13, 11, 12, 10]} ,\n",
    "         columns = ['id', 'Height', 'Weight',\n",
    "                    'Foot', 'Label'])\n",
    "\n",
    "X = data[[\"Height\",\"Weight\",\"Foot\"]]\n",
    "y = data[\"Label\"]\n",
    "\n",
    "X_train, X_test, y_train, y_test =train_test_split(X, y, train_size=0.75, stratify =y)\n",
    "\n",
    "X_train"
   ],
   "outputs": [
    {
     "data": {
      "text/plain": [
       "   Height  Weight  Foot\n",
       "7    5.92     165    10\n",
       "3    5.75     150     9\n",
       "2    5.33     130     7\n",
       "4    6.00     180    13\n",
       "0    5.00     100     6\n",
       "6    5.58     170    12"
      ],
      "text/html": [
       "<div>\n",
       "<style scoped>\n",
       "    .dataframe tbody tr th:only-of-type {\n",
       "        vertical-align: middle;\n",
       "    }\n",
       "\n",
       "    .dataframe tbody tr th {\n",
       "        vertical-align: top;\n",
       "    }\n",
       "\n",
       "    .dataframe thead th {\n",
       "        text-align: right;\n",
       "    }\n",
       "</style>\n",
       "<table border=\"1\" class=\"dataframe\">\n",
       "  <thead>\n",
       "    <tr style=\"text-align: right;\">\n",
       "      <th></th>\n",
       "      <th>Height</th>\n",
       "      <th>Weight</th>\n",
       "      <th>Foot</th>\n",
       "    </tr>\n",
       "  </thead>\n",
       "  <tbody>\n",
       "    <tr>\n",
       "      <th>7</th>\n",
       "      <td>5.92</td>\n",
       "      <td>165</td>\n",
       "      <td>10</td>\n",
       "    </tr>\n",
       "    <tr>\n",
       "      <th>3</th>\n",
       "      <td>5.75</td>\n",
       "      <td>150</td>\n",
       "      <td>9</td>\n",
       "    </tr>\n",
       "    <tr>\n",
       "      <th>2</th>\n",
       "      <td>5.33</td>\n",
       "      <td>130</td>\n",
       "      <td>7</td>\n",
       "    </tr>\n",
       "    <tr>\n",
       "      <th>4</th>\n",
       "      <td>6.00</td>\n",
       "      <td>180</td>\n",
       "      <td>13</td>\n",
       "    </tr>\n",
       "    <tr>\n",
       "      <th>0</th>\n",
       "      <td>5.00</td>\n",
       "      <td>100</td>\n",
       "      <td>6</td>\n",
       "    </tr>\n",
       "    <tr>\n",
       "      <th>6</th>\n",
       "      <td>5.58</td>\n",
       "      <td>170</td>\n",
       "      <td>12</td>\n",
       "    </tr>\n",
       "  </tbody>\n",
       "</table>\n",
       "</div>"
      ]
     },
     "execution_count": 2,
     "metadata": {},
     "output_type": "execute_result"
    }
   ],
   "execution_count": 2
  },
  {
   "metadata": {
    "ExecuteTime": {
     "end_time": "2024-12-12T04:09:54.133034Z",
     "start_time": "2024-12-12T04:09:54.126078Z"
    }
   },
   "cell_type": "code",
   "source": "X_test",
   "id": "568f02856674c75b",
   "outputs": [
    {
     "data": {
      "text/plain": [
       "   Height  Weight  Foot\n",
       "5    5.92     190    11\n",
       "1    5.50     150     8"
      ],
      "text/html": [
       "<div>\n",
       "<style scoped>\n",
       "    .dataframe tbody tr th:only-of-type {\n",
       "        vertical-align: middle;\n",
       "    }\n",
       "\n",
       "    .dataframe tbody tr th {\n",
       "        vertical-align: top;\n",
       "    }\n",
       "\n",
       "    .dataframe thead th {\n",
       "        text-align: right;\n",
       "    }\n",
       "</style>\n",
       "<table border=\"1\" class=\"dataframe\">\n",
       "  <thead>\n",
       "    <tr style=\"text-align: right;\">\n",
       "      <th></th>\n",
       "      <th>Height</th>\n",
       "      <th>Weight</th>\n",
       "      <th>Foot</th>\n",
       "    </tr>\n",
       "  </thead>\n",
       "  <tbody>\n",
       "    <tr>\n",
       "      <th>5</th>\n",
       "      <td>5.92</td>\n",
       "      <td>190</td>\n",
       "      <td>11</td>\n",
       "    </tr>\n",
       "    <tr>\n",
       "      <th>1</th>\n",
       "      <td>5.50</td>\n",
       "      <td>150</td>\n",
       "      <td>8</td>\n",
       "    </tr>\n",
       "  </tbody>\n",
       "</table>\n",
       "</div>"
      ]
     },
     "execution_count": 3,
     "metadata": {},
     "output_type": "execute_result"
    }
   ],
   "execution_count": 3
  },
  {
   "metadata": {
    "ExecuteTime": {
     "end_time": "2024-12-12T04:09:55.011035Z",
     "start_time": "2024-12-12T04:09:55.007243Z"
    }
   },
   "cell_type": "code",
   "source": "y_train",
   "id": "1ed17f6769f4d5da",
   "outputs": [
    {
     "data": {
      "text/plain": [
       "7      red\n",
       "3    green\n",
       "2    green\n",
       "4      red\n",
       "0    green\n",
       "6      red\n",
       "Name: Label, dtype: object"
      ]
     },
     "execution_count": 4,
     "metadata": {},
     "output_type": "execute_result"
    }
   ],
   "execution_count": 4
  },
  {
   "metadata": {
    "ExecuteTime": {
     "end_time": "2024-12-12T04:09:55.676881Z",
     "start_time": "2024-12-12T04:09:55.673686Z"
    }
   },
   "cell_type": "code",
   "source": "y_test",
   "id": "32f50aecf5421db4",
   "outputs": [
    {
     "data": {
      "text/plain": [
       "5      red\n",
       "1    green\n",
       "Name: Label, dtype: object"
      ]
     },
     "execution_count": 5,
     "metadata": {},
     "output_type": "execute_result"
    }
   ],
   "execution_count": 5
  },
  {
   "metadata": {
    "ExecuteTime": {
     "end_time": "2024-12-12T04:09:56.329199Z",
     "start_time": "2024-12-12T04:09:56.326277Z"
    }
   },
   "cell_type": "code",
   "source": "data ['Class'] = data['Label'].apply(lambda x: 1 if x=='green' else 0)",
   "id": "4e030fdcdcd7223c",
   "outputs": [],
   "execution_count": 6
  },
  {
   "metadata": {
    "ExecuteTime": {
     "end_time": "2024-12-12T04:10:05.822854Z",
     "start_time": "2024-12-12T04:10:05.820592Z"
    }
   },
   "cell_type": "code",
   "source": "y_true = data['Class'].values",
   "id": "f92d20282faa4ca2",
   "outputs": [],
   "execution_count": 7
  },
  {
   "metadata": {
    "ExecuteTime": {
     "end_time": "2024-12-12T04:47:03.404411Z",
     "start_time": "2024-12-12T04:47:03.387672Z"
    }
   },
   "cell_type": "code",
   "source": "y_true",
   "id": "df43693df0d125bc",
   "outputs": [
    {
     "data": {
      "text/plain": [
       "array([1, 1, 1, 1, 0, 0, 0, 0])"
      ]
     },
     "execution_count": 11,
     "metadata": {},
     "output_type": "execute_result"
    }
   ],
   "execution_count": 11
  },
  {
   "metadata": {
    "ExecuteTime": {
     "end_time": "2024-12-12T04:10:10.897233Z",
     "start_time": "2024-12-12T04:10:10.893709Z"
    }
   },
   "cell_type": "code",
   "source": [
    "y_pred_1 = [0,0,0,1,0,0,1,1]\n",
    "y_pred_2 = [0,0,1,1,0,1,1,1]\n",
    "y_pred_3 = [1,1,1,1,1,1,1,0]"
   ],
   "id": "8f3620074e649634",
   "outputs": [],
   "execution_count": 8
  },
  {
   "metadata": {
    "ExecuteTime": {
     "end_time": "2024-12-12T04:10:29.181854Z",
     "start_time": "2024-12-12T04:10:29.170843Z"
    }
   },
   "cell_type": "code",
   "source": [
    "from sklearn.metrics import confusion_matrix\n",
    "\n",
    "cf_1 = confusion_matrix(y_true, y_pred_3)\n",
    "cf_2 = confusion_matrix(y_true, y_pred_3)\n",
    "cf_3 = confusion_matrix(y_true, y_pred_3)"
   ],
   "id": "5a0c3a86a889c2fd",
   "outputs": [],
   "execution_count": 9
  },
  {
   "metadata": {
    "ExecuteTime": {
     "end_time": "2024-12-12T04:56:09.442913Z",
     "start_time": "2024-12-12T04:56:09.436184Z"
    }
   },
   "cell_type": "code",
   "source": "print(cf_3)",
   "id": "a682f8233445427a",
   "outputs": [
    {
     "name": "stdout",
     "output_type": "stream",
     "text": [
      "[[1 3]\n",
      " [0 4]]\n"
     ]
    }
   ],
   "execution_count": 12
  },
  {
   "metadata": {},
   "cell_type": "code",
   "outputs": [],
   "execution_count": null,
   "source": "",
   "id": "26659fab5bd00071"
  }
 ],
 "metadata": {
  "kernelspec": {
   "display_name": "Python 3",
   "language": "python",
   "name": "python3"
  },
  "language_info": {
   "codemirror_mode": {
    "name": "ipython",
    "version": 2
   },
   "file_extension": ".py",
   "mimetype": "text/x-python",
   "name": "python",
   "nbconvert_exporter": "python",
   "pygments_lexer": "ipython2",
   "version": "2.7.6"
  }
 },
 "nbformat": 4,
 "nbformat_minor": 5
}
