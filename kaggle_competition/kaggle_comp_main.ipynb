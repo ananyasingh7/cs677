{
 "cells": [
  {
   "metadata": {
    "ExecuteTime": {
     "end_time": "2024-12-07T03:06:04.253438Z",
     "start_time": "2024-12-07T03:06:04.199409Z"
    }
   },
   "cell_type": "code",
   "source": [
    "'''\n",
    "Name: Ananya Singh\n",
    "Class: CS677\n",
    "Date: 12/02/2024\n",
    "Kaggle Competetion Submission\n",
    "'''"
   ],
   "id": "dfe79006937fbb2c",
   "outputs": [
    {
     "data": {
      "text/plain": [
       "'\\nName: Ananya Singh\\nClass: CS677\\nDate: 12/02/2024\\nKaggle Competetion Submission\\n'"
      ]
     },
     "execution_count": 228,
     "metadata": {},
     "output_type": "execute_result"
    }
   ],
   "execution_count": 228
  },
  {
   "metadata": {
    "ExecuteTime": {
     "end_time": "2024-12-07T03:06:05.127282Z",
     "start_time": "2024-12-07T03:06:05.124007Z"
    }
   },
   "cell_type": "code",
   "source": [
    "'''\n",
    "*** NOTE FOR GRADER ****\n",
    "A lot of the work here is based on the live lectures where the professor has provided his code examples/hints where I try to leverage/tweak around with it\n",
    "'''"
   ],
   "id": "b960f24848eec162",
   "outputs": [
    {
     "data": {
      "text/plain": [
       "'\\n*** NOTE FOR GRADER ****\\nA lot of the work here is based on the live lectures where the professor has provided his code examples/hints where I try to leverage/tweak around with it\\n'"
      ]
     },
     "execution_count": 229,
     "metadata": {},
     "output_type": "execute_result"
    }
   ],
   "execution_count": 229
  },
  {
   "metadata": {
    "ExecuteTime": {
     "end_time": "2024-12-07T03:06:07.134151Z",
     "start_time": "2024-12-07T03:06:07.131055Z"
    }
   },
   "cell_type": "code",
   "source": "import pandas as pd",
   "id": "c88f3fa706210271",
   "outputs": [],
   "execution_count": 230
  },
  {
   "metadata": {
    "ExecuteTime": {
     "end_time": "2024-12-07T03:06:07.940915Z",
     "start_time": "2024-12-07T03:06:07.669758Z"
    }
   },
   "cell_type": "code",
   "source": "df = pd.read_csv('train_data.csv')",
   "id": "a5c6b8001fe412eb",
   "outputs": [],
   "execution_count": 231
  },
  {
   "metadata": {
    "ExecuteTime": {
     "end_time": "2024-12-07T03:06:08.442024Z",
     "start_time": "2024-12-07T03:06:08.348981Z"
    }
   },
   "cell_type": "code",
   "source": "test_features = pd.read_csv('test_data.csv')",
   "id": "be4c11414970918",
   "outputs": [],
   "execution_count": 232
  },
  {
   "metadata": {
    "ExecuteTime": {
     "end_time": "2024-12-07T03:06:08.972135Z",
     "start_time": "2024-12-07T03:06:08.951847Z"
    }
   },
   "cell_type": "code",
   "source": "df",
   "id": "fea799c11a587759",
   "outputs": [
    {
     "data": {
      "text/plain": [
       "       game_time  game_mode  lobby_type  objectives_len  chat_len  r1_hero_id  \\\n",
       "0            871         22           0               4         2         110   \n",
       "1           2549         22           0              17         0         114   \n",
       "2           1841         22           0               8         1         100   \n",
       "3           2211         22           7              11         3          32   \n",
       "4            458         22           7               1         0          68   \n",
       "...          ...        ...         ...             ...       ...         ...   \n",
       "29670       1664          3           0               8         0          17   \n",
       "29671       2898         22           7              26       108          89   \n",
       "29672       1246         23           0               6        10          51   \n",
       "29673       2620         22           7              15        10         114   \n",
       "29674       1111         22           7               5        12          63   \n",
       "\n",
       "       r1_kills  r1_deaths  r1_assists  r1_denies  ...  d5_camps_stacked  \\\n",
       "0             2          3          11          3  ...                 0   \n",
       "1            16          2          12         24  ...                 1   \n",
       "2             2         11          12          2  ...                 0   \n",
       "3            14          3          11         21  ...                 0   \n",
       "4             3          0           0         15  ...                 0   \n",
       "...         ...        ...         ...        ...  ...               ...   \n",
       "29670         1          6           1          8  ...                 0   \n",
       "29671         4          5          17          5  ...                 0   \n",
       "29672         9          7          15         16  ...                 0   \n",
       "29673         9          8           5         10  ...                 0   \n",
       "29674         0          2           3          3  ...                 4   \n",
       "\n",
       "       d5_rune_pickups  d5_firstblood_claimed  d5_teamfight_participation  \\\n",
       "0                   10                      1                    0.875000   \n",
       "1                   10                      0                    0.535714   \n",
       "2                   13                      0                    0.727273   \n",
       "3                    1                      0                    0.347826   \n",
       "4                    6                      0                    0.000000   \n",
       "...                ...                    ...                         ...   \n",
       "29670                4                      0                    0.363636   \n",
       "29671                7                      0                    0.476190   \n",
       "29672                3                      0                    0.433333   \n",
       "29673               11                      0                    0.780488   \n",
       "29674               16                      0                    0.555556   \n",
       "\n",
       "       d5_towers_killed  d5_roshans_killed  d5_obs_placed  d5_sen_placed  \\\n",
       "0                     0                  0              6              3   \n",
       "1                     1                  0              0              0   \n",
       "2                     0                  0              0              0   \n",
       "3                     0                  0              0              0   \n",
       "4                     0                  0              1              1   \n",
       "...                 ...                ...            ...            ...   \n",
       "29670                 1                  0              0              0   \n",
       "29671                 0                  0              0              0   \n",
       "29672                 0                  0              0              0   \n",
       "29673                 1                  0              0              0   \n",
       "29674                 1                  0              3              1   \n",
       "\n",
       "       radiant_win                                ID  \n",
       "0             True  a363534a6344f1b0be1d7ba2c4047d9a  \n",
       "1             True  a0ba4ef0965f56d2eba69c2b9ef33353  \n",
       "2             True  18873e56c2142af326b4e08ca41df63a  \n",
       "3             True  c143931a6a8b3fb55a8ef6b9f30c6933  \n",
       "4             True  5a324d8b37522e9f9684493465720023  \n",
       "...            ...                               ...  \n",
       "29670        False  db7050396622d08c6e8a5d6aeedf5f44  \n",
       "29671         True  b1259dbd78c0e36cba45c2f567c9d3de  \n",
       "29672         True  9bae67d14d950856a9693b7efd9bce3f  \n",
       "29673        False  de2e339479cf8e5697aff693d190e411  \n",
       "29674         True  4700d6bb41fc91f3400a68d48bfdc3d1  \n",
       "\n",
       "[29675 rows x 247 columns]"
      ],
      "text/html": [
       "<div>\n",
       "<style scoped>\n",
       "    .dataframe tbody tr th:only-of-type {\n",
       "        vertical-align: middle;\n",
       "    }\n",
       "\n",
       "    .dataframe tbody tr th {\n",
       "        vertical-align: top;\n",
       "    }\n",
       "\n",
       "    .dataframe thead th {\n",
       "        text-align: right;\n",
       "    }\n",
       "</style>\n",
       "<table border=\"1\" class=\"dataframe\">\n",
       "  <thead>\n",
       "    <tr style=\"text-align: right;\">\n",
       "      <th></th>\n",
       "      <th>game_time</th>\n",
       "      <th>game_mode</th>\n",
       "      <th>lobby_type</th>\n",
       "      <th>objectives_len</th>\n",
       "      <th>chat_len</th>\n",
       "      <th>r1_hero_id</th>\n",
       "      <th>r1_kills</th>\n",
       "      <th>r1_deaths</th>\n",
       "      <th>r1_assists</th>\n",
       "      <th>r1_denies</th>\n",
       "      <th>...</th>\n",
       "      <th>d5_camps_stacked</th>\n",
       "      <th>d5_rune_pickups</th>\n",
       "      <th>d5_firstblood_claimed</th>\n",
       "      <th>d5_teamfight_participation</th>\n",
       "      <th>d5_towers_killed</th>\n",
       "      <th>d5_roshans_killed</th>\n",
       "      <th>d5_obs_placed</th>\n",
       "      <th>d5_sen_placed</th>\n",
       "      <th>radiant_win</th>\n",
       "      <th>ID</th>\n",
       "    </tr>\n",
       "  </thead>\n",
       "  <tbody>\n",
       "    <tr>\n",
       "      <th>0</th>\n",
       "      <td>871</td>\n",
       "      <td>22</td>\n",
       "      <td>0</td>\n",
       "      <td>4</td>\n",
       "      <td>2</td>\n",
       "      <td>110</td>\n",
       "      <td>2</td>\n",
       "      <td>3</td>\n",
       "      <td>11</td>\n",
       "      <td>3</td>\n",
       "      <td>...</td>\n",
       "      <td>0</td>\n",
       "      <td>10</td>\n",
       "      <td>1</td>\n",
       "      <td>0.875000</td>\n",
       "      <td>0</td>\n",
       "      <td>0</td>\n",
       "      <td>6</td>\n",
       "      <td>3</td>\n",
       "      <td>True</td>\n",
       "      <td>a363534a6344f1b0be1d7ba2c4047d9a</td>\n",
       "    </tr>\n",
       "    <tr>\n",
       "      <th>1</th>\n",
       "      <td>2549</td>\n",
       "      <td>22</td>\n",
       "      <td>0</td>\n",
       "      <td>17</td>\n",
       "      <td>0</td>\n",
       "      <td>114</td>\n",
       "      <td>16</td>\n",
       "      <td>2</td>\n",
       "      <td>12</td>\n",
       "      <td>24</td>\n",
       "      <td>...</td>\n",
       "      <td>1</td>\n",
       "      <td>10</td>\n",
       "      <td>0</td>\n",
       "      <td>0.535714</td>\n",
       "      <td>1</td>\n",
       "      <td>0</td>\n",
       "      <td>0</td>\n",
       "      <td>0</td>\n",
       "      <td>True</td>\n",
       "      <td>a0ba4ef0965f56d2eba69c2b9ef33353</td>\n",
       "    </tr>\n",
       "    <tr>\n",
       "      <th>2</th>\n",
       "      <td>1841</td>\n",
       "      <td>22</td>\n",
       "      <td>0</td>\n",
       "      <td>8</td>\n",
       "      <td>1</td>\n",
       "      <td>100</td>\n",
       "      <td>2</td>\n",
       "      <td>11</td>\n",
       "      <td>12</td>\n",
       "      <td>2</td>\n",
       "      <td>...</td>\n",
       "      <td>0</td>\n",
       "      <td>13</td>\n",
       "      <td>0</td>\n",
       "      <td>0.727273</td>\n",
       "      <td>0</td>\n",
       "      <td>0</td>\n",
       "      <td>0</td>\n",
       "      <td>0</td>\n",
       "      <td>True</td>\n",
       "      <td>18873e56c2142af326b4e08ca41df63a</td>\n",
       "    </tr>\n",
       "    <tr>\n",
       "      <th>3</th>\n",
       "      <td>2211</td>\n",
       "      <td>22</td>\n",
       "      <td>7</td>\n",
       "      <td>11</td>\n",
       "      <td>3</td>\n",
       "      <td>32</td>\n",
       "      <td>14</td>\n",
       "      <td>3</td>\n",
       "      <td>11</td>\n",
       "      <td>21</td>\n",
       "      <td>...</td>\n",
       "      <td>0</td>\n",
       "      <td>1</td>\n",
       "      <td>0</td>\n",
       "      <td>0.347826</td>\n",
       "      <td>0</td>\n",
       "      <td>0</td>\n",
       "      <td>0</td>\n",
       "      <td>0</td>\n",
       "      <td>True</td>\n",
       "      <td>c143931a6a8b3fb55a8ef6b9f30c6933</td>\n",
       "    </tr>\n",
       "    <tr>\n",
       "      <th>4</th>\n",
       "      <td>458</td>\n",
       "      <td>22</td>\n",
       "      <td>7</td>\n",
       "      <td>1</td>\n",
       "      <td>0</td>\n",
       "      <td>68</td>\n",
       "      <td>3</td>\n",
       "      <td>0</td>\n",
       "      <td>0</td>\n",
       "      <td>15</td>\n",
       "      <td>...</td>\n",
       "      <td>0</td>\n",
       "      <td>6</td>\n",
       "      <td>0</td>\n",
       "      <td>0.000000</td>\n",
       "      <td>0</td>\n",
       "      <td>0</td>\n",
       "      <td>1</td>\n",
       "      <td>1</td>\n",
       "      <td>True</td>\n",
       "      <td>5a324d8b37522e9f9684493465720023</td>\n",
       "    </tr>\n",
       "    <tr>\n",
       "      <th>...</th>\n",
       "      <td>...</td>\n",
       "      <td>...</td>\n",
       "      <td>...</td>\n",
       "      <td>...</td>\n",
       "      <td>...</td>\n",
       "      <td>...</td>\n",
       "      <td>...</td>\n",
       "      <td>...</td>\n",
       "      <td>...</td>\n",
       "      <td>...</td>\n",
       "      <td>...</td>\n",
       "      <td>...</td>\n",
       "      <td>...</td>\n",
       "      <td>...</td>\n",
       "      <td>...</td>\n",
       "      <td>...</td>\n",
       "      <td>...</td>\n",
       "      <td>...</td>\n",
       "      <td>...</td>\n",
       "      <td>...</td>\n",
       "      <td>...</td>\n",
       "    </tr>\n",
       "    <tr>\n",
       "      <th>29670</th>\n",
       "      <td>1664</td>\n",
       "      <td>3</td>\n",
       "      <td>0</td>\n",
       "      <td>8</td>\n",
       "      <td>0</td>\n",
       "      <td>17</td>\n",
       "      <td>1</td>\n",
       "      <td>6</td>\n",
       "      <td>1</td>\n",
       "      <td>8</td>\n",
       "      <td>...</td>\n",
       "      <td>0</td>\n",
       "      <td>4</td>\n",
       "      <td>0</td>\n",
       "      <td>0.363636</td>\n",
       "      <td>1</td>\n",
       "      <td>0</td>\n",
       "      <td>0</td>\n",
       "      <td>0</td>\n",
       "      <td>False</td>\n",
       "      <td>db7050396622d08c6e8a5d6aeedf5f44</td>\n",
       "    </tr>\n",
       "    <tr>\n",
       "      <th>29671</th>\n",
       "      <td>2898</td>\n",
       "      <td>22</td>\n",
       "      <td>7</td>\n",
       "      <td>26</td>\n",
       "      <td>108</td>\n",
       "      <td>89</td>\n",
       "      <td>4</td>\n",
       "      <td>5</td>\n",
       "      <td>17</td>\n",
       "      <td>5</td>\n",
       "      <td>...</td>\n",
       "      <td>0</td>\n",
       "      <td>7</td>\n",
       "      <td>0</td>\n",
       "      <td>0.476190</td>\n",
       "      <td>0</td>\n",
       "      <td>0</td>\n",
       "      <td>0</td>\n",
       "      <td>0</td>\n",
       "      <td>True</td>\n",
       "      <td>b1259dbd78c0e36cba45c2f567c9d3de</td>\n",
       "    </tr>\n",
       "    <tr>\n",
       "      <th>29672</th>\n",
       "      <td>1246</td>\n",
       "      <td>23</td>\n",
       "      <td>0</td>\n",
       "      <td>6</td>\n",
       "      <td>10</td>\n",
       "      <td>51</td>\n",
       "      <td>9</td>\n",
       "      <td>7</td>\n",
       "      <td>15</td>\n",
       "      <td>16</td>\n",
       "      <td>...</td>\n",
       "      <td>0</td>\n",
       "      <td>3</td>\n",
       "      <td>0</td>\n",
       "      <td>0.433333</td>\n",
       "      <td>0</td>\n",
       "      <td>0</td>\n",
       "      <td>0</td>\n",
       "      <td>0</td>\n",
       "      <td>True</td>\n",
       "      <td>9bae67d14d950856a9693b7efd9bce3f</td>\n",
       "    </tr>\n",
       "    <tr>\n",
       "      <th>29673</th>\n",
       "      <td>2620</td>\n",
       "      <td>22</td>\n",
       "      <td>7</td>\n",
       "      <td>15</td>\n",
       "      <td>10</td>\n",
       "      <td>114</td>\n",
       "      <td>9</td>\n",
       "      <td>8</td>\n",
       "      <td>5</td>\n",
       "      <td>10</td>\n",
       "      <td>...</td>\n",
       "      <td>0</td>\n",
       "      <td>11</td>\n",
       "      <td>0</td>\n",
       "      <td>0.780488</td>\n",
       "      <td>1</td>\n",
       "      <td>0</td>\n",
       "      <td>0</td>\n",
       "      <td>0</td>\n",
       "      <td>False</td>\n",
       "      <td>de2e339479cf8e5697aff693d190e411</td>\n",
       "    </tr>\n",
       "    <tr>\n",
       "      <th>29674</th>\n",
       "      <td>1111</td>\n",
       "      <td>22</td>\n",
       "      <td>7</td>\n",
       "      <td>5</td>\n",
       "      <td>12</td>\n",
       "      <td>63</td>\n",
       "      <td>0</td>\n",
       "      <td>2</td>\n",
       "      <td>3</td>\n",
       "      <td>3</td>\n",
       "      <td>...</td>\n",
       "      <td>4</td>\n",
       "      <td>16</td>\n",
       "      <td>0</td>\n",
       "      <td>0.555556</td>\n",
       "      <td>1</td>\n",
       "      <td>0</td>\n",
       "      <td>3</td>\n",
       "      <td>1</td>\n",
       "      <td>True</td>\n",
       "      <td>4700d6bb41fc91f3400a68d48bfdc3d1</td>\n",
       "    </tr>\n",
       "  </tbody>\n",
       "</table>\n",
       "<p>29675 rows × 247 columns</p>\n",
       "</div>"
      ]
     },
     "execution_count": 233,
     "metadata": {},
     "output_type": "execute_result"
    }
   ],
   "execution_count": 233
  },
  {
   "metadata": {
    "ExecuteTime": {
     "end_time": "2024-12-07T03:06:10.085286Z",
     "start_time": "2024-12-07T03:06:10.060924Z"
    }
   },
   "cell_type": "code",
   "source": "df.info()",
   "id": "77709f67d8773ed0",
   "outputs": [
    {
     "name": "stdout",
     "output_type": "stream",
     "text": [
      "<class 'pandas.core.frame.DataFrame'>\n",
      "RangeIndex: 29675 entries, 0 to 29674\n",
      "Columns: 247 entries, game_time to ID\n",
      "dtypes: bool(1), float64(30), int64(215), object(1)\n",
      "memory usage: 55.7+ MB\n"
     ]
    }
   ],
   "execution_count": 234
  },
  {
   "metadata": {
    "ExecuteTime": {
     "end_time": "2024-12-07T03:06:10.898627Z",
     "start_time": "2024-12-07T03:06:10.884263Z"
    }
   },
   "cell_type": "code",
   "source": [
    "# df[[x for x in df.columns if 'rosh' in x]]\n",
    "df['radient_killed_roshan'] = df[['r1_roshans_killed',\n",
    "   'r2_roshans_killed',\n",
    "   'r3_roshans_killed',\n",
    "   'r4_roshans_killed',\n",
    "   'r5_roshans_killed'\n",
    "]].sum(axis=1)\n",
    "\n",
    "df['radient_killed_roshan']"
   ],
   "id": "8be20b1ba816f9c",
   "outputs": [
    {
     "data": {
      "text/plain": [
       "0        0\n",
       "1        1\n",
       "2        0\n",
       "3        0\n",
       "4        0\n",
       "        ..\n",
       "29670    0\n",
       "29671    2\n",
       "29672    0\n",
       "29673    0\n",
       "29674    0\n",
       "Name: radient_killed_roshan, Length: 29675, dtype: int64"
      ]
     },
     "execution_count": 235,
     "metadata": {},
     "output_type": "execute_result"
    }
   ],
   "execution_count": 235
  },
  {
   "metadata": {
    "ExecuteTime": {
     "end_time": "2024-12-07T03:06:11.573434Z",
     "start_time": "2024-12-07T03:06:11.568372Z"
    }
   },
   "cell_type": "code",
   "source": [
    "test_features['radient_killed_roshan'] = test_features[[\n",
    "    'r1_roshans_killed',\n",
    "    'r2_roshans_killed',\n",
    "    'r3_roshans_killed',\n",
    "    'r4_roshans_killed',\n",
    "    'r5_roshans_killed'\n",
    "]].sum(axis=1)"
   ],
   "id": "816ceb9ac9496056",
   "outputs": [],
   "execution_count": 236
  },
  {
   "metadata": {
    "ExecuteTime": {
     "end_time": "2024-12-03T02:53:41.207302Z",
     "start_time": "2024-12-03T02:53:41.201255Z"
    }
   },
   "cell_type": "code",
   "source": "# X_train, X_val = train_test_split(df, test_size=0.2)",
   "id": "a686c975f02c6da3",
   "outputs": [],
   "execution_count": 56
  },
  {
   "metadata": {},
   "cell_type": "code",
   "outputs": [],
   "execution_count": null,
   "source": [
    "# y_train = X_train['radiant_win']\n",
    "# X_train = X_train.drop(['radiant_win', 'ID'], axis=1)\n",
    "\n",
    "# y_val = X_val['radiant_win']\n",
    "# X_val = X_val.drop(['radiant_win', 'ID'], axis=1)\n",
    "\n",
    "\n",
    "# X_test = test_features.drop('ID', axis=1)"
   ],
   "id": "304adc59173b04"
  },
  {
   "metadata": {},
   "cell_type": "code",
   "outputs": [],
   "execution_count": null,
   "source": "",
   "id": "f12a221f06f28c0f"
  },
  {
   "metadata": {
    "ExecuteTime": {
     "end_time": "2024-12-07T03:06:14.803719Z",
     "start_time": "2024-12-07T03:06:14.782358Z"
    }
   },
   "cell_type": "code",
   "source": [
    "# Feature Engineering  from lecture 4\n",
    "\n",
    "# Professor has stated that FIRST BLOOD is a pretty big signal and add_hero_features() method will be VERY helpful for feature engineering\n",
    "\n",
    "# Below are methods professor created\n",
    "'''\n",
    "import numpy as np\n",
    "import pandas as pd\n",
    "from sklearn.model_selection import train_test_split\n",
    "from sklearn.preprocessing import StandardScaler\n",
    "from sklearn.metrics import accuracy_score, roc_auc_score\n",
    "'''\n",
    "\n",
    "def safe_divide(a, b):\n",
    "    \"\"\"Safe division for pandas Series that handles zeros\"\"\"\n",
    "    return pd.Series(np.divide(a, b, where=b != 0)).fillna(0)\n",
    "\n",
    "def add_lane_dominance_features(df):\n",
    "    for i in range(6):\n",
    "        r_prefix = f\"r{i}\"\n",
    "        d_prefix = f\"d{i}\"\n",
    "\n",
    "        # Last hit efficiency\n",
    "        df[f\"{r_prefix}_lane_control\"] = df[f\"{r_prefix}_lh\"] / (df[f\"{r_prefix}_denies\"] + 1)\n",
    "        df[f\"{d_prefix}_lane_control\"] = df[f\"{d_prefix}_lh\"] / (df[f\"{d_prefix}_denies\"] + 1)\n",
    "\n",
    "        # Gold per minute\n",
    "        minutes = df[\"game_time\"].clip(lower=60) / 60  # minimum 1 minute\n",
    "        df[f\"{r_prefix}_gold_per_min\"] = df[f\"{r_prefix}_gold\"] / minutes\n",
    "        df[f\"{d_prefix}_gold_per_min\"] = df[f\"{d_prefix}_gold\"] / minutes\n",
    "\n",
    "        # KDA\n",
    "        df[f\"{r_prefix}_kda\"] = (df[f\"{r_prefix}_kills\"] + df[f\"{r_prefix}_assists\"]) / (df[f\"{r_prefix}_deaths\"] + 1)\n",
    "        df[f\"{d_prefix}_kda\"] = (df[f\"{d_prefix}_kills\"] + df[f\"{d_prefix}_assists\"]) / (df[f\"{d_prefix}_deaths\"] + 1)\n",
    "\n",
    "    return df\n",
    "\n",
    "'''\n",
    "def add_team_features(df):\n",
    "    # Radiant team totals\n",
    "    r_kills = df[[f\"r{i}_kills\" for i in range(1, 6)]].sum(axis=1)\n",
    "    r_deaths = df[[f\"r{i}_deaths\" for i in range(1, 6)]].sum(axis=1)\n",
    "    r_assists = df[[f\"r{i}_assists\" for i in range(1, 6)]].sum(axis=1)\n",
    "    r_gold = df[[f\"r{i}_gold\" for i in range(1, 6)]].sum(axis=1)\n",
    "    r_xp = df[[f\"r{i}_xp\" for i in range(1, 6)]].sum(axis=1)\n",
    "\n",
    "    # Dire team totals\n",
    "    d_kills = df[[f\"d{i}_kills\" for i in range(1, 6)]].sum(axis=1)\n",
    "    d_deaths = df[[f\"d{i}_deaths\" for i in range(1, 6)]].sum(axis=1)\n",
    "    d_assists = df[[f\"d{i}_assists\" for i in range(1, 6)]].sum(axis=1)\n",
    "    d_gold = df[[f\"d{i}_gold\" for i in range(1, 6)]].sum(axis=1)\n",
    "    d_xp = df[[f\"d{i}_xp\" for i in range(1, 6)]].sum(axis=1)\n",
    "\n",
    "    # Team KDAs\n",
    "    df[\"radiant_team_kda\"] = (r_kills + r_assists) / (r_deaths + 1)\n",
    "    df[\"dire_team_kda\"] = (d_kills + d_assists) / (d_deaths + 1)\n",
    "\n",
    "    # Resource advantages (normalized)\n",
    "    total_gold = r_gold + d_gold\n",
    "    total_xp = r_xp + d_xp\n",
    "\n",
    "    df[\"gold_advantage\"] = (r_gold - d_gold) / total_gold.replace(0, 1)\n",
    "    df[\"xp_advantage\"] = (r_xp - d_xp) / total_xp.replace(0, 1)\n",
    "    df[\"kill_advantage\"] = r_kills - d_kills\n",
    "\n",
    "    return df\n",
    "'''\n",
    "\n",
    "def add_objective_features(df):\n",
    "    # Vision control\n",
    "    r_obs = df[[f\"r{i}_obs_placed\" for i in range(1, 6)]].sum(axis=1)\n",
    "    r_sen = df[[f\"r{i}_sen_placed\" for i in range(1, 6)]].sum(axis=1)\n",
    "    d_obs = df[[f\"d{i}_obs_placed\" for i in range(1, 6)]].sum(axis=1)\n",
    "    d_sen = df[[f\"d{i}_sen_placed\" for i in range(1, 6)]].sum(axis=1)\n",
    "\n",
    "    df[\"vision_advantage\"] = (r_obs + r_sen) - (d_obs + d_sen)\n",
    "\n",
    "    # Tower control\n",
    "    r_towers = df[[f\"r{i}_towers_killed\" for i in range(1, 6)]].sum(axis=1)\n",
    "    d_towers = df[[f\"d{i}_towers_killed\" for i in range(1, 6)]].sum(axis=1)\n",
    "\n",
    "    df[\"tower_advantage\"] = r_towers - d_towers\n",
    "\n",
    "    # First blood\n",
    "    r_fb = df[[f\"r{i}_firstblood_claimed\" for i in range(1, 6)]].sum(axis=1)\n",
    "    d_fb = df[[f\"d{i}_firstblood_claimed\" for i in range(1, 6)]].sum(axis=1)\n",
    "\n",
    "    df[\"first_blood\"] = r_fb - d_fb\n",
    "\n",
    "    return df\n",
    "\n",
    "def add_fighting_features(df):\n",
    "    # Team fight participation\n",
    "    for team in ['r', 'd']:\n",
    "        tf_cols = [f\"{team}{i}_teamfight_participation\" for i in range(1, 6)]\n",
    "        df[f\"{team}_avg_teamfight_participation\"] = df[tf_cols].mean(axis=1)\n",
    "\n",
    "    # Stuns\n",
    "    for team in ['r', 'd']:\n",
    "        stuns_cols = [f\"{team}{i}_stuns\" for i in range(1, 6)]\n",
    "        df[f\"{team}_total_stuns\"] = df[stuns_cols].sum(axis=1)\n",
    "\n",
    "    # Last hits\n",
    "    for team in ['r', 'd']:\n",
    "        lh_cols = [f\"{team}{i}_lh\" for i in range(1, 6)]\n",
    "        df[f\"{team}_total_lh\"] = df[lh_cols].sum(axis=1)\n",
    "\n",
    "    # Last hit advantage\n",
    "    df[\"lh_advantage\"] = df[\"r_total_lh\"] - df[\"d_total_lh\"]\n",
    "\n",
    "    return df\n",
    "\n",
    "def prepare_features(df):\n",
    "    df = df.copy()\n",
    "    df = add_lane_dominance_features(df)\n",
    "    df = add_team_features(df)\n",
    "    df = add_objective_features(df)\n",
    "    df = add_fighting_features(df)\n",
    "\n",
    "    # Replace infinities with 0\n",
    "    df = df.replace([np.inf, -np.inf], 0)\n",
    "    \n",
    "    # Fill NaN values with 0\n",
    "    df = df.fillna(0)\n",
    "\n",
    "    return df\n",
    "\n",
    "def add_hero_features(df):\n",
    "    # Create hero pair features\n",
    "    radiant_heroes = df[[\"r1_hero_id\", \"r2_hero_id\", \"r3_hero_id\", \"r4_hero_id\", \"r5_hero_id\"]].values\n",
    "    dire_heroes = df[[\"d1_hero_id\", \"d2_hero_id\", \"d3_hero_id\", \"d4_hero_id\", \"d5_hero_id\"]].values\n",
    "\n",
    "    # Calculate hero synergies (simple counter for now)\n",
    "    for i in range(5):\n",
    "        for j in range(5):\n",
    "            df[f\"r_hero_synergy_{i}_{j}\"] = radiant_heroes[:, i] * radiant_heroes[:, j]\n",
    "            df[f\"d_hero_synergy_{i}_{j}\"] = dire_heroes[:, i] * dire_heroes[:, j]\n",
    "\n",
    "    # Calculate counters\n",
    "    for i in range(5):\n",
    "        for j in range(5):\n",
    "            df[f\"hero_counter_{i}_{j}\"] = radiant_heroes[:, i] * dire_heroes[:, j]\n",
    "\n",
    "    return df\n",
    "\n",
    "#end of lecture\n",
    "\n",
    "def add_team_features(df):\n",
    "    r_kills = df[[f\"r{i}_kills\" for i in range(1, 6)]].sum(axis=1)\n",
    "    r_deaths = df[[f\"r{i}_deaths\" for i in range(1, 6)]].sum(axis=1)\n",
    "    r_assists = df[[f\"r{i}_assists\" for i in range(1, 6)]].sum(axis=1)\n",
    "    r_denies = df[[f\"r{i}_denies\" for i in range(1, 6)]].sum(axis=1)\n",
    "    r_gold = df[[f\"r{i}_gold\" for i in range(1, 6)]].sum(axis=1)\n",
    "    r_xp = df[[f\"r{i}_xp\" for i in range(1, 6)]].sum(axis=1)\n",
    "    r_level = df[[f\"r{i}_level\" for i in range(1, 6)]].sum(axis=1)\n",
    "\n",
    "    d_kills = df[[f\"d{i}_kills\" for i in range(1, 6)]].sum(axis=1)\n",
    "    d_deaths = df[[f\"d{i}_deaths\" for i in range(1, 6)]].sum(axis=1)\n",
    "    d_assists = df[[f\"d{i}_assists\" for i in range(1, 6)]].sum(axis=1)\n",
    "    d_denies = df[[f\"d{i}_denies\" for i in range(1, 6)]].sum(axis=1)\n",
    "    d_gold = df[[f\"d{i}_gold\" for i in range(1, 6)]].sum(axis=1)\n",
    "    d_xp = df[[f\"d{i}_xp\" for i in range(1, 6)]].sum(axis=1)\n",
    "    d_level = df[[f\"d{i}_level\" for i in range(1, 6)]].sum(axis=1)\n",
    "\n",
    "    df[\"kills_advantage\"] = r_kills - d_kills\n",
    "    df[\"deaths_advantage\"] = r_deaths - d_deaths\n",
    "    df[\"assists_advantage\"] = r_assists - d_assists\n",
    "    df[\"denies_advantage\"] = r_denies - d_denies\n",
    "    df[\"gold_advantage\"] = r_gold - d_gold\n",
    "    df[\"xp_advantage\"] = r_xp - d_xp\n",
    "    df[\"level_advantage\"] = r_level - d_level\n",
    "\n",
    "    df[\"kills_ratio\"] = r_kills / (d_kills + 1e-3)\n",
    "    df[\"deaths_ratio\"] = r_deaths / (d_deaths + 1e-3)\n",
    "    df[\"assists_ratio\"] = r_assists / (d_assists + 1e-3)\n",
    "    df[\"denies_ratio\"] = r_denies / (d_denies + 1e-3)\n",
    "    df[\"gold_ratio\"] = r_gold / (d_gold + 1e-3)\n",
    "    df[\"xp_ratio\"] = r_xp / (d_xp + 1e-3)\n",
    "    df[\"level_ratio\"] = r_level / (d_level + 1e-3)\n",
    "\n",
    "    return df"
   ],
   "id": "786f26ce904eb94e",
   "outputs": [],
   "execution_count": 237
  },
  {
   "metadata": {
    "ExecuteTime": {
     "end_time": "2024-12-07T03:06:16.288749Z",
     "start_time": "2024-12-07T03:06:16.188279Z"
    }
   },
   "cell_type": "code",
   "source": [
    "df = add_team_features(df)\n",
    "df = add_hero_features(df)\n",
    "df = add_objective_features(df)\n",
    "\n",
    "test_features = add_team_features(test_features)\n",
    "test_features = add_hero_features(test_features)\n",
    "test_features = add_objective_features(test_features)"
   ],
   "id": "6d8782b22d1be875",
   "outputs": [],
   "execution_count": 238
  },
  {
   "metadata": {
    "ExecuteTime": {
     "end_time": "2024-12-07T03:06:17.084070Z",
     "start_time": "2024-12-07T03:06:17.018796Z"
    }
   },
   "cell_type": "code",
   "source": [
    "from sklearn.model_selection import train_test_split\n",
    "\n",
    "X_train, X_val = train_test_split(df, test_size=0.2)"
   ],
   "id": "fb7e4eab71cde13",
   "outputs": [],
   "execution_count": 239
  },
  {
   "metadata": {
    "ExecuteTime": {
     "end_time": "2024-12-07T03:06:17.746358Z",
     "start_time": "2024-12-07T03:06:17.697769Z"
    }
   },
   "cell_type": "code",
   "source": [
    "y_train = X_train['radiant_win']\n",
    "X_train = X_train.drop(['radiant_win', 'ID'], axis=1)\n",
    "\n",
    "y_val = X_val['radiant_win']\n",
    "X_val = X_val.drop(['radiant_win', 'ID'], axis=1)\n",
    "\n",
    "X_test = test_features.drop('ID', axis=1)"
   ],
   "id": "28c999f5b80786d4",
   "outputs": [],
   "execution_count": 240
  },
  {
   "metadata": {
    "ExecuteTime": {
     "end_time": "2024-12-07T03:06:18.596242Z",
     "start_time": "2024-12-07T03:06:18.592905Z"
    }
   },
   "cell_type": "code",
   "source": "X_train.shape",
   "id": "3ba737a339c389ba",
   "outputs": [
    {
     "data": {
      "text/plain": [
       "(23740, 338)"
      ]
     },
     "execution_count": 241,
     "metadata": {},
     "output_type": "execute_result"
    }
   ],
   "execution_count": 241
  },
  {
   "metadata": {
    "ExecuteTime": {
     "end_time": "2024-12-04T04:34:50.515213Z",
     "start_time": "2024-12-04T04:34:50.512237Z"
    }
   },
   "cell_type": "code",
   "source": [
    "# from sklearn.preprocessing import StandardScaler\n",
    "# scaler = StandardScaler()\n",
    "# X_train = scaler.fit_transform(X_train)\n",
    "# X_val = scaler.transform(X_val)\n",
    "# X_test = scaler.transform(X_test)"
   ],
   "id": "663674dd5729cb1b",
   "outputs": [],
   "execution_count": 147
  },
  {
   "metadata": {},
   "cell_type": "code",
   "outputs": [],
   "execution_count": null,
   "source": [
    "# for threshold in [0.1, 0.2, 0.3, 0.4, 0.5, 0.6, 0.7, 0.8, 0.9]:\n",
    "'''\n",
    "y_val_probas = model.predict_proba(X_val)\n",
    "y_val_pred = y_val_probas[:, 1]\n",
    "roc_auc = roc_auc_score(y_val, y_val_pred)\n",
    "accuracy = accuracy_score(y_val, y_val_pred > 0.5)\n",
    "print(\"Validation ROC AUC:\", roc_auc)\n",
    "print(\"Validation Accuracy:\", accuracy)\n",
    "print('--------')\n",
    "'''"
   ],
   "id": "4ac19b76f054abd0"
  },
  {
   "metadata": {},
   "cell_type": "code",
   "outputs": [],
   "execution_count": null,
   "source": [
    "'''\n",
    "from sklearn.preprocessing import StandardScaler\n",
    "from sklearn.linear_model import LogisticRegression\n",
    "from sklearn.metrics import roc_auc_score, accuracy_score\n",
    "from sklearn.ensemble import GradientBoostingClassifier\n",
    "from lightgbm import LGBMClassifier\n",
    "\n",
    "# Logistic Regression model\n",
    "model = LogisticRegression(C=0.10)\n",
    "\n",
    "\n",
    "model = LGBMClassifier(\n",
    "    n_estimators=200,\n",
    "    learning_rate=0.1,\n",
    "    num_leaves=31,\n",
    "    random_state=42\n",
    ")\n",
    "\n",
    "model = GradientBoostingClassifier(n_estimators=100)\n",
    "\n",
    "model.fit(X_train, y_train)\n",
    "'''"
   ],
   "id": "f1f31ed182481000"
  },
  {
   "metadata": {
    "ExecuteTime": {
     "end_time": "2024-12-07T03:06:23.069361Z",
     "start_time": "2024-12-07T03:06:22.797952Z"
    }
   },
   "cell_type": "code",
   "source": [
    "from sklearn.preprocessing import RobustScaler\n",
    "\n",
    "scaler = RobustScaler()\n",
    "X_train = scaler.fit_transform(X_train)\n",
    "X_val = scaler.transform(X_val)\n",
    "X_test = scaler.transform(X_test)"
   ],
   "id": "73cf8fc90729d87e",
   "outputs": [],
   "execution_count": 242
  },
  {
   "metadata": {},
   "cell_type": "code",
   "outputs": [],
   "execution_count": null,
   "source": "",
   "id": "6d9d213929812bae"
  },
  {
   "metadata": {},
   "cell_type": "code",
   "outputs": [],
   "execution_count": null,
   "source": [
    "'''\n",
    "from sklearn.feature_selection import SelectFromModel\n",
    "from sklearn.ensemble import RandomForestClassifier\n",
    "\n",
    "def select_features(X_train, y_train, X_val, X_test):\n",
    "    selector = SelectFromModel(\n",
    "        RandomForestClassifier(n_estimators=100, random_state=42),\n",
    "        prefit=False,\n",
    "        max_features=300\n",
    "    )\n",
    "    selector.fit(X_train, y_train)\n",
    "\n",
    "    X_train_selected = selector.transform(X_train)\n",
    "    X_val_selected = selector.transform(X_val)\n",
    "    X_test_selected = selector.transform(X_test)\n",
    "\n",
    "    return X_train_selected, X_val_selected, X_test_selected, selector\n",
    "\n",
    "# Example usage\n",
    "X_train_selected, X_val_selected, X_test_selected, selector = select_features(X_train, y_train, X_val, X_test)\n",
    "'''"
   ],
   "id": "83b273615e95c09"
  },
  {
   "metadata": {
    "ExecuteTime": {
     "end_time": "2024-12-07T03:16:06.381996Z",
     "start_time": "2024-12-07T03:15:57.727691Z"
    }
   },
   "cell_type": "code",
   "source": [
    "from sklearn.feature_selection import RFE\n",
    "from sklearn.ensemble import RandomForestClassifier\n",
    "\n",
    "rf_selector = RandomForestClassifier(random_state=42, n_estimators=100)\n",
    "rfe = RFE(estimator=rf_selector, n_features_to_select=50, step=10)\n",
    "X_train = rfe.fit_transform(X_train, y_train)\n",
    "X_val = rfe.transform(X_val)\n",
    "X_test = rfe.transform(X_test)"
   ],
   "id": "a5239d0a52095222",
   "outputs": [],
   "execution_count": 245
  },
  {
   "metadata": {
    "ExecuteTime": {
     "end_time": "2024-12-04T13:01:08.080301Z",
     "start_time": "2024-12-04T13:01:08.077017Z"
    }
   },
   "cell_type": "code",
   "source": [
    "'''\n",
    "The main parameters used by a Random Forest Classifier are:\n",
    "\n",
    "n_estimators = number of trees in the ensamble.\n",
    "criterion = the function used to evaluate the quality of a split.\n",
    "max_depth = maximum number of levels allowed in each tree.\n",
    "max_features = maximum number of features considered when splitting a node.\n",
    "min_samples_leaf = minimum number of samples which can be stored in a tree leaf.\n",
    "min_samples_split = minimum number of samples necessary in a node to cause node splitting.\n",
    "'''"
   ],
   "id": "a47cf41d9347aac2",
   "outputs": [
    {
     "data": {
      "text/plain": [
       "'\\nThe main parameters used by a Random Forest Classifier are:\\n\\ncriterion = the function used to evaluate the quality of a split.\\nmax_depth = maximum number of levels allowed in each tree.\\nmax_features = maximum number of features considered when splitting a node.\\nmin_samples_leaf = minimum number of samples which can be stored in a tree leaf.\\nmin_samples_split = minimum number of samples necessary in a node to cause node splitting.\\nn_estimators = number of trees in the ensamble.\\n'"
      ]
     },
     "execution_count": 178,
     "metadata": {},
     "output_type": "execute_result"
    }
   ],
   "execution_count": 178
  },
  {
   "metadata": {
    "ExecuteTime": {
     "end_time": "2024-12-07T03:17:30.647852Z",
     "start_time": "2024-12-07T03:17:30.633120Z"
    }
   },
   "cell_type": "code",
   "source": [
    "from sklearn.model_selection import GridSearchCV\n",
    "\n",
    "def create_rf_param_grid():\n",
    "    return {\n",
    "        'n_estimators': [150, 300], \n",
    "        'max_depth': [20, 40],\n",
    "        'min_samples_split': [5, 10],\n",
    "        'min_samples_leaf': [2, 4], \n",
    "        'max_features': ['sqrt', 'log2'], # commonly used feature selection methods\n",
    "        'class_weight': [None, 'balanced'],\n",
    "    } \n",
    "\n",
    "def perform_grid_search(X_train, y_train, param_grid=None, cv=3, n_jobs=-1):\n",
    "    if param_grid is None:\n",
    "        param_grid = create_rf_param_grid()\n",
    "\n",
    "    base_model = RandomForestClassifier(random_state=42)\n",
    "    grid_search = GridSearchCV(\n",
    "        estimator=base_model,\n",
    "        param_grid=param_grid,\n",
    "        cv=cv,\n",
    "        scoring='roc_auc',\n",
    "        verbose=2,\n",
    "        n_jobs=n_jobs\n",
    "    )\n",
    "\n",
    "    grid_search.fit(X_train, y_train)\n",
    "    \n",
    "    print(f\"Best parameters found: {grid_search.best_params_}\")\n",
    "    print(f\"Best ROC-AUC score: {grid_search.best_score_:.4f}\")\n",
    "    \n",
    "    return grid_search.best_estimator_, grid_search\n"
   ],
   "id": "27a71697a168471b",
   "outputs": [],
   "execution_count": 246
  },
  {
   "metadata": {
    "ExecuteTime": {
     "end_time": "2024-12-07T03:21:30.055862Z",
     "start_time": "2024-12-07T03:17:31.317830Z"
    }
   },
   "cell_type": "code",
   "source": "model, grid_search = perform_grid_search(X_train, y_train)",
   "id": "3069c59b9521efb6",
   "outputs": [
    {
     "name": "stdout",
     "output_type": "stream",
     "text": [
      "Fitting 3 folds for each of 64 candidates, totalling 192 fits\n",
      "Best parameters found: {'class_weight': 'balanced', 'max_depth': 20, 'max_features': 'log2', 'min_samples_leaf': 4, 'min_samples_split': 5, 'n_estimators': 300}\n",
      "Best ROC-AUC score: 0.8184\n"
     ]
    }
   ],
   "execution_count": 247
  },
  {
   "metadata": {
    "ExecuteTime": {
     "end_time": "2024-12-07T03:34:48.171142Z",
     "start_time": "2024-12-07T03:34:47.970728Z"
    }
   },
   "cell_type": "code",
   "source": [
    "from sklearn.metrics import roc_auc_score, accuracy_score\n",
    "\n",
    "y_val_probas = model.predict_proba(X_val)\n",
    "y_val_pred = y_val_probas[:, 1]\n",
    "roc_auc = roc_auc_score(y_val, y_val_pred)\n",
    "accuracy = accuracy_score(y_val, y_val_pred > 0.5)\n",
    "print(\"Validation ROC AUC:\", roc_auc)\n",
    "print(\"Validation Accuracy:\", accuracy)\n",
    "print('--------')"
   ],
   "id": "fdda8094d82e04fa",
   "outputs": [
    {
     "name": "stdout",
     "output_type": "stream",
     "text": [
      "Validation ROC AUC: 0.8168260736354122\n",
      "Validation Accuracy: 0.7277169334456614\n",
      "--------\n"
     ]
    }
   ],
   "execution_count": 248
  },
  {
   "metadata": {
    "ExecuteTime": {
     "end_time": "2024-12-07T03:34:49.731817Z",
     "start_time": "2024-12-07T03:34:49.727715Z"
    }
   },
   "cell_type": "code",
   "source": "print(\"Best Params:\", grid_search.best_params_)",
   "id": "13014381be69abd",
   "outputs": [
    {
     "name": "stdout",
     "output_type": "stream",
     "text": [
      "Best Params: {'class_weight': 'balanced', 'max_depth': 20, 'max_features': 'log2', 'min_samples_leaf': 4, 'min_samples_split': 5, 'n_estimators': 300}\n"
     ]
    }
   ],
   "execution_count": 249
  },
  {
   "metadata": {
    "ExecuteTime": {
     "end_time": "2024-12-07T03:34:50.579676Z",
     "start_time": "2024-12-07T03:34:50.283606Z"
    }
   },
   "cell_type": "code",
   "source": "y_test_pred = model.predict_proba(X_test)[:, 1]",
   "id": "240c979a34f62021",
   "outputs": [],
   "execution_count": 250
  },
  {
   "metadata": {
    "ExecuteTime": {
     "end_time": "2024-12-07T03:34:50.724431Z",
     "start_time": "2024-12-07T03:34:50.720269Z"
    }
   },
   "cell_type": "code",
   "source": "y_test_pred.shape",
   "id": "d287aae7c8eeb326",
   "outputs": [
    {
     "data": {
      "text/plain": [
       "(10000,)"
      ]
     },
     "execution_count": 251,
     "metadata": {},
     "output_type": "execute_result"
    }
   ],
   "execution_count": 251
  },
  {
   "metadata": {
    "ExecuteTime": {
     "end_time": "2024-12-07T03:34:51.690695Z",
     "start_time": "2024-12-07T03:34:51.687539Z"
    }
   },
   "cell_type": "code",
   "source": "y_test_pred",
   "id": "9ed06318bb99ee51",
   "outputs": [
    {
     "data": {
      "text/plain": [
       "array([0.29334029, 0.4132065 , 0.61063144, ..., 0.05895948, 0.6881677 ,\n",
       "       0.74359689])"
      ]
     },
     "execution_count": 252,
     "metadata": {},
     "output_type": "execute_result"
    }
   ],
   "execution_count": 252
  },
  {
   "metadata": {
    "ExecuteTime": {
     "end_time": "2024-12-07T03:34:52.383257Z",
     "start_time": "2024-12-07T03:34:52.355746Z"
    }
   },
   "cell_type": "code",
   "source": [
    "import numpy as np\n",
    "submission_array = np.vstack([test_features['ID'].values, y_test_pred]).T\n",
    "submission_df = pd.DataFrame(submission_array, columns=['ID', 'radiant_win']).reset_index(drop=True)\n",
    "submission_df.to_csv('final_submission_during_class.csv', index=None)"
   ],
   "id": "1aa04c462c30acd1",
   "outputs": [],
   "execution_count": 253
  },
  {
   "metadata": {},
   "cell_type": "code",
   "outputs": [],
   "execution_count": null,
   "source": "",
   "id": "96aac7b44340ca46"
  }
 ],
 "metadata": {
  "kernelspec": {
   "display_name": "Python 3",
   "language": "python",
   "name": "python3"
  },
  "language_info": {
   "codemirror_mode": {
    "name": "ipython",
    "version": 2
   },
   "file_extension": ".py",
   "mimetype": "text/x-python",
   "name": "python",
   "nbconvert_exporter": "python",
   "pygments_lexer": "ipython2",
   "version": "2.7.6"
  }
 },
 "nbformat": 4,
 "nbformat_minor": 5
}
